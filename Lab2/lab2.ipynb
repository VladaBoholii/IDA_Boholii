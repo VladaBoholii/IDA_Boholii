{
 "cells": [
  {
   "cell_type": "markdown",
   "id": "f44a2f2b",
   "metadata": {},
   "source": [
    "# 100 numpy exercises\n",
    "\n",
    "This is a collection of exercises that have been collected in the numpy mailing list, on stack overflow\n",
    "and in the numpy documentation. The goal of this collection is to offer a quick reference for both old\n",
    "and new users but also to provide a set of exercises for those who teach."
   ]
  },
  {
   "cell_type": "markdown",
   "id": "96443564",
   "metadata": {},
   "source": [
    "#### 1. Import the numpy package under the name `np` (★☆☆)"
   ]
  },
  {
   "cell_type": "code",
   "execution_count": 294,
   "id": "ffe1047e",
   "metadata": {},
   "outputs": [],
   "source": [
    "import numpy as np"
   ]
  },
  {
   "cell_type": "markdown",
   "id": "c807bf1d",
   "metadata": {},
   "source": [
    "#### 2. Print the numpy version and the configuration (★☆☆)"
   ]
  },
  {
   "cell_type": "code",
   "execution_count": 295,
   "id": "f396b717",
   "metadata": {},
   "outputs": [
    {
     "name": "stdout",
     "output_type": "stream",
     "text": [
      "NumPy version: 1.26.0\n",
      "Build Dependencies:\n",
      "  blas:\n",
      "    detection method: pkgconfig\n",
      "    found: true\n",
      "    include directory: C:/Users/User/miniconda3/Library/include\n",
      "    lib directory: C:/Users/User/miniconda3/Library/lib\n",
      "    name: mkl-sdl\n",
      "    pc file directory: C:\\b\\abs_9fu2cs2527\\croot\\numpy_and_numpy_base_1695830496596\\_h_env\\Library\\lib\\pkgconfig\n",
      "    version: '2023.1'\n",
      "  lapack:\n",
      "    detection method: pkgconfig\n",
      "    found: true\n",
      "    include directory: C:/Users/User/miniconda3/Library/include\n",
      "    lib directory: C:/Users/User/miniconda3/Library/lib\n",
      "    name: mkl-sdl\n",
      "    pc file directory: C:\\b\\abs_9fu2cs2527\\croot\\numpy_and_numpy_base_1695830496596\\_h_env\\Library\\lib\\pkgconfig\n",
      "    version: '2023.1'\n",
      "Compilers:\n",
      "  c:\n",
      "    commands: cl.exe\n",
      "    linker: link\n",
      "    name: msvc\n",
      "    version: 19.29.30152\n",
      "  c++:\n",
      "    commands: cl.exe\n",
      "    linker: link\n",
      "    name: msvc\n",
      "    version: 19.29.30152\n",
      "  cython:\n",
      "    commands: cython\n",
      "    linker: cython\n",
      "    name: cython\n",
      "    version: 3.0.0\n",
      "Machine Information:\n",
      "  build:\n",
      "    cpu: x86_64\n",
      "    endian: little\n",
      "    family: x86_64\n",
      "    system: windows\n",
      "  host:\n",
      "    cpu: x86_64\n",
      "    endian: little\n",
      "    family: x86_64\n",
      "    system: windows\n",
      "Python Information:\n",
      "  path: C:\\b\\abs_9fu2cs2527\\croot\\numpy_and_numpy_base_1695830496596\\_h_env\\python.exe\n",
      "  version: '3.11'\n",
      "SIMD Extensions:\n",
      "  baseline:\n",
      "  - SSE\n",
      "  - SSE2\n",
      "  - SSE3\n",
      "  found:\n",
      "  - SSSE3\n",
      "  - SSE41\n",
      "  - POPCNT\n",
      "  - SSE42\n",
      "  - AVX\n",
      "  - F16C\n",
      "  - FMA3\n",
      "  - AVX2\n",
      "  - AVX512F\n",
      "  - AVX512CD\n",
      "  - AVX512_SKX\n",
      "  - AVX512_CLX\n",
      "  - AVX512_CNL\n",
      "  - AVX512_ICL\n",
      "\n",
      "NumPy configuration: None\n"
     ]
    }
   ],
   "source": [
    "print(\"NumPy version:\", np.__version__)\n",
    "print(\"NumPy configuration:\", np.show_config())"
   ]
  },
  {
   "cell_type": "markdown",
   "id": "572c1bdb",
   "metadata": {},
   "source": [
    "#### 3. Create a null vector of size 10 (★☆☆)"
   ]
  },
  {
   "cell_type": "code",
   "execution_count": 296,
   "id": "31c9f6a5",
   "metadata": {},
   "outputs": [
    {
     "name": "stdout",
     "output_type": "stream",
     "text": [
      "[0. 0. 0. 0. 0. 0. 0. 0. 0. 0.]\n"
     ]
    }
   ],
   "source": [
    "null_vector = np.zeros(10)\n",
    "print(null_vector)"
   ]
  },
  {
   "cell_type": "markdown",
   "id": "337e6e36",
   "metadata": {},
   "source": [
    "#### 4. How to find the memory size of any array (★☆☆)"
   ]
  },
  {
   "cell_type": "code",
   "execution_count": 297,
   "id": "31e8ec2e",
   "metadata": {},
   "outputs": [
    {
     "name": "stdout",
     "output_type": "stream",
     "text": [
      "Memory size of the  [0. 0. 0. 0. 0. 0. 0. 0. 0. 0.] : 80 bytes\n"
     ]
    }
   ],
   "source": [
    "memory_size_bytes = null_vector.nbytes\n",
    "print(\"Memory size of the \",null_vector,\":\", memory_size_bytes, \"bytes\")"
   ]
  },
  {
   "cell_type": "markdown",
   "id": "166079c8",
   "metadata": {},
   "source": [
    "#### 5. How to get the documentation of the numpy add function from the command line? (★☆☆)"
   ]
  },
  {
   "cell_type": "code",
   "execution_count": 298,
   "id": "593cd80f",
   "metadata": {},
   "outputs": [
    {
     "name": "stdout",
     "output_type": "stream",
     "text": [
      "Help on ufunc:\n",
      "\n",
      "add = <ufunc 'add'>\n",
      "    add(x1, x2, /, out=None, *, where=True, casting='same_kind', order='K', dtype=None, subok=True[, signature, extobj])\n",
      "    \n",
      "    Add arguments element-wise.\n",
      "    \n",
      "    Parameters\n",
      "    ----------\n",
      "    x1, x2 : array_like\n",
      "        The arrays to be added.\n",
      "        If ``x1.shape != x2.shape``, they must be broadcastable to a common\n",
      "        shape (which becomes the shape of the output).\n",
      "    out : ndarray, None, or tuple of ndarray and None, optional\n",
      "        A location into which the result is stored. If provided, it must have\n",
      "        a shape that the inputs broadcast to. If not provided or None,\n",
      "        a freshly-allocated array is returned. A tuple (possible only as a\n",
      "        keyword argument) must have length equal to the number of outputs.\n",
      "    where : array_like, optional\n",
      "        This condition is broadcast over the input. At locations where the\n",
      "        condition is True, the `out` array will be set to the ufunc result.\n",
      "        Elsewhere, the `out` array will retain its original value.\n",
      "        Note that if an uninitialized `out` array is created via the default\n",
      "        ``out=None``, locations within it where the condition is False will\n",
      "        remain uninitialized.\n",
      "    **kwargs\n",
      "        For other keyword-only arguments, see the\n",
      "        :ref:`ufunc docs <ufuncs.kwargs>`.\n",
      "    \n",
      "    Returns\n",
      "    -------\n",
      "    add : ndarray or scalar\n",
      "        The sum of `x1` and `x2`, element-wise.\n",
      "        This is a scalar if both `x1` and `x2` are scalars.\n",
      "    \n",
      "    Notes\n",
      "    -----\n",
      "    Equivalent to `x1` + `x2` in terms of array broadcasting.\n",
      "    \n",
      "    Examples\n",
      "    --------\n",
      "    >>> np.add(1.0, 4.0)\n",
      "    5.0\n",
      "    >>> x1 = np.arange(9.0).reshape((3, 3))\n",
      "    >>> x2 = np.arange(3.0)\n",
      "    >>> np.add(x1, x2)\n",
      "    array([[  0.,   2.,   4.],\n",
      "           [  3.,   5.,   7.],\n",
      "           [  6.,   8.,  10.]])\n",
      "    \n",
      "    The ``+`` operator can be used as a shorthand for ``np.add`` on ndarrays.\n",
      "    \n",
      "    >>> x1 = np.arange(9.0).reshape((3, 3))\n",
      "    >>> x2 = np.arange(3.0)\n",
      "    >>> x1 + x2\n",
      "    array([[ 0.,  2.,  4.],\n",
      "           [ 3.,  5.,  7.],\n",
      "           [ 6.,  8., 10.]])\n",
      "\n"
     ]
    }
   ],
   "source": [
    "help(np.add)"
   ]
  },
  {
   "cell_type": "markdown",
   "id": "3add7101",
   "metadata": {},
   "source": [
    "#### 6. Create a null vector of size 10 but the fifth value which is 1 (★☆☆)"
   ]
  },
  {
   "cell_type": "code",
   "execution_count": 299,
   "id": "2edf3c42",
   "metadata": {},
   "outputs": [
    {
     "name": "stdout",
     "output_type": "stream",
     "text": [
      "[0. 0. 0. 0. 1. 0. 0. 0. 0. 0.]\n"
     ]
    }
   ],
   "source": [
    "null_vector = np.zeros(10)\n",
    "null_vector[4] = 1\n",
    "print(null_vector)"
   ]
  },
  {
   "cell_type": "markdown",
   "id": "cfc46304",
   "metadata": {},
   "source": [
    "#### 7. Create a vector with values ranging from 10 to 49 (★☆☆)"
   ]
  },
  {
   "cell_type": "code",
   "execution_count": 300,
   "id": "d8b86640",
   "metadata": {},
   "outputs": [
    {
     "name": "stdout",
     "output_type": "stream",
     "text": [
      "[10 11 12 13 14 15 16 17 18 19 20 21 22 23 24 25 26 27 28 29 30 31 32 33\n",
      " 34 35 36 37 38 39 40 41 42 43 44 45 46 47 48 49]\n"
     ]
    }
   ],
   "source": [
    "vector = np.arange(10, 50)\n",
    "print(vector)"
   ]
  },
  {
   "cell_type": "markdown",
   "id": "0cc200be",
   "metadata": {},
   "source": [
    "#### 8. Reverse a vector (first element becomes last) (★☆☆)"
   ]
  },
  {
   "cell_type": "code",
   "execution_count": 301,
   "id": "ec044bb5",
   "metadata": {},
   "outputs": [
    {
     "name": "stdout",
     "output_type": "stream",
     "text": [
      "[49 48 47 46 45 44 43 42 41 40 39 38 37 36 35 34 33 32 31 30 29 28 27 26\n",
      " 25 24 23 22 21 20 19 18 17 16 15 14 13 12 11 10]\n"
     ]
    }
   ],
   "source": [
    "reversed_vector = vector[::-1]\n",
    "print(reversed_vector)"
   ]
  },
  {
   "cell_type": "markdown",
   "id": "29d9ede4",
   "metadata": {},
   "source": [
    "#### 9. Create a 3x3 matrix with values ranging from 0 to 8 (★☆☆)"
   ]
  },
  {
   "cell_type": "code",
   "execution_count": 302,
   "id": "d9e39043",
   "metadata": {},
   "outputs": [
    {
     "name": "stdout",
     "output_type": "stream",
     "text": [
      "[[0 1 2]\n",
      " [3 4 5]\n",
      " [6 7 8]]\n"
     ]
    }
   ],
   "source": [
    "matrix_3x3 = np.arange(9).reshape(3, 3)\n",
    "print(matrix_3x3)"
   ]
  },
  {
   "cell_type": "markdown",
   "id": "88905ceb",
   "metadata": {},
   "source": [
    "#### 10. Find indices of non-zero elements from [1,2,0,0,4,0] (★☆☆)"
   ]
  },
  {
   "cell_type": "code",
   "execution_count": 303,
   "id": "b2f3c90a",
   "metadata": {},
   "outputs": [
    {
     "name": "stdout",
     "output_type": "stream",
     "text": [
      "(array([0, 1, 4], dtype=int64),)\n"
     ]
    }
   ],
   "source": [
    "arr = np.array([1, 2, 0, 0, 4, 0])\n",
    "non_zero_indices = np.nonzero(arr)\n",
    "print(non_zero_indices)"
   ]
  },
  {
   "cell_type": "markdown",
   "id": "49603e91",
   "metadata": {},
   "source": [
    "#### 11. Create a 3x3 identity matrix (★☆☆)"
   ]
  },
  {
   "cell_type": "code",
   "execution_count": 304,
   "id": "5b607b5c",
   "metadata": {},
   "outputs": [
    {
     "name": "stdout",
     "output_type": "stream",
     "text": [
      "[[1. 0. 0.]\n",
      " [0. 1. 0.]\n",
      " [0. 0. 1.]]\n"
     ]
    }
   ],
   "source": [
    "identity_matrix = np.eye(3)\n",
    "print(identity_matrix)"
   ]
  },
  {
   "cell_type": "markdown",
   "id": "e15c249a",
   "metadata": {},
   "source": [
    "#### 12. Create a 3x3x3 array with random values (★☆☆)"
   ]
  },
  {
   "cell_type": "code",
   "execution_count": 305,
   "id": "ab21ed50",
   "metadata": {},
   "outputs": [
    {
     "name": "stdout",
     "output_type": "stream",
     "text": [
      "[[[0.29413436 0.95172791 0.81672598]\n",
      "  [0.16120578 0.83398072 0.34565769]\n",
      "  [0.22776817 0.78207134 0.85699805]]\n",
      "\n",
      " [[0.96044905 0.42021918 0.56211139]\n",
      "  [0.6149172  0.6277041  0.40215607]\n",
      "  [0.15235027 0.07044587 0.90598839]]\n",
      "\n",
      " [[0.36655103 0.18068733 0.98357201]\n",
      "  [0.80290788 0.98118289 0.27880565]\n",
      "  [0.46324777 0.80869298 0.5518909 ]]]\n"
     ]
    }
   ],
   "source": [
    "random_array = np.random.rand(3, 3, 3)\n",
    "print(random_array)"
   ]
  },
  {
   "cell_type": "markdown",
   "id": "157a129c",
   "metadata": {},
   "source": [
    "#### 13. Create a 10x10 array with random values and find the minimum and maximum values (★☆☆)"
   ]
  },
  {
   "cell_type": "code",
   "execution_count": 306,
   "id": "c0066de5",
   "metadata": {},
   "outputs": [
    {
     "name": "stdout",
     "output_type": "stream",
     "text": [
      "[[0.35496346 0.15842659 0.56176521 0.59838735 0.72074789 0.79052573\n",
      "  0.11810869 0.62795311 0.78144126 0.38900572]\n",
      " [0.27556728 0.47965547 0.3100866  0.50985482 0.30849308 0.42270161\n",
      "  0.91513833 0.91660563 0.99217893 0.4861234 ]\n",
      " [0.16803881 0.88902664 0.59684329 0.74772008 0.16259419 0.31969817\n",
      "  0.27521802 0.55975623 0.99717526 0.6123487 ]\n",
      " [0.57286373 0.75908264 0.32881518 0.25319129 0.83804417 0.96055156\n",
      "  0.42140736 0.04126449 0.17916072 0.85698133]\n",
      " [0.12164475 0.76300622 0.62024496 0.72673305 0.25659055 0.01832994\n",
      "  0.03975444 0.72484968 0.61339743 0.84045314]\n",
      " [0.39924734 0.55555135 0.78350572 0.49665059 0.99334852 0.74289172\n",
      "  0.68331044 0.80153219 0.7771902  0.21969525]\n",
      " [0.21038394 0.60607426 0.43604821 0.8715766  0.29010231 0.33085945\n",
      "  0.16631375 0.98174197 0.11604653 0.98289999]\n",
      " [0.70639266 0.08915139 0.15201539 0.32697117 0.26034607 0.9731283\n",
      "  0.61334208 0.07438995 0.52540462 0.89713979]\n",
      " [0.41618182 0.66613056 0.77319258 0.18502902 0.85550074 0.44882116\n",
      "  0.0566886  0.87890339 0.56435321 0.19832175]\n",
      " [0.31745002 0.56937296 0.37417404 0.23338205 0.47931039 0.18504573\n",
      "  0.24537917 0.82673405 0.22854122 0.69536745]]\n",
      "Minimum: 0.0183299379464541\n",
      "Maximum: 0.9971752626658099\n"
     ]
    }
   ],
   "source": [
    "random_array = np.random.rand(10, 10)\n",
    "print(random_array)\n",
    "print(\"Minimum:\", np.min(random_array))\n",
    "print(\"Maximum:\", np.max(random_array))"
   ]
  },
  {
   "cell_type": "markdown",
   "id": "d92d7b32",
   "metadata": {},
   "source": [
    "#### 14. Create a random vector of size 30 and find the mean value (★☆☆)"
   ]
  },
  {
   "cell_type": "code",
   "execution_count": 307,
   "id": "9672d023",
   "metadata": {},
   "outputs": [
    {
     "name": "stdout",
     "output_type": "stream",
     "text": [
      "Random vector: [0.25046981 0.21239837 0.25115556 0.46829797 0.14627967 0.10661254\n",
      " 0.75674066 0.02330167 0.38548418 0.39603441 0.89304134 0.7744911\n",
      " 0.51067673 0.47981299 0.5656013  0.35782783 0.70077719 0.68607117\n",
      " 0.57465465 0.05769268 0.12683766 0.03927628 0.71851573 0.47759968\n",
      " 0.95498117 0.95232837 0.79817082 0.44304892 0.3163504  0.20097422]\n",
      "Mean: 0.4541835020984764\n"
     ]
    }
   ],
   "source": [
    "random_vector = np.random.rand(30)\n",
    "print(\"Random vector:\", random_vector)\n",
    "print(\"Mean:\", np.mean(random_vector))"
   ]
  },
  {
   "cell_type": "markdown",
   "id": "f361efc0",
   "metadata": {},
   "source": [
    "#### 15. Create a 2d array with 1 on the border and 0 inside (★☆☆)"
   ]
  },
  {
   "cell_type": "code",
   "execution_count": 308,
   "id": "a55b6666",
   "metadata": {},
   "outputs": [
    {
     "name": "stdout",
     "output_type": "stream",
     "text": [
      "[[1. 1. 1. 1. 1.]\n",
      " [1. 0. 0. 0. 1.]\n",
      " [1. 0. 0. 0. 1.]\n",
      " [1. 0. 0. 0. 1.]\n",
      " [1. 1. 1. 1. 1.]]\n"
     ]
    }
   ],
   "source": [
    "array = np.ones((5, 5))\n",
    "array[1:-1, 1:-1] = 0\n",
    "print(array)"
   ]
  },
  {
   "cell_type": "markdown",
   "id": "475808cb",
   "metadata": {},
   "source": [
    "#### 16. How to add a border (filled with 0's) around an existing array? (★☆☆)"
   ]
  },
  {
   "cell_type": "code",
   "execution_count": 309,
   "id": "b2df3a8a",
   "metadata": {},
   "outputs": [
    {
     "name": "stdout",
     "output_type": "stream",
     "text": [
      "Existing array:\n",
      "[[1. 1. 1.]\n",
      " [1. 1. 1.]\n",
      " [1. 1. 1.]]\n",
      "\n",
      "New:\n",
      "[[0. 0. 0. 0. 0.]\n",
      " [0. 1. 1. 1. 0.]\n",
      " [0. 1. 1. 1. 0.]\n",
      " [0. 1. 1. 1. 0.]\n",
      " [0. 0. 0. 0. 0.]]\n"
     ]
    }
   ],
   "source": [
    "existing_array = np.ones((3, 3)) \n",
    "new_array = np.pad(existing_array, pad_width=1, mode='constant', constant_values=0)\n",
    "print(\"Existing array:\")\n",
    "print(existing_array)\n",
    "print(\"\\nNew:\")\n",
    "print(new_array)"
   ]
  },
  {
   "cell_type": "markdown",
   "id": "1af07d85",
   "metadata": {},
   "source": [
    "#### 17. What is the result of the following expression? (★☆☆)\n",
    "```python\n",
    "0 * np.nan\n",
    "np.nan == np.nan\n",
    "np.inf > np.nan\n",
    "np.nan - np.nan\n",
    "np.nan in set([np.nan])\n",
    "0.3 == 3 * 0.1\n",
    "```"
   ]
  },
  {
   "cell_type": "code",
   "execution_count": 310,
   "id": "109cf327",
   "metadata": {},
   "outputs": [
    {
     "name": "stdout",
     "output_type": "stream",
     "text": [
      "0 * np.nan:  nan\n",
      "np.nan == np.nan: False\n",
      "np.inf > np.nan: False\n",
      "np.nan - np.nan: nan\n",
      "np.nan in set([np.nan]): True\n",
      "0.3 == 3 * 0.1:  False\n"
     ]
    }
   ],
   "source": [
    "print('0 * np.nan: ', 0 * np.nan)\n",
    "print(\"np.nan == np.nan:\", np.nan == np.nan)\n",
    "print(\"np.inf > np.nan:\", np.inf > np.nan)\n",
    "print(\"np.nan - np.nan:\", np.nan - np.nan)\n",
    "print(\"np.nan in set([np.nan]):\", np.nan in set([np.nan]))\n",
    "print(\"0.3 == 3 * 0.1: \", 0.3 == 3 * 0.1)"
   ]
  },
  {
   "cell_type": "markdown",
   "id": "6a235316",
   "metadata": {},
   "source": [
    "#### 18. Create a 5x5 matrix with values 1,2,3,4 just below the diagonal (★☆☆)"
   ]
  },
  {
   "cell_type": "code",
   "execution_count": 311,
   "id": "f2e6cfa6",
   "metadata": {},
   "outputs": [
    {
     "name": "stdout",
     "output_type": "stream",
     "text": [
      "[[0. 0. 0. 0. 0.]\n",
      " [1. 0. 0. 0. 0.]\n",
      " [0. 2. 0. 0. 0.]\n",
      " [0. 0. 3. 0. 0.]\n",
      " [0. 0. 0. 4. 0.]]\n"
     ]
    }
   ],
   "source": [
    "matrix = np.zeros((5, 5))\n",
    "np.fill_diagonal(matrix[1:], [1, 2, 3, 4])\n",
    "print(matrix)"
   ]
  },
  {
   "cell_type": "markdown",
   "id": "25362e98",
   "metadata": {},
   "source": [
    "#### 19. Create a 8x8 matrix and fill it with a checkerboard pattern (★☆☆)"
   ]
  },
  {
   "cell_type": "code",
   "execution_count": 312,
   "id": "cabdf298",
   "metadata": {},
   "outputs": [
    {
     "name": "stdout",
     "output_type": "stream",
     "text": [
      "[[0. 1. 0. 1. 0. 1. 0. 1.]\n",
      " [1. 0. 1. 0. 1. 0. 1. 0.]\n",
      " [0. 1. 0. 1. 0. 1. 0. 1.]\n",
      " [1. 0. 1. 0. 1. 0. 1. 0.]\n",
      " [0. 1. 0. 1. 0. 1. 0. 1.]\n",
      " [1. 0. 1. 0. 1. 0. 1. 0.]\n",
      " [0. 1. 0. 1. 0. 1. 0. 1.]\n",
      " [1. 0. 1. 0. 1. 0. 1. 0.]]\n"
     ]
    }
   ],
   "source": [
    "matrix = np.zeros((8, 8))\n",
    "matrix[1::2, ::2] = 1  \n",
    "matrix[::2, 1::2] = 1 \n",
    "print(matrix)"
   ]
  },
  {
   "cell_type": "markdown",
   "id": "6431e977",
   "metadata": {},
   "source": [
    "#### 20. Consider a (6,7,8) shape array, what is the index (x,y,z) of the 100th element? (★☆☆)"
   ]
  },
  {
   "cell_type": "code",
   "execution_count": 313,
   "id": "de8b0245",
   "metadata": {},
   "outputs": [
    {
     "name": "stdout",
     "output_type": "stream",
     "text": [
      "100th element: (1, 5, 3)\n"
     ]
    }
   ],
   "source": [
    "\n",
    "print(\"100th element:\", np.unravel_index(99, (6,7,8)))"
   ]
  },
  {
   "cell_type": "markdown",
   "id": "31abe6fe",
   "metadata": {},
   "source": [
    "#### 21. Create a checkerboard 8x8 matrix using the tile function (★☆☆)"
   ]
  },
  {
   "cell_type": "code",
   "execution_count": 314,
   "id": "6da26fd3",
   "metadata": {},
   "outputs": [
    {
     "name": "stdout",
     "output_type": "stream",
     "text": [
      "[[0 1 0 1 0 1 0 1]\n",
      " [1 0 1 0 1 0 1 0]\n",
      " [0 1 0 1 0 1 0 1]\n",
      " [1 0 1 0 1 0 1 0]\n",
      " [0 1 0 1 0 1 0 1]\n",
      " [1 0 1 0 1 0 1 0]\n",
      " [0 1 0 1 0 1 0 1]\n",
      " [1 0 1 0 1 0 1 0]]\n"
     ]
    }
   ],
   "source": [
    "matrix = np.array([[0, 1], [1, 0]])\n",
    "print(np.tile(matrix, (4, 4)))"
   ]
  },
  {
   "cell_type": "markdown",
   "id": "fd88b3f4",
   "metadata": {},
   "source": [
    "#### 22. Normalize a 5x5 random matrix (★☆☆)"
   ]
  },
  {
   "cell_type": "code",
   "execution_count": 315,
   "id": "ee6ced60",
   "metadata": {},
   "outputs": [
    {
     "name": "stdout",
     "output_type": "stream",
     "text": [
      "[[-0.85367266  1.7490145   0.16928369 -1.61007509 -1.50003711]\n",
      " [-0.07656115 -0.12905435 -0.25929822  1.17644441  0.76277471]\n",
      " [-1.28324273 -0.40656572  0.39709301 -0.33852984 -0.93674996]\n",
      " [ 0.50484126  0.41622012  1.69506308  0.2747945   1.35054967]\n",
      " [ 1.60778323 -0.15892632 -1.47049935 -1.15933817  0.07868848]] \n",
      "\n",
      "[[-0.85367266  1.7490145   0.16928369 -1.61007509 -1.50003711]\n",
      " [-0.07656115 -0.12905435 -0.25929822  1.17644441  0.76277471]\n",
      " [-1.28324273 -0.40656572  0.39709301 -0.33852984 -0.93674996]\n",
      " [ 0.50484126  0.41622012  1.69506308  0.2747945   1.35054967]\n",
      " [ 1.60778323 -0.15892632 -1.47049935 -1.15933817  0.07868848]]\n"
     ]
    }
   ],
   "source": [
    "matrix = np.random.rand(5, 5)\n",
    "matrix = (matrix - np.mean(matrix)) / np.std(matrix)\n",
    "print(matrix,'\\n')\n",
    "print(matrix)"
   ]
  },
  {
   "cell_type": "markdown",
   "id": "464d8590",
   "metadata": {},
   "source": [
    "#### 23. Create a custom dtype that describes a color as four unsigned bytes (RGBA) (★☆☆)"
   ]
  },
  {
   "cell_type": "code",
   "execution_count": 316,
   "id": "e2f9cfc6",
   "metadata": {},
   "outputs": [
    {
     "name": "stdout",
     "output_type": "stream",
     "text": [
      "[('R', 'u1'), ('G', 'u1'), ('B', 'u1'), ('A', 'u1')]\n"
     ]
    }
   ],
   "source": [
    "dtype = np.dtype([('R', np.ubyte), ('G', np.ubyte), ('B', np.ubyte), ('A', np.ubyte)])\n",
    "print(dtype)"
   ]
  },
  {
   "cell_type": "markdown",
   "id": "06c63bb3",
   "metadata": {},
   "source": [
    "#### 24. Multiply a 5x3 matrix by a 3x2 matrix (real matrix product) (★☆☆)"
   ]
  },
  {
   "cell_type": "code",
   "execution_count": 317,
   "id": "9fc0d553",
   "metadata": {},
   "outputs": [
    {
     "name": "stdout",
     "output_type": "stream",
     "text": [
      "5x3 Matrix:\n",
      "[[0.892958   0.65413207 0.20148172]\n",
      " [0.70104435 0.89421932 0.03022556]\n",
      " [0.24281212 0.15318082 0.784103  ]\n",
      " [0.89147741 0.55455748 0.84820187]\n",
      " [0.65693716 0.65669954 0.57970817]]\n",
      "\n",
      "3x2 Matrix:\n",
      "[[0.0500187  0.93697811]\n",
      " [0.35577143 0.80257771]\n",
      " [0.80998457 0.96576123]]\n",
      "\n",
      "5x3 * 3x2:\n",
      "[[0.44058318 1.55625714]\n",
      " [0.37768525 1.40373437]\n",
      " [0.70175384 1.10770544]\n",
      " [0.92891667 2.09953076]\n",
      " [0.73604875 1.70244783]]\n"
     ]
    }
   ],
   "source": [
    "matrix_5x3 = np.random.rand(5, 3)\n",
    "matrix_3x2 = np.random.rand(3, 2)\n",
    "print(\"5x3 Matrix:\")\n",
    "print(matrix_5x3)\n",
    "print(\"\\n3x2 Matrix:\")\n",
    "print(matrix_3x2)\n",
    "print(\"\\n5x3 * 3x2:\")\n",
    "print(np.dot(matrix_5x3, matrix_3x2))"
   ]
  },
  {
   "cell_type": "markdown",
   "id": "76fa6285",
   "metadata": {},
   "source": [
    "#### 25. Given a 1D array, negate all elements which are between 3 and 8, in place. (★☆☆)"
   ]
  },
  {
   "cell_type": "code",
   "execution_count": 318,
   "id": "0e25eca7",
   "metadata": {},
   "outputs": [
    {
     "name": "stdout",
     "output_type": "stream",
     "text": [
      "[1 4 6 9 3 5 7 2 8]\n",
      "[ 1 -4 -6  9 -3 -5 -7  2 -8]\n"
     ]
    }
   ],
   "source": [
    "array = np.array([1, 4, 6, 9, 3, 5, 7, 2, 8])\n",
    "print(array)\n",
    "array[(array >= 3) & (array <= 8)] *= -1\n",
    "print(array)"
   ]
  },
  {
   "cell_type": "markdown",
   "id": "930ed8bb",
   "metadata": {},
   "source": [
    "#### 26. What is the output of the following script? (★☆☆)\n",
    "```python\n",
    "# Author: Jake VanderPlas\n",
    "\n",
    "print(sum(range(5),-1))\n",
    "from numpy import *\n",
    "print(sum(range(5),-1))\n",
    "```"
   ]
  },
  {
   "cell_type": "code",
   "execution_count": 319,
   "id": "f02eedba",
   "metadata": {},
   "outputs": [
    {
     "ename": "TypeError",
     "evalue": "'numpy.int32' object is not callable",
     "output_type": "error",
     "traceback": [
      "\u001b[1;31m---------------------------------------------------------------------------\u001b[0m",
      "\u001b[1;31mTypeError\u001b[0m                                 Traceback (most recent call last)",
      "Cell \u001b[1;32mIn[319], line 1\u001b[0m\n\u001b[1;32m----> 1\u001b[0m \u001b[38;5;28mprint\u001b[39m(\u001b[38;5;28msum\u001b[39m(\u001b[38;5;28mrange\u001b[39m(\u001b[38;5;241m5\u001b[39m),\u001b[38;5;241m-\u001b[39m\u001b[38;5;241m1\u001b[39m))\n\u001b[0;32m      2\u001b[0m \u001b[38;5;28;01mfrom\u001b[39;00m \u001b[38;5;21;01mnumpy\u001b[39;00m \u001b[38;5;28;01mimport\u001b[39;00m \u001b[38;5;241m*\u001b[39m\n\u001b[0;32m      3\u001b[0m \u001b[38;5;28mprint\u001b[39m(\u001b[38;5;28msum\u001b[39m(\u001b[38;5;28mrange\u001b[39m(\u001b[38;5;241m5\u001b[39m),\u001b[38;5;241m-\u001b[39m\u001b[38;5;241m1\u001b[39m))\n",
      "\u001b[1;31mTypeError\u001b[0m: 'numpy.int32' object is not callable"
     ]
    }
   ],
   "source": [
    "print(sum(range(5),-1))\n",
    "from numpy import *\n",
    "print(sum(range(5),-1))"
   ]
  },
  {
   "cell_type": "markdown",
   "id": "177120e7",
   "metadata": {},
   "source": [
    "#### 27. Consider an integer vector Z, which of these expressions are legal? (★☆☆)\n",
    "```python\n",
    "Z**Z\n",
    "2 << Z >> 2\n",
    "Z <- Z\n",
    "1j*Z\n",
    "Z/1/1\n",
    "Z<Z>Z\n",
    "```"
   ]
  },
  {
   "cell_type": "code",
   "execution_count": null,
   "id": "86d6cbef",
   "metadata": {},
   "outputs": [
    {
     "name": "stdout",
     "output_type": "stream",
     "text": [
      "2 << Z >> 2 is legal: [1, 2, 4]\n",
      "1j*Z is legal: [1j, 2j, 3j]\n",
      "Z/1/1 is legal: [1.0, 2.0, 3.0]\n"
     ]
    }
   ],
   "source": [
    "Z = [1, 2, 3]\n",
    "result_1 = [2 << val >> 2 for val in Z]\n",
    "result_2 = [1j * val for val in Z]\n",
    "result_3 = [val / 1 / 1 for val in Z]\n",
    "print(\"2 << Z >> 2 is legal:\", result_1)  \n",
    "print(\"1j*Z is legal:\", result_2) \n",
    "print(\"Z/1/1 is legal:\", result_3)\n"
   ]
  },
  {
   "cell_type": "markdown",
   "id": "a6eaf0e8",
   "metadata": {},
   "source": [
    "#### 28. What are the result of the following expressions? (★☆☆)\n",
    "```python\n",
    "np.array(0) / np.array(0)\n",
    "np.array(0) // np.array(0)\n",
    "np.array([np.nan]).astype(int).astype(float)\n",
    "```"
   ]
  },
  {
   "cell_type": "code",
   "execution_count": null,
   "id": "93684068",
   "metadata": {},
   "outputs": [
    {
     "name": "stdout",
     "output_type": "stream",
     "text": [
      "np.array(0) / np.array(0): nan\n",
      "np.array(0) // np.array(0): 0\n",
      "np.array([np.nan]).astype(int).astype(float): [-2.14748365e+09]\n"
     ]
    },
    {
     "name": "stderr",
     "output_type": "stream",
     "text": [
      "C:\\Users\\User\\AppData\\Local\\Temp\\ipykernel_5220\\3442397122.py:1: RuntimeWarning: invalid value encountered in divide\n",
      "  print(\"np.array(0) / np.array(0):\", np.array(0) / np.array(0))\n",
      "C:\\Users\\User\\AppData\\Local\\Temp\\ipykernel_5220\\3442397122.py:2: RuntimeWarning: divide by zero encountered in floor_divide\n",
      "  print(\"np.array(0) // np.array(0):\", np.array(0) // np.array(0))\n",
      "C:\\Users\\User\\AppData\\Local\\Temp\\ipykernel_5220\\3442397122.py:3: RuntimeWarning: invalid value encountered in cast\n",
      "  print(\"np.array([np.nan]).astype(int).astype(float):\",np.array([np.nan]).astype(int).astype(float))\n"
     ]
    }
   ],
   "source": [
    "print(\"np.array(0) / np.array(0):\", np.array(0) / np.array(0)) \n",
    "print(\"np.array(0) // np.array(0):\", np.array(0) // np.array(0)) \n",
    "print(\"np.array([np.nan]).astype(int).astype(float):\",np.array([np.nan]).astype(int).astype(float))\n"
   ]
  },
  {
   "cell_type": "markdown",
   "id": "524b65f8",
   "metadata": {},
   "source": [
    "#### 29. How to round away from zero a float array ? (★☆☆)"
   ]
  },
  {
   "cell_type": "code",
   "execution_count": null,
   "id": "61fbb78e",
   "metadata": {},
   "outputs": [
    {
     "name": "stdout",
     "output_type": "stream",
     "text": [
      "float array:\n",
      "[ 2.3  5.8  6.5 -7.2  9.1 -1.5]\n",
      "\n",
      "Rounded array:\n",
      "[ 3.  6.  7. -8. 10. -2.]\n"
     ]
    }
   ],
   "source": [
    "float_array = np.array([2.3, 5.8, 6.5, -7.2, 9.1, -1.5])\n",
    "rounded_array = np.where(float_array >= 0, np.ceil(float_array), np.floor(float_array))\n",
    "print(\"float array:\")\n",
    "print(float_array)\n",
    "print(\"\\nRounded array:\")\n",
    "print(rounded_array)"
   ]
  },
  {
   "cell_type": "markdown",
   "id": "8dc40752",
   "metadata": {},
   "source": [
    "#### 30. How to find common values between two arrays? (★☆☆)"
   ]
  },
  {
   "cell_type": "code",
   "execution_count": null,
   "id": "54399cbe",
   "metadata": {},
   "outputs": [
    {
     "name": "stdout",
     "output_type": "stream",
     "text": [
      "Array 1: [1 2 3 4 5]\n",
      "Array 2: [3 4 5 6 7]\n",
      "\n",
      "Common values: [3 4 5]\n"
     ]
    }
   ],
   "source": [
    "array1 = np.array([1, 2, 3, 4, 5])\n",
    "array2 = np.array([3, 4, 5, 6, 7])\n",
    "print(\"Array 1:\", array1)\n",
    "print(\"Array 2:\", array2)\n",
    "print(\"\\nCommon values:\", np.intersect1d(array1, array2))"
   ]
  },
  {
   "cell_type": "markdown",
   "id": "b7f38e21",
   "metadata": {},
   "source": [
    "#### 31. How to ignore all numpy warnings (not recommended)? (★☆☆)"
   ]
  },
  {
   "cell_type": "code",
   "execution_count": null,
   "id": "2ca3289c",
   "metadata": {},
   "outputs": [],
   "source": [
    "# import warnings"
   ]
  },
  {
   "cell_type": "markdown",
   "id": "2d850aab",
   "metadata": {},
   "source": [
    "#### 32. Is the following expressions true? (★☆☆)\n",
    "```python\n",
    "np.sqrt(-1) == np.emath.sqrt(-1)\n",
    "```"
   ]
  },
  {
   "cell_type": "code",
   "execution_count": null,
   "id": "5c83ffce",
   "metadata": {},
   "outputs": [
    {
     "name": "stdout",
     "output_type": "stream",
     "text": [
      "False\n"
     ]
    },
    {
     "name": "stderr",
     "output_type": "stream",
     "text": [
      "C:\\Users\\User\\AppData\\Local\\Temp\\ipykernel_5220\\3893968646.py:1: RuntimeWarning: invalid value encountered in sqrt\n",
      "  print(np.isclose(np.sqrt(-1), np.emath.sqrt(-1)))\n"
     ]
    }
   ],
   "source": [
    "print(np.isclose(np.sqrt(-1), np.emath.sqrt(-1)))"
   ]
  },
  {
   "cell_type": "markdown",
   "id": "5c4a556f",
   "metadata": {},
   "source": [
    "#### 33. How to get the dates of yesterday, today and tomorrow? (★☆☆)"
   ]
  },
  {
   "cell_type": "code",
   "execution_count": null,
   "id": "c3b683a0",
   "metadata": {},
   "outputs": [
    {
     "name": "stdout",
     "output_type": "stream",
     "text": [
      "Yesterday: 2023-12-07\n",
      "Today: 2023-12-08\n",
      "Tomorrow: 2023-12-09\n"
     ]
    }
   ],
   "source": [
    "today = np.datetime64('today')\n",
    "print(\"Yesterday:\", today - np.timedelta64(1, 'D'))\n",
    "print(\"Today:\", today)\n",
    "print(\"Tomorrow:\", today + np.timedelta64(1, 'D'))"
   ]
  },
  {
   "cell_type": "markdown",
   "id": "453cdd64",
   "metadata": {},
   "source": [
    "#### 34. How to get all the dates corresponding to the month of July 2016? (★★☆)"
   ]
  },
  {
   "cell_type": "code",
   "execution_count": null,
   "id": "4ba4d37c",
   "metadata": {},
   "outputs": [
    {
     "name": "stdout",
     "output_type": "stream",
     "text": [
      "Dates:\n",
      "['2016-07-01' '2016-07-02' '2016-07-03' '2016-07-04' '2016-07-05'\n",
      " '2016-07-06' '2016-07-07' '2016-07-08' '2016-07-09' '2016-07-10'\n",
      " '2016-07-11' '2016-07-12' '2016-07-13' '2016-07-14' '2016-07-15'\n",
      " '2016-07-16' '2016-07-17' '2016-07-18' '2016-07-19' '2016-07-20'\n",
      " '2016-07-21' '2016-07-22' '2016-07-23' '2016-07-24' '2016-07-25'\n",
      " '2016-07-26' '2016-07-27' '2016-07-28' '2016-07-29' '2016-07-30'\n",
      " '2016-07-31']\n"
     ]
    }
   ],
   "source": [
    "dates = np.arange('2016-07', '2016-08', dtype='datetime64[D]')\n",
    "print(\"Dates:\")\n",
    "print(dates)"
   ]
  },
  {
   "cell_type": "markdown",
   "id": "52667b6e",
   "metadata": {},
   "source": [
    "#### 35. How to compute ((A+B)*(-A/2)) in place (without copy)? (★★☆)"
   ]
  },
  {
   "cell_type": "code",
   "execution_count": null,
   "id": "e6e7c030",
   "metadata": {},
   "outputs": [
    {
     "name": "stdout",
     "output_type": "stream",
     "text": [
      "[-10.  -17.5 -27. ]\n"
     ]
    }
   ],
   "source": [
    "A = np.array([1, 2, 3], dtype='float64')\n",
    "B = np.array([4, 5, 6])\n",
    "np.add(A, B, out=A) \n",
    "np.negative(A, out=A) \n",
    "np.divide(A, 2, out=A) \n",
    "np.multiply(A, B, out=A) \n",
    "result = A  \n",
    "print(result)"
   ]
  },
  {
   "cell_type": "markdown",
   "id": "9a8f3738",
   "metadata": {},
   "source": [
    "#### 36. Extract the integer part of a random array of positive numbers using 4 different methods (★★☆)"
   ]
  },
  {
   "cell_type": "code",
   "execution_count": null,
   "id": "368a801a",
   "metadata": {},
   "outputs": [
    {
     "name": "stdout",
     "output_type": "stream",
     "text": [
      "[7. 3. 3. 3. 9.]\n",
      "[7. 3. 3. 3. 9.]\n",
      "[7 3 3 3 9]\n",
      "[7. 3. 3. 3. 9.]\n"
     ]
    }
   ],
   "source": [
    "array = np.random.rand(5) * 10\n",
    "print(array - array%1)\n",
    "print(np.floor(array))\n",
    "print(array.astype(int))\n",
    "print(np.trunc(array))"
   ]
  },
  {
   "cell_type": "markdown",
   "id": "cab1eed1",
   "metadata": {},
   "source": [
    "#### 37. Create a 5x5 matrix with row values ranging from 0 to 4 (★★☆)"
   ]
  },
  {
   "cell_type": "code",
   "execution_count": null,
   "id": "f1b579ba",
   "metadata": {},
   "outputs": [
    {
     "name": "stdout",
     "output_type": "stream",
     "text": [
      "[[0. 1. 2. 3. 4.]\n",
      " [0. 1. 2. 3. 4.]\n",
      " [0. 1. 2. 3. 4.]\n",
      " [0. 1. 2. 3. 4.]\n",
      " [0. 1. 2. 3. 4.]]\n"
     ]
    }
   ],
   "source": [
    "matrix = np.zeros((5, 5)) + np.arange(5)\n",
    "print(matrix)"
   ]
  },
  {
   "cell_type": "markdown",
   "id": "cd0ce6b1",
   "metadata": {},
   "source": [
    "#### 38. Consider a generator function that generates 10 integers and use it to build an array (★☆☆)"
   ]
  },
  {
   "cell_type": "code",
   "execution_count": null,
   "id": "aab193a6",
   "metadata": {},
   "outputs": [
    {
     "name": "stdout",
     "output_type": "stream",
     "text": [
      "[0 1 2 3 4 5 6 7 8 9]\n"
     ]
    }
   ],
   "source": [
    "def generate_integers():\n",
    "    for i in range(10):\n",
    "        yield i\n",
    "generated_array = np.fromiter(generate_integers(), dtype=int, count=10)\n",
    "print(generated_array)"
   ]
  },
  {
   "cell_type": "markdown",
   "id": "c4c942d1",
   "metadata": {},
   "source": [
    "#### 39. Create a vector of size 10 with values ranging from 0 to 1, both excluded (★★☆)"
   ]
  },
  {
   "cell_type": "code",
   "execution_count": null,
   "id": "e42eaa4b",
   "metadata": {},
   "outputs": [
    {
     "name": "stdout",
     "output_type": "stream",
     "text": [
      "[0.09090909 0.18181818 0.27272727 0.36363636 0.45454545 0.54545455\n",
      " 0.63636364 0.72727273 0.81818182 0.90909091]\n"
     ]
    }
   ],
   "source": [
    "vector = np.linspace(0, 1, 12, endpoint=True)[1:-1]\n",
    "print(vector)"
   ]
  },
  {
   "cell_type": "markdown",
   "id": "9b3cb8d2",
   "metadata": {},
   "source": [
    "#### 40. Create a random vector of size 10 and sort it (★★☆)"
   ]
  },
  {
   "cell_type": "code",
   "execution_count": null,
   "id": "37d2b341",
   "metadata": {},
   "outputs": [
    {
     "name": "stdout",
     "output_type": "stream",
     "text": [
      "Vector:\n",
      "[0.45201007 0.29110331 0.78094031 0.07991996 0.22550055 0.96287903\n",
      " 0.65723568 0.0975282  0.06049567 0.071382  ]\n",
      "\n",
      "Sorted vector:\n",
      "[0.06049567 0.071382   0.07991996 0.0975282  0.22550055 0.29110331\n",
      " 0.45201007 0.65723568 0.78094031 0.96287903]\n"
     ]
    }
   ],
   "source": [
    "vector = np.random.rand(10)\n",
    "print(\"Vector:\")\n",
    "print(vector)\n",
    "print(\"\\nSorted vector:\")\n",
    "print(np.sort(vector))"
   ]
  },
  {
   "cell_type": "markdown",
   "id": "2facfddc",
   "metadata": {},
   "source": [
    "#### 41. How to sum a small array faster than np.sum? (★★☆)"
   ]
  },
  {
   "cell_type": "code",
   "execution_count": null,
   "id": "4bb8864f",
   "metadata": {},
   "outputs": [
    {
     "data": {
      "text/plain": [
       "46.56974794795598"
      ]
     },
     "execution_count": 84,
     "metadata": {},
     "output_type": "execute_result"
    }
   ],
   "source": [
    "array = np.random.rand(100)\n",
    "sum(array)"
   ]
  },
  {
   "cell_type": "markdown",
   "id": "539cd2a5",
   "metadata": {},
   "source": [
    "#### 42. Consider two random array A and B, check if they are equal (★★☆)"
   ]
  },
  {
   "cell_type": "code",
   "execution_count": null,
   "id": "5246d7bf",
   "metadata": {},
   "outputs": [
    {
     "name": "stdout",
     "output_type": "stream",
     "text": [
      "Array A: [0.93963565 0.03817123 0.98407449 0.86470932 0.20770993]\n",
      "Array B: [0.22389885 0.03862548 0.48667414 0.66309143 0.17819019]\n",
      "\n",
      "Are arrays A and B equal? False\n"
     ]
    }
   ],
   "source": [
    "A = np.random.rand(5)\n",
    "B = np.random.rand(5)\n",
    "print(\"Array A:\", A)\n",
    "print(\"Array B:\", B)\n",
    "print(\"\\nAre arrays A and B equal?\", np.allclose(A, B))"
   ]
  },
  {
   "cell_type": "markdown",
   "id": "448f8274",
   "metadata": {},
   "source": [
    "#### 43. Make an array immutable (read-only) (★★☆)"
   ]
  },
  {
   "cell_type": "code",
   "execution_count": null,
   "id": "7cf2b3dd",
   "metadata": {},
   "outputs": [
    {
     "ename": "ValueError",
     "evalue": "assignment destination is read-only",
     "output_type": "error",
     "traceback": [
      "\u001b[1;31m---------------------------------------------------------------------------\u001b[0m",
      "\u001b[1;31mValueError\u001b[0m                                Traceback (most recent call last)",
      "Cell \u001b[1;32mIn[87], line 3\u001b[0m\n\u001b[0;32m      1\u001b[0m arr1 \u001b[38;5;241m=\u001b[39m np\u001b[38;5;241m.\u001b[39marray([\u001b[38;5;241m1\u001b[39m, \u001b[38;5;241m2\u001b[39m, \u001b[38;5;241m3\u001b[39m, \u001b[38;5;241m4\u001b[39m, \u001b[38;5;241m5\u001b[39m])\n\u001b[0;32m      2\u001b[0m arr1\u001b[38;5;241m.\u001b[39mflags\u001b[38;5;241m.\u001b[39mwriteable \u001b[38;5;241m=\u001b[39m \u001b[38;5;28;01mFalse\u001b[39;00m\n\u001b[1;32m----> 3\u001b[0m arr1[\u001b[38;5;241m2\u001b[39m] \u001b[38;5;241m=\u001b[39m \u001b[38;5;241m0\u001b[39m\n",
      "\u001b[1;31mValueError\u001b[0m: assignment destination is read-only"
     ]
    }
   ],
   "source": [
    "arr1 = np.array([1, 2, 3, 4, 5])\n",
    "arr1.flags.writeable = False\n",
    "arr1[2] = 0"
   ]
  },
  {
   "cell_type": "markdown",
   "id": "d7b7aaf3",
   "metadata": {},
   "source": [
    "#### 44. Consider a random 10x2 matrix representing cartesian coordinates, convert them to polar coordinates (★★☆)"
   ]
  },
  {
   "cell_type": "code",
   "execution_count": null,
   "id": "e2337585",
   "metadata": {},
   "outputs": [
    {
     "name": "stdout",
     "output_type": "stream",
     "text": [
      "[0.84253739 0.52641164 0.59133281 1.00453968 0.96147169 0.60991449\n",
      " 0.94752003 1.27603248 0.95435925 1.04828507]\n",
      "[1.23458751 1.40275425 0.58149502 0.203472   1.23740005 0.87965029\n",
      " 0.71166772 0.72886848 1.35803194 0.71771563]\n"
     ]
    }
   ],
   "source": [
    "matrix = np.random.random((10,2))\n",
    "X_coords, Y_coords = matrix[:,0], matrix[:,1]\n",
    "R = np.sqrt(X_coords**2+Y_coords**2)\n",
    "T = np.arctan2(Y_coords,X_coords)\n",
    "print(R)\n",
    "print(T)"
   ]
  },
  {
   "cell_type": "markdown",
   "id": "a556027a",
   "metadata": {},
   "source": [
    "#### 45. Create random vector of size 10 and replace the maximum value by 0 (★★☆)"
   ]
  },
  {
   "cell_type": "code",
   "execution_count": null,
   "id": "9e07cb87",
   "metadata": {},
   "outputs": [
    {
     "name": "stdout",
     "output_type": "stream",
     "text": [
      "[0.14641096 0.50324457 0.8407167  0.10391518 0.84454769 0.18422608\n",
      " 0.02458337 0.28192257 0.04451739 0.24391243]\n",
      "[0.14641096 0.50324457 0.8407167  0.10391518 0.         0.18422608\n",
      " 0.02458337 0.28192257 0.04451739 0.24391243]\n"
     ]
    }
   ],
   "source": [
    "vector = np.random.random(10)\n",
    "print(vector)\n",
    "vector[vector.argmax()] = 0\n",
    "print(vector)"
   ]
  },
  {
   "cell_type": "markdown",
   "id": "004f3da1",
   "metadata": {},
   "source": [
    "#### 46. Create a structured array with `x` and `y` coordinates covering the [0,1]x[0,1] area (★★☆)"
   ]
  },
  {
   "cell_type": "code",
   "execution_count": null,
   "id": "b3824741",
   "metadata": {},
   "outputs": [
    {
     "name": "stdout",
     "output_type": "stream",
     "text": [
      "[[(0.  , 0.  ) (0.25, 0.  ) (0.5 , 0.  ) (0.75, 0.  ) (1.  , 0.  )]\n",
      " [(0.  , 0.25) (0.25, 0.25) (0.5 , 0.25) (0.75, 0.25) (1.  , 0.25)]\n",
      " [(0.  , 0.5 ) (0.25, 0.5 ) (0.5 , 0.5 ) (0.75, 0.5 ) (1.  , 0.5 )]\n",
      " [(0.  , 0.75) (0.25, 0.75) (0.5 , 0.75) (0.75, 0.75) (1.  , 0.75)]\n",
      " [(0.  , 1.  ) (0.25, 1.  ) (0.5 , 1.  ) (0.75, 1.  ) (1.  , 1.  )]]\n"
     ]
    }
   ],
   "source": [
    "array = np.zeros((5,5), [('x',float),('y',float)])\n",
    "array['x'], array['y'] = np.meshgrid(np.linspace(0,1,5),np.linspace(0,1,5))\n",
    "print(array)"
   ]
  },
  {
   "cell_type": "markdown",
   "id": "1c0adc0d",
   "metadata": {},
   "source": [
    "#### 47. Given two arrays, X and Y, construct the Cauchy matrix C (Cij =1/(xi - yj)) (★★☆)"
   ]
  },
  {
   "cell_type": "code",
   "execution_count": null,
   "id": "01b3bbb7",
   "metadata": {},
   "outputs": [
    {
     "name": "stdout",
     "output_type": "stream",
     "text": [
      "[[-0.25       -0.2        -0.16666667]\n",
      " [-0.33333333 -0.25       -0.2       ]\n",
      " [-0.5        -0.33333333 -0.25      ]\n",
      " [-1.         -0.5        -0.33333333]]\n"
     ]
    }
   ],
   "source": [
    "X = np.array([1, 2, 3, 4])\n",
    "Y = np.array([5, 6, 7])\n",
    "C = 1.0 / (X.reshape((-1,1)) - Y)\n",
    "print(C)"
   ]
  },
  {
   "cell_type": "markdown",
   "id": "c8a2f65a",
   "metadata": {},
   "source": [
    "#### 48. Print the minimum and maximum representable value for each numpy scalar type (★★☆)"
   ]
  },
  {
   "cell_type": "code",
   "execution_count": null,
   "id": "35d844d6",
   "metadata": {},
   "outputs": [
    {
     "name": "stdout",
     "output_type": "stream",
     "text": [
      "Integer:\n",
      "<class 'numpy.int8'> min:  -128\n",
      "<class 'numpy.int8'> max:  127\n",
      "<class 'numpy.int16'> min:  -32768\n",
      "<class 'numpy.int16'> max:  32767\n",
      "<class 'numpy.int32'> min:  -2147483648\n",
      "<class 'numpy.int32'> max:  2147483647\n",
      "<class 'numpy.int64'> min:  -9223372036854775808\n",
      "<class 'numpy.int64'> max:  9223372036854775807\n",
      "\n",
      "Float:\n",
      "<class 'numpy.float32'> min: -3.4028235e+38\n",
      "<class 'numpy.float32'> min: 3.4028235e+38\n",
      "<class 'numpy.float64'> min: -1.7976931348623157e+308\n",
      "<class 'numpy.float64'> min: 1.7976931348623157e+308\n"
     ]
    }
   ],
   "source": [
    "print(\"Integer:\")\n",
    "for dtype in [np.int8, np.int16, np.int32, np.int64]:\n",
    "    print(dtype, 'min: ',np.iinfo(dtype).min) \n",
    "    print(dtype, 'max: ',np.iinfo(dtype).max)\n",
    "print(\"\\nFloat:\")\n",
    "for dtype in [np.float32, np.float64]:\n",
    "    print(dtype, 'min:', np.finfo(dtype).min) \n",
    "    print(dtype, 'min:', np.finfo(dtype).max)"
   ]
  },
  {
   "cell_type": "markdown",
   "id": "11727a69",
   "metadata": {},
   "source": [
    "#### 49. How to print all the values of an array? (★★☆)"
   ]
  },
  {
   "cell_type": "code",
   "execution_count": null,
   "id": "47e98473",
   "metadata": {},
   "outputs": [
    {
     "name": "stdout",
     "output_type": "stream",
     "text": [
      "[ 0  1  2  3  4  5  6  7  8  9 10 11 12 13 14 15 16 17 18 19 20 21 22 23\n",
      " 24 25 26 27 28 29 30 31 32 33 34 35 36 37 38 39 40 41 42 43 44 45 46 47\n",
      " 48 49 50 51 52 53 54 55 56 57 58 59 60 61 62 63 64 65 66 67 68 69 70 71\n",
      " 72 73 74 75 76 77 78 79 80 81 82 83 84 85 86 87 88 89 90 91 92 93 94 95\n",
      " 96 97 98 99]\n"
     ]
    }
   ],
   "source": [
    "np.set_printoptions(threshold=np.inf)\n",
    "arr = np.arange(100)\n",
    "print(arr)"
   ]
  },
  {
   "cell_type": "markdown",
   "id": "e0e7d741",
   "metadata": {},
   "source": [
    "#### 50. How to find the closest value (to a given scalar) in a vector? (★★☆)"
   ]
  },
  {
   "cell_type": "code",
   "execution_count": null,
   "id": "62cabf6f",
   "metadata": {},
   "outputs": [
    {
     "name": "stdout",
     "output_type": "stream",
     "text": [
      "Vector: [1.2 3.4 4.5 6.7 2.8]\n",
      "Scalar: 2.3\n",
      "Closest value: 2.8\n"
     ]
    }
   ],
   "source": [
    "scalar = 2.3\n",
    "vector = np.array([1.2, 3.4, 4.5, 6.7, 2.8])\n",
    "print(\"Vector:\", vector)\n",
    "print(f\"Scalar: {scalar}\")\n",
    "print(f\"Closest value: {vector[np.argmin(np.abs(vector - scalar))]}\")"
   ]
  },
  {
   "cell_type": "markdown",
   "id": "c5611b9e",
   "metadata": {},
   "source": [
    "#### 51. Create a structured array representing a position (x,y) and a color (r,g,b) (★★☆)"
   ]
  },
  {
   "cell_type": "code",
   "execution_count": null,
   "id": "f622939d",
   "metadata": {},
   "outputs": [
    {
     "name": "stdout",
     "output_type": "stream",
     "text": [
      "[(0.18352454, 0.06128987, 191, 185, 167)\n",
      " (0.88201177, 0.14625175, 234, 152, 253)\n",
      " (0.84423869, 0.84884633,  86,  39, 227)]\n"
     ]
    }
   ],
   "source": [
    "array = np.zeros((3,), dtype=[('x', 'float'), ('y', 'float'), ('r', 'int'), ('g', 'int'), ('b','int')])\n",
    "array['x'] = np.random.rand(3)\n",
    "array['y'] = np.random.rand(3)\n",
    "array['r'] = np.random.randint(0, 255, 3)\n",
    "array['g'] = np.random.randint(0, 255, 3)\n",
    "array['b'] = np.random.randint(0, 255, 3)\n",
    "print(array)"
   ]
  },
  {
   "cell_type": "markdown",
   "id": "d22b8574",
   "metadata": {},
   "source": [
    "#### 52. Consider a random vector with shape (100,2) representing coordinates, find point by point distances (★★☆)"
   ]
  },
  {
   "cell_type": "code",
   "execution_count": null,
   "id": "d5c9cdf8",
   "metadata": {},
   "outputs": [
    {
     "name": "stdout",
     "output_type": "stream",
     "text": [
      "[[0.         0.89257638 0.83877226 0.396429   0.56487442 0.89119454\n",
      "  0.70178499 1.18685948 0.68158444 0.74807467 0.78320753 0.6758193\n",
      "  0.50764008 0.41237111 1.0993519  0.91470188 0.59295606 0.75947476\n",
      "  0.33448475 0.02899231 0.10498246 0.28099123 0.8342811  0.6602088\n",
      "  0.20063547 0.72812955 0.55891411 1.10194904 1.13534729 0.5869881\n",
      "  0.56595824 0.17129138 0.61524368 0.46693915 0.73486087 0.02644854\n",
      "  0.64193637 0.78429171 0.85751718 0.3346861  0.62409202 0.3831188\n",
      "  0.99971786 0.2401592  0.64150524 0.55495206 0.56835189 0.54091246\n",
      "  0.36176109 0.106891   0.13670605 1.0347698  0.78919185 0.55983713\n",
      "  0.5428958  0.91041408 0.95580684 1.002339   0.93019304 0.26366459\n",
      "  0.81899131 0.61204282 0.75338068 0.87788968 0.76995313 0.23282247\n",
      "  0.66323577 0.76055607 0.69866645 0.9653475  1.08673279 0.36359238\n",
      "  0.84547394 0.7734692  1.03943494 0.66134883 0.77556487 0.89208565\n",
      "  0.50073778 1.04256116 1.13690932 0.33867943 0.98523405 0.7330051\n",
      "  0.50750039 0.71524644 0.88167869 0.766218   0.75006573 0.66763674\n",
      "  0.79993495 1.08332734 0.21362709 0.43300269 0.95553155 0.62603698\n",
      "  0.42785715 0.38346078 0.4495048  0.91519042]\n",
      " [0.89257638 0.         0.34514832 1.04755604 0.34907    0.02992381\n",
      "  0.93420344 0.9392533  0.21107017 0.79591477 0.52181786 0.82316456\n",
      "  0.39275877 0.83936474 0.71044899 0.05796968 1.12361692 0.97837132\n",
      "  0.85899612 0.87784649 0.9570113  0.74993511 0.2044096  0.25084262\n",
      "  0.69664178 0.35040795 0.58646748 0.78220486 0.75458285 0.3290506\n",
      "  0.81612208 0.73855575 0.8341219  0.74970487 0.5564783  0.91849439\n",
      "  0.36888404 0.74783066 1.17665417 0.57530417 0.86880386 0.51052251\n",
      "  0.90696641 0.99483443 1.1053725  0.97160425 0.88692407 0.6372456\n",
      "  0.73112383 0.8323757  0.88529306 0.79781487 0.36750923 0.8241211\n",
      "  0.54363832 0.15197608 0.91170422 0.51139983 0.61431787 0.68944921\n",
      "  0.43634944 1.00798514 0.31634947 0.35482014 0.13712656 0.84251386\n",
      "  1.08557878 1.09055408 1.01522509 0.3610291  0.75947604 0.72894049\n",
      "  1.17099014 0.28723418 0.67627946 1.06237271 0.68136965 0.04724085\n",
      "  0.42473253 0.62146935 0.731175   0.75608383 0.85806734 0.24986162\n",
      "  1.06824682 0.34910799 0.87331888 0.96820035 0.75878503 0.22878508\n",
      "  0.808374   0.77459852 0.71449169 0.46336788 0.63324827 0.933296\n",
      "  0.48370117 0.76213401 0.44308182 0.13720325]\n",
      " [0.83877226 0.34514832 0.         0.85646857 0.3151848  0.3727309\n",
      "  0.63729843 0.60382994 0.34168342 0.47854213 0.18913306 0.52565412\n",
      "  0.378118   0.62976948 0.39030198 0.4031155  0.87871058 0.67165923\n",
      "  0.67804947 0.81547549 0.86761067 0.60725651 0.14134659 0.42208495\n",
      "  0.68096482 0.11094084 0.34679268 0.4506964  0.43595978 0.29806317\n",
      "  0.5520685  0.6674972  0.55477949 0.52452394 0.23889641 0.86072816\n",
      "  0.19871149 0.42015191 0.87057501 0.50942052 0.58842869 0.52195678\n",
      "  0.56228906 0.85489086 0.84332213 0.71930294 0.6244664  0.39526497\n",
      "  0.55473304 0.81869066 0.88467366 0.455368   0.05414183 0.5622285\n",
      "  0.32813417 0.21213491 0.56947137 0.20661766 0.27089347 0.5822979\n",
      "  0.09477691 0.74227036 0.09366817 0.03952556 0.26711287 0.70253118\n",
      "  0.81473078 0.79541502 0.72672393 0.12714149 0.42790798 0.55218474\n",
      "  0.86673726 0.09214424 0.34591148 0.78909202 0.35286204 0.30058647\n",
      "  0.35186176 0.3022277  0.41828886 0.58499772 0.51308705 0.16300527\n",
      "  0.84205672 0.12430964 0.53669195 0.65907202 0.43912743 0.37568913\n",
      "  0.48079759 0.44047566 0.62715922 0.4442872  0.29165835 0.65668013\n",
      "  0.42465024 0.57038235 0.45984512 0.22877847]\n",
      " [0.396429   1.04755604 0.85646857 0.         0.70125684 1.057257\n",
      "  0.41629804 0.98249139 0.85744202 0.54177825 0.72089189 0.45242003\n",
      "  0.6710764  0.22730084 0.97508605 1.08754453 0.20197099 0.45857996\n",
      "  0.18857823 0.37576088 0.30310339 0.30649404 0.91529624 0.87255808\n",
      "  0.50861382 0.76344259 0.50986139 0.94662113 0.9989334  0.71986301\n",
      "  0.35338555 0.39860971 0.38616379 0.33399554 0.65934547 0.38670302\n",
      "  0.70037815 0.60503216 0.49306917 0.50495569 0.37250716 0.61822362\n",
      "  0.77057005 0.16037523 0.2635151  0.23333832 0.30558253 0.463148\n",
      "  0.31712033 0.4950754  0.53285513 0.86009718 0.80247379 0.34238333\n",
      "  0.53204469 1.00619376 0.71686465 0.950886   0.82491193 0.38449924\n",
      "  0.79583586 0.27455494 0.79940366 0.88896114 0.91061729 0.23246654\n",
      "  0.29659214 0.40916489 0.37031384 0.97607712 0.93843506 0.31940466\n",
      "  0.48067875 0.82890188 0.91971434 0.3043498  0.6310891  1.02935221\n",
      "  0.62562543 0.94777699 1.01110507 0.29147221 0.7752668  0.82138453\n",
      "  0.12119404 0.75520634 0.64887681 0.47132114 0.56401268 0.8591448\n",
      "  0.5901327  0.92772773 0.38851673 0.61805725 0.84396756 0.33418165\n",
      "  0.57939488 0.29060097 0.65814077 1.01693268]\n",
      " [0.56487442 0.34907    0.3151848  0.70125684 0.         0.35661548\n",
      "  0.65239783 0.85185106 0.16013121 0.5548808  0.36875003 0.55082401\n",
      "  0.06403244 0.50210696 0.67570261 0.38642737 0.79344074 0.70598773\n",
      "  0.51320378 0.54627051 0.6174348  0.40100104 0.27232916 0.20203059\n",
      "  0.38374696 0.21420301 0.29292241 0.71620019 0.72015766 0.02211822\n",
      "  0.51141627 0.4005311  0.54129847 0.42426403 0.3623405  0.58958196\n",
      "  0.13776922 0.53271406 0.89424971 0.23335664 0.57428007 0.20984448\n",
      "  0.74263475 0.64632005 0.78537984 0.6499587  0.57618426 0.33560141\n",
      "  0.38738727 0.52425742 0.58641211 0.68913447 0.28085189 0.5171009\n",
      "  0.24145553 0.34554246 0.7267293  0.51566427 0.52026544 0.34173009\n",
      "  0.34236976 0.69378357 0.22153222 0.35345345 0.2145259  0.49349922\n",
      "  0.77229365 0.79873647 0.71991955 0.43034232 0.69491428 0.3853714\n",
      "  0.88651287 0.22989037 0.62152687 0.75174176 0.47839765 0.33750909\n",
      "  0.0758636  0.59491858 0.70891222 0.41043563 0.70315136 0.17384395\n",
      "  0.73112361 0.20051383 0.6680522  0.69975485 0.52627827 0.17131836\n",
      "  0.58562528 0.70155641 0.37102352 0.13689835 0.54674101 0.63125137\n",
      "  0.13903301 0.42163483 0.14493496 0.35060199]\n",
      " [0.89119454 0.02992381 0.3727309  1.057257   0.35661548 0.\n",
      "  0.95429693 0.96844695 0.21059849 0.81860275 0.54718788 0.84369476\n",
      "  0.39648492 0.85184293 0.74010673 0.03308783 1.13798908 0.9993973\n",
      "  0.86885796 0.87731715 0.95827896 0.75743443 0.23155722 0.24099671\n",
      "  0.69376436 0.37315195 0.60375388 0.8115395  0.78429897 0.33745721\n",
      "  0.83354155 0.74004024 0.85285819 0.76417681 0.58023837 0.91727254\n",
      "  0.3864733  0.77184343 1.19722246 0.57863949 0.88748743 0.50825114\n",
      "  0.93392799 1.00027817 1.12145823 0.9872167  0.90384598 0.65413273\n",
      "  0.74165457 0.82797317 0.87934591 0.82627078 0.39328355 0.84130241\n",
      "  0.55969572 0.18188899 0.93782912 0.54111477 0.64252497 0.69460299\n",
      "  0.46308292 1.02473528 0.34004604 0.38346718 0.15043976 0.84896583\n",
      "  1.10259044 1.11006083 1.03421866 0.39091051 0.78879434 0.73952339\n",
      "  1.19135622 0.31170231 0.70558972 1.07969309 0.70566739 0.07707345\n",
      "  0.43247899 0.65107433 0.76097554 0.76592925 0.88524735 0.27014972\n",
      "  1.08105314 0.37108607 0.89836376 0.98951927 0.78183857 0.22412176\n",
      "  0.83223137 0.80379583 0.71765002 0.46510934 0.66174244 0.95136608\n",
      "  0.48845732 0.7736726  0.44206467 0.16711796]\n",
      " [0.70178499 0.93420344 0.63729843 0.41629804 0.65239783 0.95429693\n",
      "  0.         0.5729185  0.80355546 0.17473774 0.45389178 0.11222251\n",
      "  0.66121277 0.28973414 0.60906109 0.98738051 0.30596144 0.06091409\n",
      "  0.36806503 0.67344488 0.64676117 0.4461705  0.74845413 0.85442087\n",
      "  0.7009458  0.58727863 0.36062899 0.56189782 0.6228642  0.6607159\n",
      "  0.15661496 0.59862406 0.1139527  0.27054831 0.39860422 0.70583952\n",
      "  0.57032385 0.24750499 0.2437785  0.58360319 0.08686272 0.69955841\n",
      "  0.3582708  0.5328144  0.24178702 0.18327977 0.13346177 0.31703868\n",
      "  0.37505023 0.76587356 0.82605033 0.46924515 0.59197489 0.15696629\n",
      "  0.41127095 0.83753344 0.30315256 0.64724059 0.49165512 0.51518308\n",
      "  0.54921283 0.1566854  0.62401954 0.65608584 0.80725437 0.46897212\n",
      "  0.20074871 0.15832689 0.09357918 0.72716601 0.55872859 0.37460829\n",
      "  0.23729533 0.65547864 0.5620759  0.17425457 0.30332858 0.90009995\n",
      "  0.5961171  0.60702495 0.64130162 0.38413366 0.37030043 0.68442856\n",
      "  0.3225939  0.58653093 0.24021361 0.06460613 0.21250932 0.82158058\n",
      "  0.20551564 0.54406938 0.55861011 0.65144444 0.5022281  0.08287678\n",
      "  0.59866113 0.33806412 0.69832581 0.85262387]\n",
      " [1.18685948 0.9392533  0.60382994 0.98249139 0.85185106 0.96844695\n",
      "  0.5729185  0.         0.93389898 0.44928666 0.48310253 0.53497761\n",
      "  0.90000329 0.80410098 0.23997286 0.9961353  0.8730381  0.54749351\n",
      "  0.88573841 1.15810838 1.16211891 0.90586824 0.74224277 1.01173866\n",
      "  1.10796434 0.65609532 0.64855    0.15820998 0.20458815 0.84416477\n",
      "  0.64462562 1.03861557 0.60234511 0.72378751 0.4982044  1.19909104\n",
      "  0.71503576 0.40301931 0.66263606 0.93954988 0.61085244 1.01410439\n",
      "  0.21515055 1.07527052 0.80140427 0.75363955 0.67806876 0.65209057\n",
      "  0.82520466 1.21748469 1.28544131 0.16378218 0.60314795 0.65402497\n",
      "  0.68421769 0.79071674 0.27110441 0.43378628 0.33820604 0.9387498\n",
      "  0.5288582  0.72878681 0.67073944 0.58626714 0.87041377 0.96937241\n",
      "  0.75640975 0.66031085 0.64623343 0.5865614  0.18052353 0.82332842\n",
      "  0.66804347 0.68671527 0.26334651 0.73297845 0.41612188 0.89240067\n",
      "  0.84470942 0.32294195 0.23511929 0.84961159 0.20821336 0.75452274\n",
      "  0.89544147 0.66700221 0.33404782 0.53132584 0.43927201 0.96596424\n",
      "  0.39761692 0.16465484 0.99173606 0.93852905 0.31423282 0.65119604\n",
      "  0.89509565 0.80717988 0.9738209  0.8071113 ]\n",
      " [0.68158444 0.21107017 0.34168342 0.85744202 0.16013121 0.21059849\n",
      "  0.80355546 0.93389898 0.         0.69176817 0.4622938  0.69825302\n",
      "  0.18844228 0.66200878 0.73106266 0.23669667 0.95357036 0.85483696\n",
      "  0.67030758 0.6671519  0.74768144 0.55364679 0.23355437 0.08052109\n",
      "  0.48571679 0.27938627 0.44305038 0.78629104 0.77671803 0.14604948\n",
      "  0.66754229 0.52947287 0.69464373 0.58384346 0.47426155 0.70754436\n",
      "  0.24454213 0.65947904 1.0468165  0.36915555 0.72831358 0.2995139\n",
      "  0.85382572 0.79237423 0.94495177 0.80954168 0.73391641 0.48918051\n",
      "  0.54607909 0.62218072 0.67655486 0.7766092  0.33141572 0.6737869\n",
      "  0.39328202 0.26704997 0.84564199 0.54639787 0.59569294 0.48691329\n",
      "  0.40517871 0.85245902 0.26341468 0.37148006 0.10623683 0.64284013\n",
      "  0.93098466 0.95324219 0.87492728 0.4238721  0.76380265 0.54413771\n",
      "  1.03956961 0.25109959 0.68379867 0.90996833 0.59888711 0.21568914\n",
      "  0.23336213 0.64366282 0.75983387 0.56802831 0.80988786 0.18065738\n",
      "  0.89081153 0.26993881 0.79369356 0.84739321 0.65951552 0.03447981\n",
      "  0.71636968 0.77426695 0.50780631 0.25474761 0.6200117  0.7874075\n",
      "  0.28118977 0.58117726 0.23208415 0.26450312]\n",
      " [0.74807467 0.79591477 0.47854213 0.54177825 0.5548808  0.81860275\n",
      "  0.17473774 0.44928666 0.69176817 0.         0.29028908 0.08953391\n",
      "  0.57887936 0.35491447 0.44284869 0.85150414 0.4705602  0.19565354\n",
      "  0.43683794 0.71909177 0.71543239 0.46944022 0.60057014 0.75294366\n",
      "  0.69880006 0.44555392 0.27133587 0.4058625  0.46155094 0.55814246\n",
      "  0.19549219 0.61318314 0.15583674 0.28113833 0.24200582 0.75800074\n",
      "  0.44829595 0.07299706 0.39276862 0.54975279 0.17184565 0.65098672\n",
      "  0.25168104 0.62609886 0.412732   0.32527161 0.23698278 0.24775899\n",
      "  0.38867888 0.79114766 0.85701917 0.31832025 0.43804579 0.20515159\n",
      "  0.3218463  0.68588999 0.20934928 0.47276562 0.31714881 0.51674452\n",
      "  0.38653334 0.31878511 0.47992806 0.49298668 0.67746672 0.52375158\n",
      "  0.37386536 0.32551411 0.26824191 0.55884174 0.39917333 0.38716329\n",
      "  0.38957071 0.51010272 0.39247426 0.34711848 0.13104909 0.75803955\n",
      "  0.51358116 0.43401043 0.47695866 0.40958484 0.2417261  0.5499409\n",
      "  0.47019759 0.44765067 0.13585918 0.18181352 0.03985515 0.71477962\n",
      "  0.05227576 0.38715281 0.56769197 0.58842812 0.32860649 0.228832\n",
      "  0.53682435 0.36468248 0.63272824 0.70174813]\n",
      " [0.78320753 0.52181786 0.18913306 0.72089189 0.36875003 0.54718788\n",
      "  0.45389178 0.48310253 0.4622938  0.29028908 0.         0.34401944\n",
      "  0.41819428 0.49543804 0.32479093 0.57920729 0.71411158 0.48475923\n",
      "  0.55823209 0.75663133 0.78969781 0.51855909 0.31943166 0.53655812\n",
      "  0.66127139 0.18464986 0.22996383 0.35138921 0.36588642 0.36135615\n",
      "  0.38817115 0.61676855 0.38168821 0.38894936 0.06208273 0.80141466\n",
      "  0.23220468 0.23110702 0.68296293 0.48499846 0.41360515 0.54058913\n",
      "  0.39362139 0.74852023 0.67137614 0.555136   0.45813399 0.26489376\n",
      "  0.44980634 0.78744625 0.8560991  0.32066265 0.15457502 0.39911584\n",
      "  0.24045844 0.39964242 0.39183782 0.23191499 0.15746422 0.51971268\n",
      "  0.09625348 0.5706572  0.21037995 0.20295223 0.4190176  0.60623891\n",
      "  0.63936602 0.611011   0.54535099 0.27456593 0.33121353 0.44732493\n",
      "  0.67951594 0.23609233 0.26604877 0.61308776 0.16377659 0.48027331\n",
      "  0.36621672 0.25974235 0.36128847 0.48009679 0.34817981 0.29193003\n",
      "  0.68787596 0.1927037  0.35163637 0.47164251 0.25063608 0.49213991\n",
      "  0.291843   0.33559273 0.57118998 0.46255605 0.18447842 0.48183696\n",
      "  0.42409366 0.45314606 0.49438289 0.41597433]\n",
      " [0.6758193  0.82316456 0.52565412 0.45242003 0.55082401 0.84369476\n",
      "  0.11222251 0.53497761 0.69825302 0.08953391 0.34401944 0.\n",
      "  0.5651458  0.27268218 0.53053814 0.87678222 0.38657432 0.15686431\n",
      "  0.35527638 0.64686396 0.63640191 0.40226345 0.63630928 0.75249534\n",
      "  0.64435935 0.47539422 0.25796007 0.49534754 0.55044552 0.55755763\n",
      "  0.11196108 0.5511641  0.06739489 0.2132529  0.28735342 0.68395243\n",
      "  0.46143768 0.15757015 0.35353408 0.50856765 0.08300221 0.61836918\n",
      "  0.33040899 0.54096982 0.33360797 0.2371283  0.14744998 0.21999949\n",
      "  0.32345595 0.72641426 0.79056233 0.40772471 0.47988624 0.12027051\n",
      "  0.30968188 0.72531183 0.2821778  0.546417   0.39704427 0.45883224\n",
      "  0.43859933 0.23589633 0.51200364 0.54530144 0.69752548 0.4470347\n",
      "  0.2980153  0.27051008 0.20148266 0.618262   0.4884061  0.32231971\n",
      "  0.34784445 0.54340999 0.47872601 0.27135751 0.2017329  0.78852717\n",
      "  0.49943587 0.51686383 0.56515975 0.34045683 0.32676871 0.5736057\n",
      "  0.38169579 0.4749163  0.20864482 0.14920502 0.11723833 0.71783255\n",
      "  0.13826107 0.47660978 0.50735044 0.5632478  0.41099414 0.14480561\n",
      "  0.51048285 0.29401181 0.60937793 0.74041179]\n",
      " [0.50764008 0.39275877 0.378118   0.6710764  0.06403244 0.39648492\n",
      "  0.66121277 0.90000329 0.18844228 0.57887936 0.41819428 0.5651458\n",
      "  0.         0.48411514 0.73169877 0.42417329 0.77755432 0.71724942\n",
      "  0.48528765 0.49033048 0.56546467 0.36595256 0.3346087  0.2057806\n",
      "  0.32215679 0.27468733 0.30938088 0.76851734 0.77565764 0.08442798\n",
      "  0.5135946  0.34719128 0.54805166 0.41708793 0.40475787 0.5328149\n",
      "  0.19305683 0.56402496 0.89969967 0.18254636 0.57959075 0.14582621\n",
      "  0.78023144 0.60420189 0.77562211 0.64078324 0.57402796 0.34560238\n",
      "  0.36446094 0.46261323 0.52386484 0.73651718 0.34181087 0.51802534\n",
      "  0.25776337 0.40430338 0.76056658 0.5766609  0.57276126 0.29858966\n",
      "  0.40024138 0.68806762 0.28447213 0.41666818 0.26361641 0.45441365\n",
      "  0.76613507 0.80167514 0.72244667 0.49428421 0.74767238 0.36272074\n",
      "  0.89129122 0.2937863  0.6763684  0.74709775 0.51416439 0.38677479\n",
      "  0.06577403 0.65269347 0.76562645 0.38415924 0.74307363 0.23738341\n",
      "  0.71064718 0.26078879 0.69855035 0.71243553 0.55338026 0.18808556\n",
      "  0.61370627 0.7532704  0.32173501 0.07526646 0.59953263 0.6322376\n",
      "  0.09276824 0.40193677 0.08185102 0.40820603]\n",
      " [0.41237111 0.83936474 0.62976948 0.22730084 0.50210696 0.85184293\n",
      "  0.28973414 0.80410098 0.66200878 0.35491447 0.49543804 0.27268218\n",
      "  0.48411514 0.         0.76528284 0.88333201 0.29351484 0.34832599\n",
      "  0.08262422 0.38389799 0.36441422 0.16830478 0.69446279 0.68989259\n",
      "  0.42640783 0.53917313 0.28297967 0.74642662 0.79307707 0.51829421\n",
      "  0.1607813  0.31738137 0.20760861 0.10690415 0.43442764 0.41741851\n",
      "  0.48121634 0.40673285 0.47258954 0.34821147 0.21239726 0.47020708\n",
      "  0.60297203 0.27272589 0.29913309 0.17196535 0.15664186 0.23584717\n",
      "  0.12258376 0.47765436 0.53665224 0.66606499 0.57588831 0.15258969\n",
      "  0.30834925 0.78622377 0.55465708 0.72656914 0.60799226 0.24908899\n",
      "  0.56864148 0.22850187 0.57576222 0.66186476 0.7024311  0.17963423\n",
      "  0.29977496 0.37055211 0.29871716 0.74881066 0.7356279  0.12382614\n",
      "  0.46156812 0.60593156 0.7078702  0.28714018 0.42028122 0.81718256\n",
      "  0.42920961 0.73036301 0.80221455 0.11378517 0.59661672 0.60396408\n",
      "  0.22935946 0.53164504 0.48131292 0.35429699 0.36738697 0.66916098\n",
      "  0.40690704 0.72734345 0.28274782 0.44630517 0.62883782 0.21713059\n",
      "  0.39901976 0.08247559 0.49163393 0.797796  ]\n",
      " [1.0993519  0.71044899 0.39030198 0.97508605 0.67570261 0.74010673\n",
      "  0.60906109 0.23997286 0.73106266 0.44284869 0.32479093 0.53053814\n",
      "  0.73169877 0.76528284 0.         0.76620057 0.91234765 0.60753544\n",
      "  0.83993575 1.07190247 1.09542478 0.82555282 0.52109299 0.81111071\n",
      "  0.98575725 0.46493558 0.54044483 0.08711689 0.0456682  0.66379522\n",
      "  0.62171218 0.93657845 0.59261415 0.66685658 0.36541577 1.11590429\n",
      "  0.53892938 0.37312666 0.77166982 0.80971518 0.61353887 0.86191323\n",
      "  0.3222925  1.03477753 0.8508428  0.7676286  0.6761378  0.56221898\n",
      "  0.75003182 1.11002763 1.17879546 0.16363718 0.40293826 0.63275274\n",
      "  0.5610846  0.55957129 0.36529806 0.19924364 0.16975556 0.83776119\n",
      "  0.33413771 0.76055786 0.4705054  0.3655754  0.65562056 0.90531165\n",
      "  0.80933279 0.73782808 0.69862553 0.351808   0.07061015 0.74773662\n",
      "  0.77353456 0.47996611 0.05992385 0.78308375 0.34530783 0.6632417\n",
      "  0.68568577 0.08942033 0.03763632 0.77868013 0.27781674 0.55068505\n",
      "  0.91220296 0.47774828 0.38889943 0.59072398 0.41397854 0.76469108\n",
      "  0.40382437 0.09191638 0.8902404  0.7830023  0.14388193 0.67145733\n",
      "  0.74729282 0.74372026 0.81116891 0.57550775]\n",
      " [0.91470188 0.05796968 0.4031155  1.08754453 0.38642737 0.03308783\n",
      "  0.98738051 0.9961353  0.23669667 0.85150414 0.57920729 0.87678222\n",
      "  0.42417329 0.88333201 0.76620057 0.         1.17006376 1.03247463\n",
      "  0.89927395 0.90148085 0.98368716 0.78675721 0.26234446 0.25928374\n",
      "  0.71629543 0.40600001 0.63658527 0.83884653 0.81007186 0.36770746\n",
      "  0.86636822 0.76575957 0.88585917 0.7963385  0.61287994 0.94088339\n",
      "  0.41939586 0.80442492 1.23031017 0.60574904 0.92048163 0.53158593\n",
      "  0.96490976 1.02834985 1.15399528 1.01965122 0.93657795 0.68688739\n",
      "  0.77241273 0.84908758 0.89905779 0.85548997 0.4250657  0.87408762\n",
      "  0.59230584 0.2066861  0.96944032 0.56699122 0.67213339 0.72268281\n",
      "  0.49423766 1.05742398 0.37266214 0.41243373 0.18292009 0.87767945\n",
      "  1.13532553 1.14311774 1.06723813 0.41561732 0.8161548  0.77030453\n",
      "  1.2244434  0.34405945 0.73299063 1.11248626 0.7381509  0.10383971\n",
      "  0.46223915 0.67744164 0.78620473 0.79637849 0.91603163 0.3032302\n",
      "  1.11261526 0.4040551  0.93056158 1.02258221 0.81466841 0.24709845\n",
      "  0.86486312 0.83149541 0.74449556 0.49139942 0.69091289 0.98428358\n",
      "  0.51655038 0.80482961 0.46651003 0.19103764]\n",
      " [0.59295606 1.12361692 0.87871058 0.20197099 0.79344074 1.13798908\n",
      "  0.30596144 0.8730381  0.95357036 0.4705602  0.71411158 0.38657432\n",
      "  0.77755432 0.29351484 0.91234765 1.17006376 0.         0.32570354\n",
      "  0.31275921 0.5702392  0.50376964 0.44075068 0.96424135 0.98333344\n",
      "  0.6797164  0.80294439 0.5439742  0.86772478 0.92796803 0.8086722\n",
      "  0.32730429 0.56634789 0.33450686 0.37391627 0.65285939 0.58538686\n",
      "  0.75784136 0.54254931 0.3020112  0.63596613 0.30594997 0.75681896\n",
      "  0.65801692 0.36180559 0.07665608 0.159574   0.25604102 0.49242873\n",
      "  0.41498138 0.68681621 0.72963552 0.77520579 0.82719758 0.31682753\n",
      "  0.5815125  1.05652649 0.60196172 0.92993104 0.78356922 0.52531326\n",
      "  0.80235655 0.15183816 0.84068573 0.90526365 0.98768641 0.39713522\n",
      "  0.1209898  0.23477014 0.22696771 0.98611873 0.86410072 0.416455\n",
      "  0.28981737 0.87215033 0.86299746 0.14118034 0.58739585 1.09807008\n",
      "  0.72170344 0.90328202 0.94548483 0.40044808 0.67466534 0.88095385\n",
      "  0.08571102 0.79782182 0.54442031 0.34173259 0.50325392 0.96188677\n",
      "  0.50890758 0.84979417 0.54488365 0.73872272 0.79744752 0.2421216\n",
      "  0.69227605 0.37591446 0.78338733 1.06952017]\n",
      " [0.75947476 0.97837132 0.67165923 0.45857996 0.70598773 0.9993973\n",
      "  0.06091409 0.54749351 0.85483696 0.19565354 0.48475923 0.15686431\n",
      "  0.71724942 0.34832599 0.60753544 1.03247463 0.32570354 0.\n",
      "  0.42513682 0.73130975 0.70152899 0.50662124 0.78848936 0.90793391\n",
      "  0.7617799  0.62921656 0.41320082 0.55300481 0.61696597 0.71340435\n",
      "  0.2172025  0.65907779 0.17292411 0.33132837 0.43312745 0.7627927\n",
      "  0.61820204 0.26431157 0.19940016 0.64386571 0.14761641 0.75920094\n",
      "  0.33269876 0.58344991 0.25418778 0.22626305 0.19168901 0.37191232\n",
      "  0.43592919 0.82538018 0.88497256 0.45894406 0.62878968 0.21782536\n",
      "  0.46453249 0.87603255 0.27657983 0.66422383 0.50433411 0.57607357\n",
      "  0.58094417 0.18724246 0.66522424 0.68770686 0.85391417 0.5268487\n",
      "  0.20952989 0.1326743  0.09875901 0.75449526 0.55230691 0.43549895\n",
      "  0.19510963 0.69629204 0.56466923 0.18554541 0.32658716 0.94281631\n",
      "  0.65184982 0.61442221 0.63772999 0.44470797 0.35255677 0.72924958\n",
      "  0.35611005 0.62947521 0.22371885 0.01691879 0.23546937 0.87397045\n",
      "  0.21243657 0.53603166 0.61931846 0.70975229 0.51187378 0.1344559\n",
      "  0.65690651 0.39876697 0.7565098  0.89151386]\n",
      " [0.33448475 0.85899612 0.67804947 0.18857823 0.51320378 0.86885796\n",
      "  0.36806503 0.88573841 0.67030758 0.43683794 0.55823209 0.35527638\n",
      "  0.48528765 0.08262422 0.83993575 0.89927395 0.31275921 0.42513682\n",
      "  0.         0.30653372 0.28200596 0.12879967 0.72926518 0.68880011\n",
      "  0.37270274 0.58072019 0.33517155 0.82445429 0.86920562 0.53156696\n",
      "  0.24334184 0.25981068 0.29017834 0.17340721 0.49879189 0.33779524\n",
      "  0.5140759  0.48667334 0.5331591  0.32759293 0.29375063 0.4464799\n",
      "  0.68549553 0.1948602  0.33713541 0.22715098 0.23467311 0.29365099\n",
      "  0.12895971 0.40689584 0.46268277 0.74576045 0.62390991 0.23521386\n",
      "  0.35037984 0.81956967 0.63728092 0.79014656 0.67945005 0.21298057\n",
      "  0.62466202 0.2854377  0.61583295 0.71226717 0.72204237 0.10287205\n",
      "  0.34768132 0.43295587 0.36647568 0.80070296 0.81293487 0.13131273\n",
      "  0.52156555 0.64459255 0.78178234 0.34015058 0.49628991 0.84087349\n",
      "  0.43776152 0.80093587 0.8771439  0.10293721 0.67855765 0.63407537\n",
      "  0.234335   0.57173154 0.56391669 0.43226913 0.44791681 0.67325731\n",
      "  0.48894804 0.80537465 0.23340558 0.43651605 0.7013226  0.29155337\n",
      "  0.39477446 0.10775831 0.4788964  0.82993701]\n",
      " [0.02899231 0.87784649 0.81547549 0.37576088 0.54627051 0.87731715\n",
      "  0.67344488 1.15810838 0.6671519  0.71909177 0.75663133 0.64686396\n",
      "  0.49033048 0.38389799 1.07190247 0.90148085 0.5702392  0.73130975\n",
      "  0.30653372 0.         0.09717542 0.25226113 0.81426859 0.64882428\n",
      "  0.19246547 0.70504473 0.53153925 1.0738405  1.10766794 0.56838474\n",
      "  0.53707447 0.14855381 0.58638921 0.43795818 0.70772036 0.04534817\n",
      "  0.6193677  0.75547392 0.83151285 0.31443658 0.59543832 0.37034254\n",
      "  0.97073901 0.22252525 0.61711563 0.52818398 0.54004624 0.51279028\n",
      "  0.33294997 0.12057188 0.16033651 1.00627191 0.7654464  0.53100112\n",
      "  0.51651601 0.89168391 0.92681502 0.9768452  0.90288735 0.2376583\n",
      "  0.79389252 0.58550021 0.73098257 0.8544699  0.75345218 0.20449371\n",
      "  0.6379137  0.73405376 0.67142133 0.94226124 1.05874011 0.33479813\n",
      "  0.81951574 0.75167997 1.01199591 0.63546785 0.74713379 0.87604405\n",
      "  0.48051813 1.01578273 1.10947919 0.30972631 0.95633596 0.7128025\n",
      "  0.48461063 0.69230167 0.85268682 0.73791626 0.72116538 0.65441763\n",
      "  0.77095949 1.05519188 0.18883115 0.41628532 0.92812745 0.59805656\n",
      "  0.40832523 0.35447064 0.43525257 0.89685864]\n",
      " [0.10498246 0.9570113  0.86761067 0.30310339 0.6174348  0.95827896\n",
      "  0.64676117 1.16211891 0.74768144 0.71543239 0.78969781 0.63640191\n",
      "  0.56546467 0.36441422 1.09542478 0.98368716 0.50376964 0.70152899\n",
      "  0.28200596 0.09717542 0.         0.2713081  0.87935458 0.73498181\n",
      "  0.28580196 0.75887744 0.56020779 1.08970798 1.12861991 0.63936335\n",
      "  0.52449719 0.21846687 0.5719946  0.43880332 0.73645223 0.08755184\n",
      "  0.67616058 0.75982246 0.7810347  0.38421902 0.57543534 0.45590844\n",
      "  0.96585175 0.1429582  0.55824164 0.48579751 0.51439277 0.53332588\n",
      "  0.34546891 0.21184388 0.23473524 1.01637893 0.81574432 0.51679515\n",
      "  0.55377066 0.96052185 0.91857971 1.01621266 0.92865507 0.28615493\n",
      "  0.83670697 0.54062346 0.78761658 0.90580999 0.828929   0.19300489\n",
      "  0.58417268 0.68767356 0.63175931 0.99473597 1.07619263 0.34773778\n",
      "  0.76878125 0.81065479 1.03588666 0.58533053 0.76009372 0.95220218\n",
      "  0.54746921 1.04567317 1.13304497 0.31740777 0.95647008 0.77779458\n",
      "  0.41959382 0.74685712 0.84492996 0.71008397 0.72284911 0.73738315\n",
      "  0.76770727 1.07077157 0.24724417 0.49364366 0.95279163 0.56707876\n",
      "  0.47840489 0.35629041 0.51760021 0.96685983]\n",
      " [0.28099123 0.74993511 0.60725651 0.30649404 0.40100104 0.75743443\n",
      "  0.4461705  0.90586824 0.55364679 0.46944022 0.51855909 0.40226345\n",
      "  0.36595256 0.16830478 0.82555282 0.78675721 0.44075068 0.50662124\n",
      "  0.12879967 0.25226113 0.2713081  0.         0.63807279 0.56611782\n",
      "  0.25849232 0.5020246  0.28891063 0.82352428 0.85977194 0.42090033\n",
      "  0.29717513 0.15245879 0.346791   0.18946742 0.46518174 0.29393717\n",
      "  0.42547537 0.50338585 0.64082124 0.19987486 0.36204553 0.31775702\n",
      "  0.72057931 0.25142049 0.46000731 0.33909199 0.31758042 0.26352934\n",
      "  0.08102598 0.32420789 0.38848846 0.75435878 0.55403921 0.29316077\n",
      "  0.28505017 0.72533576 0.67833347 0.74621407 0.65798859 0.08460498\n",
      "  0.56888138 0.39637301 0.53402458 0.64425565 0.61425404 0.09645041\n",
      "  0.46545935 0.53868204 0.46572003 0.73361264 0.80905068 0.08274533\n",
      "  0.62984252 0.56011372 0.76584113 0.45440374 0.49552929 0.73581\n",
      "  0.32522062 0.77443743 0.86318913 0.0624744  0.70469613 0.53883064\n",
      "  0.36313349 0.4911746  0.60431184 0.51028245 0.46962163 0.55370071\n",
      "  0.52085291 0.80475183 0.11466    0.31161618 0.68243313 0.38077078\n",
      "  0.27362062 0.10927627 0.35241871 0.73414529]\n",
      " [0.8342811  0.2044096  0.14134659 0.91529624 0.27232916 0.23155722\n",
      "  0.74845413 0.74224277 0.23355437 0.60057014 0.31943166 0.63630928\n",
      "  0.3346087  0.69446279 0.52109299 0.26234446 0.96424135 0.78848936\n",
      "  0.72926518 0.81426859 0.87935458 0.63807279 0.         0.31200849\n",
      "  0.65607201 0.1628882  0.4203163  0.58712648 0.56634158 0.25068602\n",
      "  0.64426908 0.66651697 0.65545408 0.59521814 0.35880799 0.85838101\n",
      "  0.21519602 0.54831541 0.98781795 0.49984975 0.69003061 0.47868171\n",
      "  0.70256563 0.88947145 0.93729894 0.80721794 0.71671746 0.47182589\n",
      "  0.60080733 0.79658548 0.85844273 0.59623206 0.1649228  0.65338923\n",
      "  0.38656399 0.0923117  0.70766916 0.3261546  0.41194714 0.59525637\n",
      "  0.23199643 0.83739048 0.12523307 0.15636536 0.13870414 0.73440172\n",
      "  0.91306007 0.9064708  0.83383925 0.1915185  0.56428776 0.59837206\n",
      "  0.98298071 0.09344614 0.48137572 0.88852137 0.48124764 0.16114806\n",
      "  0.33375149 0.43173412 0.54576295 0.62922463 0.65374278 0.10162344\n",
      "  0.91792257 0.16662947 0.67096906 0.777206   0.56232426 0.26769886\n",
      "  0.60913468 0.57802809 0.63235406 0.40907063 0.43205976 0.75686896\n",
      "  0.4064677  0.62469581 0.41011769 0.10558888]\n",
      " [0.6602088  0.25084262 0.42208495 0.87255808 0.20203059 0.24099671\n",
      "  0.85442087 1.01173866 0.08052109 0.75294366 0.53655812 0.75249534\n",
      "  0.2057806  0.68989259 0.81111071 0.25928374 0.98333344 0.90793391\n",
      "  0.68880011 0.64882428 0.73498181 0.56611782 0.31200849 0.\n",
      "  0.46023994 0.35590472 0.49476518 0.86530886 0.85675129 0.19533868\n",
      "  0.71226031 0.51991287 0.74312605 0.62066312 0.54418865 0.68657519\n",
      "  0.31170699 0.72530989 1.09607483 0.3709929  0.77592384 0.27911808\n",
      "  0.92551814 0.79363441 0.98054091 0.84542841 0.77555154 0.53754858\n",
      "  0.56991898 0.59065107 0.63980628 0.85334396 0.41039059 0.71756276\n",
      "  0.44343144 0.33625585 0.91490127 0.62691835 0.67364637 0.49223747\n",
      "  0.48360755 0.8915036  0.34227518 0.45199612 0.17818766 0.64965599\n",
      "  0.96982938 1.00006048 0.92108971 0.50310895 0.84289936 0.56822493\n",
      "  1.08823931 0.33119472 0.76332455 0.95011019 0.66684791 0.26830055\n",
      "  0.2644212  0.72391505 0.84011208 0.58875942 0.8826901  0.26044319\n",
      "  0.91606076 0.34561663 0.860344   0.90154695 0.72247623 0.04642821\n",
      "  0.78065266 0.85299398 0.50498016 0.25534722 0.69830945 0.83189155\n",
      "  0.29404374 0.60768302 0.22034493 0.33132759]\n",
      " [0.20063547 0.69664178 0.68096482 0.50861382 0.38374696 0.69376436\n",
      "  0.7009458  1.10796434 0.48571679 0.69880006 0.66127139 0.64435935\n",
      "  0.32215679 0.42640783 0.98575725 0.71629543 0.6797164  0.7617799\n",
      "  0.37270274 0.19246547 0.28580196 0.25849232 0.65607201 0.46023994\n",
      "  0.         0.57063154 0.45950135 1.0024207  1.02571454 0.40542159\n",
      "  0.54741977 0.11345441 0.59597126 0.43392423 0.62328656 0.22708223\n",
      "  0.48252412 0.71740092 0.89895852 0.17685452 0.61516741 0.1862678\n",
      "  0.94273012 0.38101699 0.7097244  0.59542755 0.57507605 0.45958669\n",
      "  0.32600956 0.14052016 0.20401951 0.94773005 0.63587928 0.54506101\n",
      "  0.42775457 0.72598475 0.90680685 0.86258235 0.81668881 0.18632176\n",
      "  0.6779274  0.6532912  0.59029564 0.72048501 0.57873057 0.28289577\n",
      "  0.71960657 0.79695954 0.72420008 0.80434544 0.9845914  0.32656015\n",
      "  0.88787121 0.6059667  0.92649615 0.71035279 0.69232404 0.69908506\n",
      "  0.33006325 0.91866684 1.02248025 0.31835283 0.9188363  0.55689276\n",
      "  0.59624906 0.55693249 0.83436809 0.76424473 0.69016085 0.4696848\n",
      "  0.74722083 0.98475729 0.14383831 0.24713065 0.84333429 0.63864434\n",
      "  0.25646456 0.36332979 0.25507295 0.72920769]\n",
      " [0.72812955 0.35040795 0.11094084 0.76344259 0.21420301 0.37315195\n",
      "  0.58727863 0.65609532 0.27938627 0.44555392 0.18464986 0.47539422\n",
      "  0.27468733 0.53917313 0.46493558 0.40600001 0.80294439 0.62921656\n",
      "  0.58072019 0.70504473 0.75887744 0.5020246  0.1628882  0.35590472\n",
      "  0.57063154 0.         0.25998286 0.51211705 0.51000091 0.20011928\n",
      "  0.48155649 0.55689594 0.49269409 0.43709957 0.20806642 0.75025421\n",
      "  0.08810783 0.39971188 0.82815091 0.39851644 0.52730431 0.41567855\n",
      "  0.5782005  0.75173631 0.77467789 0.6452563  0.55407991 0.31112485\n",
      "  0.45451495 0.70796907 0.77415183 0.49749891 0.06723812 0.49077647\n",
      "  0.23140095 0.25451351 0.57453426 0.30197464 0.31839019 0.47301512\n",
      "  0.13100774 0.67462383 0.03782845 0.1503758  0.23650888 0.59803284\n",
      "  0.75018315 0.7449256  0.67159771 0.23723059 0.49006614 0.4519965\n",
      "  0.82292163 0.06957242 0.41304021 0.72563332 0.33445761 0.31362684\n",
      "  0.2426672  0.38200731 0.49701713 0.48422163 0.53277583 0.10809683\n",
      "  0.75913958 0.0140004  0.52912487 0.61858975 0.4086879  0.31048676\n",
      "  0.45972806 0.4989392  0.51701273 0.33705913 0.3436056  0.59401763\n",
      "  0.31465095 0.47395409 0.35640967 0.26840682]\n",
      " [0.55891411 0.58646748 0.34679268 0.50986139 0.29292241 0.60375388\n",
      "  0.36062899 0.64855    0.44305038 0.27133587 0.22996383 0.25796007\n",
      "  0.30938088 0.28297967 0.54044483 0.63658527 0.5439742  0.41320082\n",
      "  0.33517155 0.53153925 0.56020779 0.28891063 0.4203163  0.49476518\n",
      "  0.45950135 0.25998286 0.         0.54689343 0.57688567 0.30028483\n",
      "  0.22978773 0.39766029 0.25210804 0.17818846 0.17669725 0.57571918\n",
      "  0.21758368 0.26791253 0.60376695 0.29287288 0.28620763 0.38308605\n",
      "  0.49316812 0.52110854 0.51985636 0.38773785 0.30051224 0.0515818\n",
      "  0.22042325 0.57408469 0.64275327 0.48837642 0.29294973 0.2376562\n",
      "  0.05187841 0.51262098 0.46487969 0.45975916 0.37135673 0.29803548\n",
      "  0.28953705 0.42164287 0.29747834 0.37914427 0.45401889 0.37647197\n",
      "  0.49911342 0.51096032 0.4332995  0.46669565 0.53040138 0.21791367\n",
      "  0.5965668  0.32867064 0.48052514 0.47597917 0.23379361 0.55739681\n",
      "  0.24366979 0.48588329 0.5779962  0.2509161  0.46401598 0.33907014\n",
      "  0.49925037 0.25413715 0.3976263  0.40683264 0.249729   0.46104136\n",
      "  0.31036322 0.52871049 0.35092313 0.317558   0.39661767 0.34811514\n",
      "  0.26659165 0.22781659 0.36146038 0.52554643]\n",
      " [1.10194904 0.78220486 0.4506964  0.94662113 0.71620019 0.8115395\n",
      "  0.56189782 0.15820998 0.78629104 0.4058625  0.35138921 0.49534754\n",
      "  0.76851734 0.74642662 0.08711689 0.83884653 0.86772478 0.55300481\n",
      "  0.82445429 1.0738405  1.08970798 0.82352428 0.58712648 0.86530886\n",
      "  1.0024207  0.51211705 0.54689343 0.         0.06899144 0.70643041\n",
      "  0.59500199 0.94432568 0.56061455 0.65377232 0.37973297 1.11683068\n",
      "  0.57843204 0.34205159 0.7055598  0.8287627  0.57755934 0.89157904\n",
      "  0.24666315 1.01870712 0.80251933 0.72996322 0.64276589 0.56105143\n",
      "  0.74521767 1.12092249 1.18962071 0.09427514 0.45494476 0.60562426\n",
      "  0.57467342 0.63303747 0.29473296 0.27559181 0.19595166 0.84440881\n",
      "  0.38202754 0.71694157 0.52304474 0.43078699 0.71780923 0.89741266\n",
      "  0.75954963 0.67999787 0.64776462 0.42835618 0.02283927 0.7430688\n",
      "  0.70836756 0.53651885 0.1059818  0.7339086  0.32975953 0.73522889\n",
      "  0.71760531 0.16491762 0.09747486 0.77244116 0.20751006 0.60582682\n",
      "  0.87496434 0.52395014 0.32981147 0.53608635 0.382879   0.8191262\n",
      "  0.36089964 0.0190846  0.89746923 0.8138387  0.16949955 0.63046073\n",
      "  0.77422147 0.73414683 0.84560874 0.64935846]\n",
      " [1.13534729 0.75458285 0.43595978 0.9989334  0.72015766 0.78429897\n",
      "  0.6228642  0.20458815 0.77671803 0.46155094 0.36588642 0.55044552\n",
      "  0.77565764 0.79307707 0.0456682  0.81007186 0.92796803 0.61696597\n",
      "  0.86920562 1.10766794 1.12861991 0.85977194 0.56634158 0.85675129\n",
      "  1.02571454 0.51000091 0.57688567 0.06899144 0.         0.70851701\n",
      "  0.64584499 0.97403079 0.61423212 0.69679176 0.40351877 1.15137314\n",
      "  0.58311471 0.39429846 0.77328439 0.85012431 0.63327273 0.9047123\n",
      "  0.31557674 1.06401297 0.86430718 0.78678527 0.69727729 0.59624582\n",
      "  0.78318034 1.14851721 1.2173048  0.16089477 0.44835712 0.65672203\n",
      "  0.59967723 0.60338791 0.36299848 0.24318464 0.20907555 0.87478493\n",
      "  0.37908795 0.7765704  0.51600353 0.4110233  0.70113941 0.93755344\n",
      "  0.82190202 0.74530366 0.71042684 0.39500351 0.06468227 0.78093316\n",
      "  0.77586803 0.52561965 0.09998686 0.79598298 0.3729907  0.70735247\n",
      "  0.72876578 0.13462489 0.03109577 0.81136469 0.27547433 0.59631906\n",
      "  0.93174409 0.52272446 0.39490024 0.60005982 0.43537752 0.81033347\n",
      "  0.41930399 0.08254877 0.92749465 0.82596684 0.18238068 0.68873994\n",
      "  0.78944527 0.77513143 0.85479705 0.6191959 ]\n",
      " [0.5869881  0.3290506  0.29806317 0.71986301 0.02211822 0.33745721\n",
      "  0.6607159  0.84416477 0.14604948 0.55814246 0.36135615 0.55755763\n",
      "  0.08442798 0.51829421 0.66379522 0.36770746 0.8086722  0.71340435\n",
      "  0.53156696 0.56838474 0.63936335 0.42090033 0.25068602 0.19533868\n",
      "  0.40542159 0.20011928 0.30028483 0.70643041 0.70851701 0.\n",
      "  0.52215321 0.42258075 0.55053955 0.43795629 0.3585993  0.61169999\n",
      "  0.12916135 0.53317986 0.90329295 0.25536152 0.58388554 0.23003177\n",
      "  0.74001494 0.66709995 0.79901046 0.66361708 0.588026   0.34474515\n",
      "  0.40500075 0.5459414  0.60783662 0.68201881 0.26597972 0.52819494\n",
      "  0.2494709  0.3234271  0.72573357 0.50029567 0.51068594 0.36291693\n",
      "  0.32981369 0.70641847 0.20464878 0.33588038 0.19372314 0.51392523\n",
      "  0.78494488 0.80867402 0.73009528 0.41125489 0.68491916 0.40293273\n",
      "  0.8957758  0.21114421 0.61039564 0.7639901  0.47717087 0.31639082\n",
      "  0.09581326 0.58192915 0.69651576 0.42867853 0.69956244 0.15296238\n",
      "  0.74754806 0.18673221 0.668524   0.70670851 0.52843902 0.16091793\n",
      "  0.58723753 0.6921389  0.39282009 0.15838614 0.53693955 0.64205038\n",
      "  0.16099626 0.43843034 0.1637921  0.32849493]\n",
      " [0.56595824 0.81612208 0.5520685  0.35338555 0.51141627 0.83354155\n",
      "  0.15661496 0.64462562 0.66754229 0.19549219 0.38817115 0.11196108\n",
      "  0.5135946  0.1607813  0.62171218 0.86636822 0.32730429 0.2172025\n",
      "  0.24334184 0.53707447 0.52449719 0.29717513 0.64426908 0.71226031\n",
      "  0.54741977 0.48155649 0.22978773 0.59500199 0.64584499 0.52215321\n",
      "  0.         0.44861549 0.0497046  0.11437212 0.32645601 0.57330515\n",
      "  0.44727594 0.25296236 0.38645821 0.42709614 0.06982542 0.54378305\n",
      "  0.4421928  0.4306516  0.29317635 0.16774317 0.07268548 0.17986709\n",
      "  0.22178793 0.62080241 0.68362719 0.51105869 0.50121639 0.0112895\n",
      "  0.27571101 0.73606982 0.39410537 0.60998945 0.4742927  0.36113615\n",
      "  0.47512725 0.19316317 0.51936894 0.57803859 0.6837439  0.33580047\n",
      "  0.26973991 0.28816056 0.20899354 0.65894054 0.58595681 0.22107323\n",
      "  0.3778177  0.55112726 0.5665989  0.24625144 0.27850871 0.78628278\n",
      "  0.44973882 0.59693193 0.65772501 0.23472126 0.4367054  0.5678936\n",
      "  0.30129247 0.4778356  0.32060245 0.21782937 0.21229709 0.68250838\n",
      "  0.24701874 0.57600298 0.40668724 0.49832613 0.49214646 0.1198973\n",
      "  0.44583042 0.18790127 0.54537436 0.74985593]\n",
      " [0.17129138 0.73855575 0.6674972  0.39860971 0.4005311  0.74004024\n",
      "  0.59862406 1.03861557 0.52947287 0.61318314 0.61676855 0.5511641\n",
      "  0.34719128 0.31738137 0.93657845 0.76575957 0.56634789 0.65907779\n",
      "  0.25981068 0.14855381 0.21846687 0.15245879 0.66651697 0.51991287\n",
      "  0.11345441 0.55689594 0.39766029 0.94432568 0.97403079 0.42258075\n",
      "  0.44861549 0.         0.49803587 0.33801692 0.57117201 0.19353032\n",
      "  0.47093033 0.63999096 0.78894504 0.16734988 0.51428849 0.24253703\n",
      "  0.86210065 0.2824959  0.59656466 0.48417941 0.46966401 0.38672538\n",
      "  0.22782594 0.17908998 0.24682677 0.88218037 0.61792321 0.4450513\n",
      "  0.37647776 0.74521074 0.82251401 0.83267022 0.7668854  0.10012131\n",
      "  0.64877197 0.54228475 0.58249808 0.70660177 0.61077656 0.16992551\n",
      "  0.60725277 0.68734025 0.61607554 0.79412453 0.92803552 0.22888524\n",
      "  0.77768266 0.60312877 0.8767004  0.59868846 0.62321825 0.73396539\n",
      "  0.33288636 0.87650872 0.97396126 0.21461725 0.84246138 0.56495166\n",
      "  0.48310078 0.54405849 0.74894317 0.6627006  0.60919432 0.52004219\n",
      "  0.66349233 0.92602392 0.04696985 0.27519499 0.79275092 0.53252257\n",
      "  0.26172909 0.26113846 0.30065371 0.75089803]\n",
      " [0.61524368 0.8341219  0.55477949 0.38616379 0.54129847 0.85285819\n",
      "  0.1139527  0.60234511 0.69464373 0.15583674 0.38168821 0.06739489\n",
      "  0.54805166 0.20760861 0.59261415 0.88585917 0.33450686 0.17292411\n",
      "  0.29017834 0.58638921 0.5719946  0.346791   0.65545408 0.74312605\n",
      "  0.59597126 0.49269409 0.25210804 0.56061455 0.61423212 0.55053955\n",
      "  0.0497046  0.49803587 0.         0.1621327  0.32151728 0.62226917\n",
      "  0.46670942 0.21996837 0.35295586 0.47144328 0.03471322 0.58628424\n",
      "  0.39680652 0.47396867 0.2898742  0.17868692 0.08367409 0.20581237\n",
      "  0.27083347 0.67049834 0.73331888 0.47406705 0.50589467 0.05551598\n",
      "  0.30137836 0.74635251 0.34740242 0.59555888 0.45243105 0.40965016\n",
      "  0.4728361  0.18899369 0.53022738 0.57803437 0.70415306 0.3844965\n",
      "  0.25995427 0.25885233 0.18153823 0.65561762 0.55292285 0.27003585\n",
      "  0.34526197 0.56200794 0.5392995  0.2344363  0.25529275 0.80221956\n",
      "  0.48321609 0.57399071 0.62785286 0.28435567 0.39413223 0.58453398\n",
      "  0.32092658 0.49033191 0.27452287 0.17174875 0.178908   0.71143368\n",
      "  0.20555086 0.54176788 0.45580925 0.53749461 0.46831028 0.10200445\n",
      "  0.48470861 0.23753155 0.58437311 0.76074299]\n",
      " [0.46693915 0.74970487 0.52452394 0.33399554 0.42426403 0.76417681\n",
      "  0.27054831 0.72378751 0.58384346 0.28113833 0.38894936 0.2132529\n",
      "  0.41708793 0.10690415 0.66685658 0.7963385  0.37391627 0.33132837\n",
      "  0.17340721 0.43795818 0.43880332 0.18946742 0.59521814 0.62066312\n",
      "  0.43392423 0.43709957 0.17818846 0.65377232 0.69679176 0.43795629\n",
      "  0.11437212 0.33801692 0.1621327  0.         0.32827239 0.47715321\n",
      "  0.38506707 0.32108106 0.49208368 0.31467926 0.18371442 0.43329988\n",
      "  0.53278246 0.36804219 0.36113093 0.22571023 0.15951245 0.12951095\n",
      "  0.11021976 0.51333218 0.57795299 0.57797517 0.47086426 0.11368395\n",
      "  0.20913853 0.68741119 0.4893596  0.62042035 0.50608245 0.24762825\n",
      "  0.46184105 0.27100446 0.47423364 0.55595567 0.61382312 0.24581802\n",
      "  0.34920415 0.39100975 0.31238513 0.64247769 0.64149432 0.10913211\n",
      "  0.48256723 0.50498352 0.60852733 0.33002903 0.32440981 0.72459953\n",
      "  0.35625619 0.62773644 0.70414389 0.12857515 0.51950975 0.50835517\n",
      "  0.32271171 0.4303982  0.41526269 0.33220107 0.28473189 0.59497502\n",
      "  0.33301863 0.63472829 0.2946875  0.39324054 0.52791776 0.22147188\n",
      "  0.34176842 0.08372996 0.44022811 0.69965569]\n",
      " [0.73486087 0.5564783  0.23889641 0.65934547 0.3623405  0.58023837\n",
      "  0.39860422 0.4982044  0.47426155 0.24200582 0.06208273 0.28735342\n",
      "  0.40475787 0.43442764 0.36541577 0.61287994 0.65285939 0.43312745\n",
      "  0.49879189 0.70772036 0.73645223 0.46518174 0.35880799 0.54418865\n",
      "  0.62328656 0.20806642 0.17669725 0.37973297 0.40351877 0.3585993\n",
      "  0.32645601 0.57117201 0.32151728 0.32827239 0.         0.75208758\n",
      "  0.23276334 0.19171817 0.63232168 0.44904971 0.35401174 0.51613942\n",
      "  0.38185979 0.69032987 0.61139031 0.49368493 0.39682028 0.20667753\n",
      "  0.39381132 0.74500834 0.81379504 0.33446432 0.19614769 0.33734914\n",
      "  0.19620273 0.44396071 0.37138051 0.29216791 0.19571729 0.47252835\n",
      "  0.151746   0.51047704 0.24021884 0.25807795 0.44411614 0.55049866\n",
      "  0.58029441 0.55659445 0.48877577 0.33411282 0.36143968 0.39137409\n",
      "  0.628236   0.26945683 0.30555943 0.55419837 0.12659594 0.51732851\n",
      "  0.34713079 0.30927588 0.40278994 0.42376662 0.3409853  0.31547064\n",
      "  0.62584788 0.21246533 0.32185081 0.42088009 0.20352459 0.50168378\n",
      "  0.2519932  0.36246484 0.52488527 0.44032825 0.22164695 0.42238695\n",
      "  0.39740619 0.39478253 0.47624785 0.4597682 ]\n",
      " [0.02644854 0.91849439 0.86072816 0.38670302 0.58958196 0.91727254\n",
      "  0.70583952 1.19909104 0.70754436 0.75800074 0.80141466 0.68395243\n",
      "  0.5328149  0.41741851 1.11590429 0.94088339 0.58538686 0.7627927\n",
      "  0.33779524 0.04534817 0.08755184 0.29393717 0.85838101 0.68657519\n",
      "  0.22708223 0.75025421 0.57571918 1.11683068 1.15137314 0.61169999\n",
      "  0.57330515 0.19353032 0.62226917 0.47715321 0.75208758 0.\n",
      "  0.66445198 0.79617922 0.85509575 0.35856351 0.62972629 0.40929972\n",
      "  1.00966701 0.22806124 0.63637528 0.55450647 0.57240587 0.55589963\n",
      "  0.37404062 0.12798917 0.14749824 1.04829334 0.81075948 0.56676383\n",
      "  0.56144382 0.93511065 0.96489174 1.02206155 0.94706551 0.2828264\n",
      "  0.83919112 0.61100152 0.7760284  0.89974326 0.79542201 0.23802881\n",
      "  0.65968416 0.75926362 0.69921031 0.98747942 1.10195357 0.37598126\n",
      "  0.84296807 0.79653723 1.05601569 0.65886088 0.78941773 0.91769338\n",
      "  0.5246868  1.06040881 1.15349999 0.3496662  0.99637981 0.7569983\n",
      "  0.50033217 0.73748136 0.89079933 0.77006368 0.76126999 0.69380165\n",
      "  0.81004216 1.09812953 0.23417925 0.45834555 0.97219632 0.6288236\n",
      "  0.45212431 0.39344075 0.47546108 0.94004876]\n",
      " [0.64193637 0.36888404 0.19871149 0.70037815 0.13776922 0.3864733\n",
      "  0.57032385 0.71503576 0.24454213 0.44829595 0.23220468 0.46143768\n",
      "  0.19305683 0.48121634 0.53892938 0.41939586 0.75784136 0.61820204\n",
      "  0.5140759  0.6193677  0.67616058 0.42547537 0.21519602 0.31170699\n",
      "  0.48252412 0.08810783 0.21758368 0.57843204 0.58311471 0.12916135\n",
      "  0.44727594 0.47093033 0.46670942 0.38506707 0.23276334 0.66445198\n",
      "  0.         0.41502831 0.81400219 0.31084695 0.50127361 0.33001458\n",
      "  0.61455127 0.67671044 0.73692542 0.60379281 0.51806399 0.26846716\n",
      "  0.38562988 0.61998488 0.68607323 0.55286517 0.15410803 0.45523734\n",
      "  0.17633098 0.30582681 0.60319761 0.38668471 0.38250187 0.39001667\n",
      "  0.20736644 0.63915857 0.11172157 0.23822505 0.23745643 0.52192173\n",
      "  0.71669651 0.72466429 0.64821113 0.32395338 0.55715083 0.38319036\n",
      "  0.80761136 0.13507415 0.48416498 0.69351656 0.35531238 0.34054227\n",
      "  0.15520995 0.45966269 0.57265069 0.41416754 0.57280605 0.12328871\n",
      "  0.70709201 0.07444684 0.54952559 0.60953904 0.41529371 0.27007378\n",
      "  0.47184517 0.56382431 0.43217161 0.25090429 0.40897231 0.56489306\n",
      "  0.22661543 0.40983496 0.27366607 0.31684272]\n",
      " [0.78429171 0.74783066 0.42015191 0.60503216 0.53271406 0.77184343\n",
      "  0.24750499 0.40301931 0.65947904 0.07299706 0.23110702 0.15757015\n",
      "  0.56402496 0.40673285 0.37312666 0.80442492 0.54254931 0.26431157\n",
      "  0.48667334 0.75547392 0.75982246 0.50338585 0.54831541 0.72530989\n",
      "  0.71740092 0.39971188 0.26791253 0.34205159 0.39429846 0.53317986\n",
      "  0.25296236 0.63999096 0.21996837 0.32108106 0.19171817 0.79617922\n",
      "  0.41502831 0.         0.45774888 0.55844996 0.24051964 0.6506838\n",
      "  0.22614623 0.6794558  0.48559999 0.39468611 0.30323112 0.25794236\n",
      "  0.42253068 0.81905558 0.88630308 0.2593364  0.38377186 0.263573\n",
      "  0.31394258 0.63053439 0.19763823 0.40085165 0.24419554 0.5410421\n",
      "  0.32624684 0.39095038 0.43179837 0.43119267 0.63533182 0.56687783\n",
      "  0.4468616  0.39588493 0.34088055 0.49260623 0.33340356 0.42070611\n",
      "  0.4554753  0.46061303 0.32121327 0.42011308 0.0673495  0.7080246\n",
      "  0.50035398 0.36124009 0.40804491 0.44661383 0.20247499 0.50674926\n",
      "  0.53910131 0.40366546 0.13536447 0.24941404 0.04107962 0.68484799\n",
      "  0.06085414 0.32306527 0.59347152 0.58280863 0.25570624 0.30048237\n",
      "  0.53313542 0.40426894 0.62488625 0.64676955]\n",
      " [0.85751718 1.17665417 0.87057501 0.49306917 0.89424971 1.19722246\n",
      "  0.2437785  0.66263606 1.0468165  0.39276862 0.68296293 0.35353408\n",
      "  0.89969967 0.47258954 0.77166982 1.23031017 0.3020112  0.19940016\n",
      "  0.5331591  0.83151285 0.7810347  0.64082124 0.98781795 1.09607483\n",
      "  0.89895852 0.82815091 0.60376695 0.7055598  0.77328439 0.90329295\n",
      "  0.38645821 0.78894504 0.35295586 0.49208368 0.63232168 0.85509575\n",
      "  0.81400219 0.45774888 0.         0.80513524 0.32035835 0.92506447\n",
      "  0.46298547 0.64539555 0.23047856 0.30600815 0.33329958 0.55869772\n",
      "  0.58292783 0.93888404 0.99120658 0.61241746 0.82812838 0.38287753\n",
      "  0.65389035 1.07543047 0.41122749 0.85204365 0.68951952 0.71966519\n",
      "  0.77921592 0.24773227 0.86434343 0.8857502  1.05072309 0.63453545\n",
      "  0.19754578 0.10240275 0.17973476 0.95025783 0.70943832 0.5831784\n",
      "  0.01239058 0.89549425 0.73612296 0.1962409  0.52251544 1.14163876\n",
      "  0.83536643 0.79166846 0.79772675 0.5833967  0.49805017 0.92713965\n",
      "  0.37229339 0.82810802 0.38457626 0.21150485 0.43255887 1.06421042\n",
      "  0.40106498 0.69073677 0.75533701 0.88391824 0.69358503 0.27061918\n",
      "  0.83169237 0.54198033 0.93099534 1.09091355]\n",
      " [0.3346861  0.57530417 0.50942052 0.50495569 0.23335664 0.57863949\n",
      "  0.58360319 0.93954988 0.36915555 0.54975279 0.48499846 0.50856765\n",
      "  0.18254636 0.34821147 0.80971518 0.60574904 0.63596613 0.64386571\n",
      "  0.32759293 0.31443658 0.38421902 0.19987486 0.49984975 0.3709929\n",
      "  0.17685452 0.39851644 0.29287288 0.8287627  0.85012431 0.25536152\n",
      "  0.42709614 0.16734988 0.47144328 0.31467926 0.44904971 0.35856351\n",
      "  0.31084695 0.55844996 0.80513524 0.         0.49691896 0.12203335\n",
      "  0.7845456  0.42412126 0.64733581 0.51798601 0.47188513 0.30276871\n",
      "  0.22673423 0.31012811 0.37730508 0.77769801 0.46238976 0.42778971\n",
      "  0.25558565 0.57787107 0.75305189 0.68649623 0.64105012 0.12144775\n",
      "  0.50169694 0.5718008  0.4211494  0.5488884  0.44511391 0.27876086\n",
      "  0.64638465 0.70323732 0.62554052 0.63468202 0.81043653 0.22591482\n",
      "  0.79520234 0.43977936 0.75065113 0.631493   0.52650549 0.56848169\n",
      "  0.16612388 0.74187937 0.84628687 0.23609278 0.7567472  0.39843561\n",
      "  0.56115414 0.38512401 0.68285327 0.64318703 0.53548578 0.36388224\n",
      "  0.59484452 0.81138574 0.13918882 0.11612382 0.66781369 0.53514882\n",
      "  0.09440335 0.26834152 0.15326169 0.58356249]\n",
      " [0.62409202 0.86880386 0.58842869 0.37250716 0.57428007 0.88748743\n",
      "  0.08686272 0.61085244 0.72831358 0.17184565 0.41360515 0.08300221\n",
      "  0.57959075 0.21239726 0.61353887 0.92048163 0.30594997 0.14761641\n",
      "  0.29375063 0.59543832 0.57543534 0.36204553 0.69003061 0.77592384\n",
      "  0.61516741 0.52730431 0.28620763 0.57755934 0.63327273 0.58388554\n",
      "  0.06982542 0.51428849 0.03471322 0.18371442 0.35401174 0.62972629\n",
      "  0.50127361 0.24051964 0.32035835 0.49691896 0.         0.61339305\n",
      "  0.40140418 0.47069219 0.257874   0.15417576 0.06721647 0.23918921\n",
      "  0.28915862 0.68391715 0.74539386 0.48896029 0.53988101 0.07029658\n",
      "  0.33504601 0.78085002 0.34974827 0.62432754 0.47814966 0.42912302\n",
      "  0.50559799 0.15763203 0.56481179 0.61116204 0.73869976 0.39175743\n",
      "  0.22648311 0.22493614 0.14713189 0.68792207 0.5710177  0.28862045\n",
      "  0.31233406 0.59658554 0.56157347 0.20067682 0.28153994 0.83693277\n",
      "  0.51507357 0.59876823 0.64814668 0.29968947 0.40309515 0.61923564\n",
      "  0.2986992  0.52500191 0.27882547 0.14909315 0.19999049 0.74471913\n",
      "  0.21810551 0.5589025  0.47342901 0.56682444 0.49290295 0.06840231\n",
      "  0.5141755  0.25319159 0.61381757 0.79528244]\n",
      " [0.3831188  0.51052251 0.52195678 0.61822362 0.20984448 0.50825114\n",
      "  0.69955841 1.01410439 0.2995139  0.65098672 0.54058913 0.61836918\n",
      "  0.14582621 0.47020708 0.86191323 0.53158593 0.75681896 0.75920094\n",
      "  0.4464799  0.37034254 0.45590844 0.31775702 0.47868171 0.27911808\n",
      "  0.1862678  0.41567855 0.38308605 0.89157904 0.9047123  0.23003177\n",
      "  0.54378305 0.24253703 0.58628424 0.43329988 0.51613942 0.40929972\n",
      "  0.33001458 0.6506838  0.92506447 0.12203335 0.61339305 0.\n",
      "  0.87474432 0.52181151 0.76931078 0.63995701 0.59180862 0.4038389\n",
      "  0.34873286 0.3242382  0.38217667 0.8504839  0.48285776 0.54527697\n",
      "  0.33736417 0.54356849 0.84793511 0.7166631  0.69784592 0.23480519\n",
      "  0.53616185 0.69353795 0.42859203 0.56088929 0.39325736 0.38727947\n",
      "  0.76835023 0.82347516 0.74533805 0.63979494 0.87171109 0.34788388\n",
      "  0.91532505 0.43927687 0.80477356 0.75326729 0.61054424 0.51295911\n",
      "  0.1766735  0.78659672 0.89702701 0.35775097 0.84264309 0.38291387\n",
      "  0.68072376 0.40167854 0.78041239 0.75752532 0.63233934 0.28452021\n",
      "  0.6927831  0.87529762 0.23400082 0.07932993 0.72486156 0.65461279\n",
      "  0.11926304 0.39031306 0.06975475 0.54585781]\n",
      " [0.99971786 0.90696641 0.56228906 0.77057005 0.74263475 0.93392799\n",
      "  0.3582708  0.21515055 0.85382572 0.25168104 0.39362139 0.33040899\n",
      "  0.78023144 0.60297203 0.3222925  0.96490976 0.65801692 0.33269876\n",
      "  0.68549553 0.97073901 0.96585175 0.72057931 0.70256563 0.92551814\n",
      "  0.94273012 0.5782005  0.49316812 0.24666315 0.31557674 0.74001494\n",
      "  0.4421928  0.86210065 0.39680652 0.53278246 0.38185979 1.00966701\n",
      "  0.61455127 0.22614623 0.46298547 0.7845456  0.40140418 0.87474432\n",
      "  0.         0.87058955 0.58683199 0.5400063  0.46832343 0.4837739\n",
      "  0.63964641 1.04075897 1.10722387 0.1587072  0.54237965 0.45067947\n",
      "  0.53738082 0.77115566 0.05612559 0.45584347 0.30342086 0.7641899\n",
      "  0.47088677 0.51376747 0.60321294 0.55871244 0.81197878 0.77489452\n",
      "  0.54198927 0.44926904 0.43136127 0.59147955 0.25439291 0.6380516\n",
      "  0.46677753 0.62701696 0.3015203  0.51824415 0.26625754 0.86284494\n",
      "  0.71852166 0.36600361 0.34265734 0.66113791 0.05114708 0.68550482\n",
      "  0.6808614  0.58575039 0.12262887 0.31640404 0.25310201 0.88235988\n",
      "  0.19980682 0.23406135 0.81603091 0.80485872 0.29307411 0.43760423\n",
      "  0.75635989 0.6163607  0.84545837 0.78804206]\n",
      " [0.2401592  0.99483443 0.85489086 0.16037523 0.64632005 1.00027817\n",
      "  0.5328144  1.07527052 0.79237423 0.62609886 0.74852023 0.54096982\n",
      "  0.60420189 0.27272589 1.03477753 1.02834985 0.36180559 0.58344991\n",
      "  0.1948602  0.22252525 0.1429582  0.25142049 0.88947145 0.79363441\n",
      "  0.38101699 0.75173631 0.52110854 1.01870712 1.06401297 0.66709995\n",
      "  0.4306516  0.2824959  0.47396867 0.36804219 0.69032987 0.22806124\n",
      "  0.67671044 0.6794558  0.64539555 0.42412126 0.47069219 0.52181151\n",
      "  0.87058955 0.         0.41915984 0.36015797 0.40535445 0.48380722\n",
      "  0.30182532 0.34309693 0.37527539 0.93878992 0.80113964 0.42128355\n",
      "  0.52803351 0.97642222 0.82008683 0.98003256 0.87371716 0.30568767\n",
      "  0.80941306 0.41151344 0.78452258 0.89095328 0.86078809 0.15508476\n",
      "  0.44785967 0.5554584  0.50561941 0.98019024 1.00747606 0.30437707\n",
      "  0.63304964 0.81110118 0.97655707 0.45144256 0.69105353 0.98338186\n",
      "  0.57142548 0.99478877 1.07199811 0.27120247 0.8672719  0.79001165\n",
      "  0.27860287 0.74129536 0.74807389 0.59378615 0.64000834 0.78800282\n",
      "  0.67765433 0.99962284 0.28898611 0.54014423 0.89585541 0.45056478\n",
      "  0.51184936 0.29555008 0.57345927 0.98497295]\n",
      " [0.64150524 1.1053725  0.84332213 0.2635151  0.78537984 1.12145823\n",
      "  0.24178702 0.80140427 0.94495177 0.412732   0.67137614 0.33360797\n",
      "  0.77562211 0.29913309 0.8508428  1.15399528 0.07665608 0.25418778\n",
      "  0.33713541 0.61711563 0.55824164 0.46000731 0.93729894 0.98054091\n",
      "  0.7097244  0.77467789 0.51985636 0.80251933 0.86430718 0.79901046\n",
      "  0.29317635 0.59656466 0.2898742  0.36113093 0.61139031 0.63637528\n",
      "  0.73692542 0.48559999 0.23047856 0.64733581 0.257874   0.76931078\n",
      "  0.58683199 0.41915984 0.         0.135422   0.22059799 0.46856762\n",
      "  0.42130019 0.73022218 0.77742585 0.70920525 0.79334565 0.28391272\n",
      "  0.5618219  1.02918554 0.53070654 0.88001459 0.7290732  0.54400516\n",
      "  0.7626529  0.10108986 0.81249845 0.8675394  0.97107946 0.43125475\n",
      "  0.04532248 0.15815832 0.15591733 0.94548136 0.80001434 0.42236989\n",
      "  0.2181203  0.84424145 0.8034319  0.06889151 0.535254   1.0772098\n",
      "  0.71650934 0.84673666 0.88304124 0.41197645 0.60584766 0.85892435\n",
      "  0.14234619 0.77075971 0.47600296 0.27065902 0.4477862  0.95591579\n",
      "  0.44716239 0.78493154 0.57003341 0.74349415 0.74130516 0.19005667\n",
      "  0.69461853 0.38018377 0.789423   1.04288653]\n",
      " [0.55495206 0.97160425 0.71930294 0.23333832 0.6499587  0.9872167\n",
      "  0.18327977 0.75363955 0.80954168 0.32527161 0.555136   0.2371283\n",
      "  0.64078324 0.17196535 0.7676286  1.01965122 0.159574   0.22626305\n",
      "  0.22715098 0.52818398 0.48579751 0.33909199 0.80721794 0.84542841\n",
      "  0.59542755 0.6452563  0.38773785 0.72996322 0.78678527 0.66361708\n",
      "  0.16774317 0.48417941 0.17868692 0.22571023 0.49368493 0.55450647\n",
      "  0.60379281 0.39468611 0.30600815 0.51798601 0.15417576 0.63995701\n",
      "  0.5400063  0.36015797 0.135422   0.         0.09718952 0.33619249\n",
      "  0.2912589  0.63330103 0.6869712  0.64000448 0.66798956 0.15725606\n",
      "  0.42800113 0.89939357 0.48550381 0.77348275 0.63098018 0.42095748\n",
      "  0.64284765 0.05830372 0.68306227 0.74569662 0.83678501 0.32878852\n",
      "  0.12839949 0.2062745  0.14611051 0.8266409  0.72412624 0.29207572\n",
      "  0.29442703 0.71466121 0.71573825 0.11532371 0.43388948 0.94432445\n",
      "  0.58126137 0.75222583 0.80209206 0.28564918 0.54821368 0.72635459\n",
      "  0.14502335 0.64060746 0.41963168 0.23838454 0.35415441 0.82053241\n",
      "  0.36919273 0.71146129 0.45260199 0.61056777 0.64642735 0.10245192\n",
      "  0.56098251 0.24964676 0.65685993 0.91269689]\n",
      " [0.56835189 0.88692407 0.6244664  0.30558253 0.57618426 0.90384598\n",
      "  0.13346177 0.67806876 0.73391641 0.23698278 0.45813399 0.14744998\n",
      "  0.57402796 0.15664186 0.6761378  0.93657795 0.25604102 0.19168901\n",
      "  0.23467311 0.54004624 0.51439277 0.31758042 0.71671746 0.77555154\n",
      "  0.57507605 0.55407991 0.30051224 0.64276589 0.69727729 0.588026\n",
      "  0.07268548 0.46966401 0.08367409 0.15951245 0.39682028 0.57240587\n",
      "  0.51806399 0.30323112 0.33329958 0.47188513 0.06721647 0.59180862\n",
      "  0.46832343 0.40535445 0.22059799 0.09718952 0.         0.24973108\n",
      "  0.25204434 0.63388946 0.69328356 0.55501782 0.5737902  0.06333797\n",
      "  0.34463228 0.80858795 0.41624196 0.67651315 0.53558783 0.39130247\n",
      "  0.54651972 0.12116653 0.59190069 0.65002349 0.75375769 0.33555688\n",
      "  0.19874767 0.23172511 0.15365583 0.73020134 0.63559554 0.25203549\n",
      "  0.32351732 0.62364365 0.6229647  0.17637977 0.3384665  0.85774114\n",
      "  0.51157498 0.65739466 0.71125569 0.25672616 0.47029285 0.63934271\n",
      "  0.23739007 0.55020715 0.34581701 0.19787081 0.26223614 0.74750249\n",
      "  0.2845981  0.62400549 0.43157293 0.55268422 0.55179222 0.06396977\n",
      "  0.50103128 0.21236428 0.5996952  0.82230617]\n",
      " [0.54091246 0.6372456  0.39526497 0.463148   0.33560141 0.65413273\n",
      "  0.31703868 0.65209057 0.48918051 0.24775899 0.26489376 0.21999949\n",
      "  0.34560238 0.23584717 0.56221898 0.68688739 0.49242873 0.37191232\n",
      "  0.29365099 0.51279028 0.53332588 0.26352934 0.47182589 0.53754858\n",
      "  0.45958669 0.31112485 0.0515818  0.56105143 0.59624582 0.34474515\n",
      "  0.17986709 0.38672538 0.20581237 0.12951095 0.20667753 0.55589963\n",
      "  0.26846716 0.25794236 0.55869772 0.30276871 0.23918921 0.4038389\n",
      "  0.4837739  0.48380722 0.46856762 0.33619249 0.24973108 0.\n",
      "  0.18837588 0.5654307  0.63351468 0.49567307 0.34177394 0.18725428\n",
      "  0.09610902 0.56412253 0.4505061  0.49672064 0.39549412 0.28672562\n",
      "  0.33306436 0.37074141 0.34871688 0.42645278 0.50412213 0.34478623\n",
      "  0.44846379 0.46408272 0.38577222 0.5130286  0.54605437 0.18601242\n",
      "  0.55107265 0.38000592 0.50260362 0.42564308 0.23650563 0.60864357\n",
      "  0.28004783 0.51394535 0.59985113 0.21781321 0.45930606 0.39040148\n",
      "  0.44855764 0.30553147 0.38008796 0.36684338 0.2328649  0.50562658\n",
      "  0.29207675 0.54241604 0.33978847 0.34449241 0.4194724  0.2991008\n",
      "  0.29202041 0.18829968 0.39015206 0.57709509]\n",
      " [0.36176109 0.73112383 0.55473304 0.31712033 0.38738727 0.74165457\n",
      "  0.37505023 0.82520466 0.54607909 0.38867888 0.44980634 0.32345595\n",
      "  0.36446094 0.12258376 0.75003182 0.77241273 0.41498138 0.43592919\n",
      "  0.12895971 0.33294997 0.34546891 0.08102598 0.60080733 0.56991898\n",
      "  0.32600956 0.45451495 0.22042325 0.74521767 0.78318034 0.40500075\n",
      "  0.22178793 0.22782594 0.27083347 0.11021976 0.39381132 0.37404062\n",
      "  0.38562988 0.42253068 0.58292783 0.22673423 0.28915862 0.34873286\n",
      "  0.63964641 0.30182532 0.42130019 0.2912589  0.25204434 0.18837588\n",
      "  0.         0.40344696 0.46859128 0.67457289 0.50073949 0.21909545\n",
      "  0.22681666 0.690844   0.59774902 0.68018027 0.58384019 0.14016845\n",
      "  0.50764457 0.34548421 0.488934   0.59012388 0.59404975 0.1566877\n",
      "  0.41965837 0.48057036 0.40450501 0.67917768 0.73124394 0.00255561\n",
      "  0.57253739 0.51715761 0.69056359 0.40506464 0.41630755 0.71227088\n",
      "  0.3127388  0.7021434  0.78764258 0.03063807 0.62369454 0.50517796\n",
      "  0.34618807 0.44500597 0.52379359 0.43823596 0.38860198 0.55117797\n",
      "  0.43996893 0.72636018 0.1849782  0.3239281  0.6076712  0.31601394\n",
      "  0.27741838 0.04166391 0.3690909  0.70109424]\n",
      " [0.106891   0.8323757  0.81869066 0.4950754  0.52425742 0.82797317\n",
      "  0.76587356 1.21748469 0.62218072 0.79114766 0.78744625 0.72641426\n",
      "  0.46261323 0.47765436 1.11002763 0.84908758 0.68681621 0.82538018\n",
      "  0.40689584 0.12057188 0.21184388 0.32420789 0.79658548 0.59065107\n",
      "  0.14052016 0.70796907 0.57408469 1.12092249 1.14851721 0.5459414\n",
      "  0.62080241 0.17908998 0.67049834 0.51333218 0.74500834 0.12798917\n",
      "  0.61998488 0.81905558 0.93888404 0.31012811 0.68391715 0.3242382\n",
      "  1.04075897 0.34309693 0.73022218 0.63330103 0.63388946 0.5654307\n",
      "  0.40344696 0.         0.0687879  1.0604586  0.77237609 0.6162177\n",
      "  0.54896495 0.86615941 1.00048203 0.99583599 0.94030895 0.27873581\n",
      "  0.81100056 0.69137891 0.72893455 0.85820838 0.71749437 0.30452825\n",
      "  0.74830648 0.8395133  0.77311566 0.9429776  1.10415148 0.40476259\n",
      "  0.92710295 0.74543391 1.05031437 0.74391024 0.80181419 0.83680414\n",
      "  0.46925113 1.04666869 1.14718619 0.38636944 1.02151914 0.69728686\n",
      "  0.60110894 0.69441999 0.9267146  0.83043146 0.78801332 0.60408482\n",
      "  0.84180221 1.10278365 0.2258165  0.38764101 0.96653943 0.69471837\n",
      "  0.39530808 0.43313973 0.39378522 0.86914593]\n",
      " [0.13670605 0.88529306 0.88467366 0.53285513 0.58641211 0.87934591\n",
      "  0.82605033 1.28544131 0.67655486 0.85701917 0.8560991  0.79056233\n",
      "  0.52386484 0.53665224 1.17879546 0.89905779 0.72963552 0.88497256\n",
      "  0.46268277 0.16033651 0.23473524 0.38848846 0.85844273 0.63980628\n",
      "  0.20401951 0.77415183 0.64275327 1.18962071 1.2173048  0.60783662\n",
      "  0.68362719 0.24682677 0.73331888 0.57795299 0.81379504 0.14749824\n",
      "  0.68607323 0.88630308 0.99120658 0.37730508 0.74539386 0.38217667\n",
      "  1.10722387 0.37527539 0.77742585 0.6869712  0.69328356 0.63351468\n",
      "  0.46859128 0.0687879  0.         1.12878983 0.8389904  0.67859388\n",
      "  0.61774234 0.92569082 1.06625023 1.06357984 1.00908213 0.34679888\n",
      "  0.87873822 0.74461154 0.79426457 0.9241991  0.77443155 0.35981408\n",
      "  0.79812695 0.89313735 0.82898433 1.00832755 1.17289096 0.47001553\n",
      "  0.97925922 0.80995431 1.11908904 0.7953337  0.86997911 0.89203602\n",
      "  0.5340786  1.11523198 1.21594452 0.45010837 1.08870943 0.76002609\n",
      "  0.64414443 0.76051638 0.99234858 0.89065637 0.85476606 0.65651152\n",
      "  0.90795496 1.17146287 0.2937316  0.44951412 1.03532047 0.75301414\n",
      "  0.4604108  0.4966627  0.45191928 0.92802593]\n",
      " [1.0347698  0.79781487 0.455368   0.86009718 0.68913447 0.82627078\n",
      "  0.46924515 0.16378218 0.7766092  0.31832025 0.32066265 0.40772471\n",
      "  0.73651718 0.66606499 0.16363718 0.85548997 0.77520579 0.45894406\n",
      "  0.74576045 1.00627191 1.01637893 0.75435878 0.59623206 0.85334396\n",
      "  0.94773005 0.49749891 0.48837642 0.09427514 0.16089477 0.68201881\n",
      "  0.51105869 0.88218037 0.47406705 0.57797517 0.33446432 1.04829334\n",
      "  0.55286517 0.2593364  0.61241746 0.77769801 0.48896029 0.8504839\n",
      "  0.1587072  0.93878992 0.70920525 0.64000448 0.55501782 0.49567307\n",
      "  0.67457289 1.0604586  1.12878983 0.         0.44833656 0.52135752\n",
      "  0.52212668 0.65367029 0.20279131 0.31317743 0.18455155 0.78207587\n",
      "  0.37369544 0.62494053 0.5148382  0.44306804 0.7188573  0.82342916\n",
      "  0.66599527 0.58572281 0.55413105 0.45920643 0.09722905 0.67255438\n",
      "  0.61497334 0.53322209 0.14715262 0.64049298 0.2593935  0.75178843\n",
      "  0.68094587 0.21332981 0.18584246 0.70049768 0.11506317 0.59897626\n",
      "  0.78481198 0.50777713 0.23557942 0.44202836 0.29913475 0.80798328\n",
      "  0.27103572 0.07838539 0.83521297 0.77477218 0.16457841 0.53956213\n",
      "  0.73155271 0.66009248 0.81006592 0.67044255]\n",
      " [0.78919185 0.36750923 0.05414183 0.80247379 0.28085189 0.39328355\n",
      "  0.59197489 0.60314795 0.33141572 0.43804579 0.15457502 0.47988624\n",
      "  0.34181087 0.57588831 0.40293826 0.4250657  0.82719758 0.62878968\n",
      "  0.62390991 0.7654464  0.81574432 0.55403921 0.1649228  0.41039059\n",
      "  0.63587928 0.06723812 0.29294973 0.45494476 0.44835712 0.26597972\n",
      "  0.50121639 0.61792321 0.50589467 0.47086426 0.19614769 0.81075948\n",
      "  0.15410803 0.38377186 0.82812838 0.46238976 0.53988101 0.48285776\n",
      "  0.54237965 0.80113964 0.79334565 0.66798956 0.5737902  0.34177394\n",
      "  0.50073949 0.77237609 0.8389904  0.44833656 0.         0.51120036\n",
      "  0.27406403 0.24784424 0.544592   0.23489888 0.26524333 0.53104334\n",
      "  0.07464679 0.6924077  0.06811949 0.09026696 0.27158047 0.64908043\n",
      "  0.76572412 0.75029629 0.68011646 0.17959121 0.43251255 0.49818979\n",
      "  0.82383031 0.08538254 0.3532631  0.74032882 0.31657592 0.32570044\n",
      "  0.30925001 0.31813643 0.43389226 0.53104051 0.49474445 0.15138323\n",
      "  0.7892235  0.08122258 0.50620179 0.61680683 0.39925565 0.36418304\n",
      "  0.44462263 0.44285462 0.57680155 0.40414618 0.28894961 0.60789799\n",
      "  0.38054417 0.5162406  0.42357574 0.26374078]\n",
      " [0.55983713 0.8241211  0.5622285  0.34238333 0.5171009  0.84130241\n",
      "  0.15696629 0.65402497 0.6737869  0.20515159 0.39911584 0.12027051\n",
      "  0.51802534 0.15258969 0.63275274 0.87408762 0.31682753 0.21782536\n",
      "  0.23521386 0.53100112 0.51679515 0.29316077 0.65338923 0.71756276\n",
      "  0.54506101 0.49077647 0.2376562  0.60562426 0.65672203 0.52819494\n",
      "  0.0112895  0.4450513  0.05551598 0.11368395 0.33734914 0.56676383\n",
      "  0.45523734 0.263573   0.38287753 0.42778971 0.07029658 0.54527697\n",
      "  0.45067947 0.42128355 0.28391272 0.15725606 0.06333797 0.18725428\n",
      "  0.21909545 0.6162177  0.67859388 0.52135752 0.51120036 0.\n",
      "  0.28275416 0.74527805 0.40206958 0.62120936 0.48556422 0.35892926\n",
      "  0.48575728 0.18436851 0.52859996 0.58844109 0.69136241 0.32898101\n",
      "  0.26147762 0.28371654 0.20447294 0.66958943 0.59670723 0.21850398\n",
      "  0.37399137 0.56033575 0.57772383 0.23840163 0.28971917 0.79463719\n",
      "  0.45452064 0.60819341 0.66872374 0.23069305 0.44598854 0.57623305\n",
      "  0.29007973 0.4868708  0.32879517 0.21932264 0.22281577 0.68831415\n",
      "  0.25642193 0.58663728 0.40367384 0.5012104  0.5033818  0.11436207\n",
      "  0.44887319 0.18396539 0.54828285 0.75897753]\n",
      " [0.5428958  0.54363832 0.32813417 0.53204469 0.24145553 0.55969572\n",
      "  0.41127095 0.68421769 0.39328202 0.3218463  0.24045844 0.30968188\n",
      "  0.25776337 0.30834925 0.5610846  0.59230584 0.5815125  0.46453249\n",
      "  0.35037984 0.51651601 0.55377066 0.28505017 0.38656399 0.44343144\n",
      "  0.42775457 0.23140095 0.05187841 0.57467342 0.59967723 0.2494709\n",
      "  0.27571101 0.37647776 0.30137836 0.20913853 0.19620273 0.56144382\n",
      "  0.17633098 0.31394258 0.65389035 0.25558565 0.33504601 0.33736417\n",
      "  0.53738082 0.52803351 0.5618219  0.42800113 0.34463228 0.09610902\n",
      "  0.22681666 0.54896495 0.61774234 0.52212668 0.27406403 0.28275416\n",
      "  0.         0.47861191 0.51153947 0.46257389 0.39134951 0.27929971\n",
      "  0.28383213 0.46521999 0.26758578 0.36330881 0.40939529 0.3778795\n",
      "  0.54330124 0.55998171 0.48180682 0.45237403 0.55697036 0.2242633\n",
      "  0.64646951 0.29759282 0.50135109 0.52090237 0.27389683 0.5166914\n",
      "  0.19213386 0.50012838 0.59829267 0.25723785 0.50584334 0.29951638\n",
      "  0.53171307 0.22341481 0.44580114 0.45840226 0.29853104 0.41037419\n",
      "  0.35920556 0.55700579 0.33075253 0.2690211  0.41758424 0.39515814\n",
      "  0.21924012 0.24304183 0.31194299 0.49065808]\n",
      " [0.91041408 0.15197608 0.21213491 1.00619376 0.34554246 0.18188899\n",
      "  0.83753344 0.79071674 0.26704997 0.68588999 0.39964242 0.72531183\n",
      "  0.40430338 0.78622377 0.55957129 0.2066861  1.05652649 0.87603255\n",
      "  0.81956967 0.89168391 0.96052185 0.72533576 0.0923117  0.33625585\n",
      "  0.72598475 0.25451351 0.51262098 0.63303747 0.60338791 0.3234271\n",
      "  0.73606982 0.74521074 0.74635251 0.68741119 0.44396071 0.93511065\n",
      "  0.30582681 0.63053439 1.07543047 0.57787107 0.78085002 0.54356849\n",
      "  0.77115566 0.97642222 1.02918554 0.89939357 0.80858795 0.56412253\n",
      "  0.690844   0.86615941 0.92569082 0.65367029 0.24784424 0.74527805\n",
      "  0.47861191 0.         0.78070949 0.36033898 0.47241218 0.67871568\n",
      "  0.30686397 0.9291237  0.2167034  0.21263918 0.16081539 0.82137662\n",
      "  1.0045274  0.99576254 0.923909   0.20914086 0.61042432 0.68843442\n",
      "  1.07091219 0.18494483 0.52738234 0.97984378 0.5631926  0.10490428\n",
      "  0.4130582  0.47093876 0.5795807  0.71887813 0.72118407 0.1865559\n",
      "  1.01012278 0.25879243 0.7488148  0.86429932 0.64706072 0.29783212\n",
      "  0.69135314 0.62621253 0.71329501 0.47956958 0.48943686 0.84797227\n",
      "  0.48356175 0.71566175 0.47388532 0.01689339]\n",
      " [0.95580684 0.91170422 0.56947137 0.71686465 0.7267293  0.93782912\n",
      "  0.30315256 0.27110441 0.84564199 0.20934928 0.39183782 0.2821778\n",
      "  0.76056658 0.55465708 0.36529806 0.96944032 0.60196172 0.27657983\n",
      "  0.63728092 0.92681502 0.91857971 0.67833347 0.70766916 0.91490127\n",
      "  0.90680685 0.57453426 0.46487969 0.29473296 0.36299848 0.72573357\n",
      "  0.39410537 0.82251401 0.34740242 0.4893596  0.37138051 0.96489174\n",
      "  0.60319761 0.19763823 0.41122749 0.75305189 0.34974827 0.84793511\n",
      "  0.05612559 0.82008683 0.53070654 0.48550381 0.41624196 0.4505061\n",
      "  0.59774902 1.00048203 1.06625023 0.20279131 0.544592   0.40206958\n",
      "  0.51153947 0.78070949 0.         0.48197503 0.32308035 0.72579665\n",
      "  0.47590202 0.45816878 0.60213053 0.56976527 0.81046252 0.72879082\n",
      "  0.48586653 0.39386304 0.37525677 0.61011046 0.29998571 0.59627806\n",
      "  0.41444981 0.62775832 0.3379764  0.4621246  0.24856723 0.86873275\n",
      "  0.69740073 0.40000591 0.38862068 0.6179337  0.08773    0.68257608\n",
      "  0.6256315  0.58091233 0.07412888 0.26030535 0.2176424  0.87287567\n",
      "  0.15959897 0.28057018 0.77694662 0.78044519 0.31704162 0.38324289\n",
      "  0.73067367 0.57244421 0.82245589 0.79751967]\n",
      " [1.002339   0.51139983 0.20661766 0.950886   0.51566427 0.54111477\n",
      "  0.64724059 0.43378628 0.54639787 0.47276562 0.23191499 0.546417\n",
      "  0.5766609  0.72656914 0.19924364 0.56699122 0.92993104 0.66422383\n",
      "  0.79014656 0.9768452  1.01621266 0.74621407 0.3261546  0.62691835\n",
      "  0.86258235 0.30197464 0.45975916 0.27559181 0.24318464 0.50029567\n",
      "  0.60998945 0.83267022 0.59555888 0.62042035 0.29216791 1.02206155\n",
      "  0.38668471 0.40085165 0.85204365 0.68649623 0.62432754 0.7166631\n",
      "  0.45584347 0.98003256 0.88001459 0.77348275 0.67651315 0.49672064\n",
      "  0.68018027 0.99583599 1.06357984 0.31317743 0.23489888 0.62120936\n",
      "  0.46257389 0.36033898 0.48197503 0.         0.16334255 0.73924511\n",
      "  0.18484296 0.78144939 0.29680274 0.17495628 0.4633424  0.83603325\n",
      "  0.84383054 0.79642555 0.74081946 0.15303831 0.25350987 0.6776721\n",
      "  0.85111616 0.29875537 0.17239494 0.81707081 0.34503989 0.46417137\n",
      "  0.54141436 0.11119123 0.22048888 0.71064891 0.40491741 0.36946468\n",
      "  0.91128136 0.31588856 0.4759659  0.64876276 0.43478923 0.58068377\n",
      "  0.45252763 0.27111347 0.78876131 0.63758899 0.16501982 0.69054004\n",
      "  0.61051348 0.68486975 0.65837474 0.37626438]\n",
      " [0.93019304 0.61431787 0.27089347 0.82491193 0.52026544 0.64252497\n",
      "  0.49165512 0.33820604 0.59569294 0.31714881 0.15746422 0.39704427\n",
      "  0.57276126 0.60799226 0.16975556 0.67213339 0.78356922 0.50433411\n",
      "  0.67945005 0.90288735 0.92865507 0.65798859 0.41194714 0.67364637\n",
      "  0.81668881 0.31839019 0.37135673 0.19595166 0.20907555 0.51068594\n",
      "  0.4742927  0.7668854  0.45243105 0.50608245 0.19571729 0.94706551\n",
      "  0.38250187 0.24419554 0.68951952 0.64105012 0.47814966 0.69784592\n",
      "  0.30342086 0.87371716 0.7290732  0.63098018 0.53558783 0.39549412\n",
      "  0.58384019 0.94030895 1.00908213 0.18455155 0.26524333 0.48556422\n",
      "  0.39134951 0.47241218 0.32308035 0.16334255 0.         0.66820002\n",
      "  0.19075879 0.63282459 0.33260692 0.2602835  0.53467261 0.73996862\n",
      "  0.69090572 0.63694503 0.58490927 0.288202   0.17491207 0.58148949\n",
      "  0.68887679 0.34952289 0.11001173 0.66413847 0.1971455  0.5686482\n",
      "  0.52285888 0.12286539 0.20707722 0.61302377 0.25242621 0.41651785\n",
      "  0.77287412 0.32969299 0.31278698 0.48850703 0.28129181 0.62780429\n",
      "  0.29192043 0.18146226 0.7205988  0.61957683 0.02702116 0.54179284\n",
      "  0.58155646 0.5800251  0.65033028 0.4892773 ]\n",
      " [0.26366459 0.68944921 0.5822979  0.38449924 0.34173009 0.69460299\n",
      "  0.51518308 0.9387498  0.48691329 0.51674452 0.51971268 0.45883224\n",
      "  0.29858966 0.24908899 0.83776119 0.72268281 0.52531326 0.57607357\n",
      "  0.21298057 0.2376583  0.28615493 0.08460498 0.59525637 0.49223747\n",
      "  0.18632176 0.47301512 0.29803548 0.84440881 0.87478493 0.36291693\n",
      "  0.36113615 0.10012131 0.40965016 0.24762825 0.47252835 0.2828264\n",
      "  0.39001667 0.5410421  0.71966519 0.12144775 0.42912302 0.23480519\n",
      "  0.7641899  0.30568767 0.54400516 0.42095748 0.39130247 0.28672562\n",
      "  0.14016845 0.27873581 0.34679888 0.78207587 0.53104334 0.35892926\n",
      "  0.27929971 0.67871568 0.72579665 0.73924511 0.66820002 0.\n",
      "  0.55664446 0.47754332 0.50146504 0.62080784 0.55620332 0.1574205\n",
      "  0.54821359 0.61728775 0.54255022 0.70942949 0.82825133 0.14057494\n",
      "  0.7089562  0.52462254 0.77784979 0.53620927 0.52318045 0.67923313\n",
      "  0.26790929 0.77925293 0.87521663 0.13630613 0.74349253 0.49403033\n",
      "  0.44719869 0.46086095 0.65260202 0.57821548 0.51109791 0.48366081\n",
      "  0.56638579 0.82607019 0.05315383 0.23697402 0.69388366 0.45519385\n",
      "  0.2061617  0.17894214 0.27451698 0.68605139]\n",
      " [0.81899131 0.43634944 0.09477691 0.79583586 0.34236976 0.46308292\n",
      "  0.54921283 0.5288582  0.40517871 0.38653334 0.09625348 0.43859933\n",
      "  0.40024138 0.56864148 0.33413771 0.49423766 0.80235655 0.58094417\n",
      "  0.62466202 0.79389252 0.83670697 0.56888138 0.23199643 0.48360755\n",
      "  0.6779274  0.13100774 0.28953705 0.38202754 0.37908795 0.32981369\n",
      "  0.47512725 0.64877197 0.4728361  0.46184105 0.151746   0.83919112\n",
      "  0.20736644 0.32624684 0.77921592 0.50169694 0.50559799 0.53616185\n",
      "  0.47088677 0.80941306 0.7626529  0.64284765 0.54651972 0.33306436\n",
      "  0.50764457 0.81100056 0.87873822 0.37369544 0.07464679 0.48575728\n",
      "  0.28383213 0.30686397 0.47590202 0.18484296 0.19075879 0.55664446\n",
      "  0.         0.66163975 0.14188144 0.10692123 0.34578309 0.66124128\n",
      "  0.73197158 0.7067029  0.64008147 0.18384541 0.35978727 0.50509711\n",
      "  0.77575105 0.15969799 0.2820724  0.70591231 0.25912457 0.39289574\n",
      "  0.35976826 0.25260967 0.36671161 0.53828222 0.42251267 0.2257628\n",
      "  0.77142206 0.14363651 0.44195283 0.56788161 0.3468565  0.43757669\n",
      "  0.38671189 0.36941726 0.60537094 0.45683807 0.21483303 0.57399414\n",
      "  0.42713219 0.51734822 0.48103238 0.323467  ]\n",
      " [0.61204282 1.00798514 0.74227036 0.27455494 0.69378357 1.02473528\n",
      "  0.1566854  0.72878681 0.85245902 0.31878511 0.5706572  0.23589633\n",
      "  0.68806762 0.22850187 0.76055786 1.05742398 0.15183816 0.18724246\n",
      "  0.2854377  0.58550021 0.54062346 0.39637301 0.83739048 0.8915036\n",
      "  0.6532912  0.67462383 0.42164287 0.71694157 0.7765704  0.70641847\n",
      "  0.19316317 0.54228475 0.18899369 0.27100446 0.51047704 0.61100152\n",
      "  0.63915857 0.39095038 0.24773227 0.5718008  0.15763203 0.69353795\n",
      "  0.51376747 0.41151344 0.10108986 0.05830372 0.12116653 0.37074141\n",
      "  0.34548421 0.69137891 0.74461154 0.62494053 0.6924077  0.18436851\n",
      "  0.46521999 0.9291237  0.45816878 0.78144939 0.63282459 0.47754332\n",
      "  0.66163975 0.         0.71242235 0.76645617 0.87455169 0.38691248\n",
      "  0.07852698 0.14855693 0.09581312 0.84458863 0.71286803 0.34613429\n",
      "  0.23612957 0.7441959  0.71118077 0.05978607 0.43746336 0.97890748\n",
      "  0.62708674 0.75195662 0.79380815 0.34168156 0.52697901 0.76050923\n",
      "  0.16892577 0.67099302 0.39684226 0.2015473  0.35195651 0.86494657\n",
      "  0.35732796 0.69887071 0.51023206 0.66123258 0.64618711 0.09109942\n",
      "  0.61081672 0.30383114 0.70785256 0.94297243]\n",
      " [0.75338068 0.31634947 0.09366817 0.79940366 0.22153222 0.34004604\n",
      "  0.62401954 0.67073944 0.26341468 0.47992806 0.21037995 0.51200364\n",
      "  0.28447213 0.57576222 0.4705054  0.37266214 0.84068573 0.66522424\n",
      "  0.61583295 0.73098257 0.78761658 0.53402458 0.12523307 0.34227518\n",
      "  0.59029564 0.03782845 0.29747834 0.52304474 0.51600353 0.20464878\n",
      "  0.51936894 0.58249808 0.53022738 0.47423364 0.24021884 0.7760284\n",
      "  0.11172157 0.43179837 0.86434343 0.4211494  0.56481179 0.42859203\n",
      "  0.60321294 0.78452258 0.81249845 0.68306227 0.59190069 0.34871688\n",
      "  0.488934   0.72893455 0.79426457 0.5148382  0.06811949 0.52859996\n",
      "  0.26758578 0.2167034  0.60213053 0.29680274 0.33260692 0.50146504\n",
      "  0.14188144 0.71242235 0.         0.13230728 0.208787   0.63029918\n",
      "  0.78792101 0.78184002 0.70882612 0.21407118 0.50062452 0.48643143\n",
      "  0.8592579  0.03180244 0.42131432 0.76333056 0.36573688 0.27820325\n",
      "  0.2603498  0.38493777 0.50096259 0.5183782  0.55665094 0.084144\n",
      "  0.79648526 0.04419741 0.55928862 0.65435386 0.44252882 0.29608325\n",
      "  0.49220183 0.5108729  0.54389317 0.35129048 0.3566707  0.63163903\n",
      "  0.33385413 0.50946508 0.36618084 0.2306728 ]\n",
      " [0.87788968 0.35482014 0.03952556 0.88896114 0.35345345 0.38346718\n",
      "  0.65608584 0.58626714 0.37148006 0.49298668 0.20295223 0.54530144\n",
      "  0.41666818 0.66186476 0.3655754  0.41243373 0.90526365 0.68770686\n",
      "  0.71226717 0.8544699  0.90580999 0.64425565 0.15636536 0.45199612\n",
      "  0.72048501 0.1503758  0.37914427 0.43078699 0.4110233  0.33588038\n",
      "  0.57803859 0.70660177 0.57803437 0.55595567 0.25807795 0.89974326\n",
      "  0.23822505 0.43119267 0.8857502  0.5488884  0.61116204 0.56088929\n",
      "  0.55871244 0.89095328 0.8675394  0.74569662 0.65002349 0.42645278\n",
      "  0.59012388 0.85820838 0.9241991  0.44306804 0.09026696 0.58844109\n",
      "  0.36330881 0.21263918 0.56976527 0.17495628 0.2602835  0.62080784\n",
      "  0.10692123 0.76645617 0.13230728 0.         0.29021952 0.73918778\n",
      "  0.83764125 0.81362202 0.74677483 0.08936013 0.4079496  0.58757083\n",
      "  0.88240492 0.12680443 0.32501104 0.811715   0.3644931  0.30872179\n",
      "  0.39130433 0.27645319 0.39155121 0.62051704 0.50861735 0.19611376\n",
      "  0.87111611 0.16380689 0.54179644 0.67452933 0.45322804 0.40579824\n",
      "  0.4912056  0.42187373 0.66603261 0.48342468 0.27848991 0.67955622\n",
      "  0.4641558  0.60451431 0.49828546 0.22953212]\n",
      " [0.76995313 0.13712656 0.26711287 0.91061729 0.2145259  0.15043976\n",
      "  0.80725437 0.87041377 0.10623683 0.67746672 0.4190176  0.69752548\n",
      "  0.26361641 0.7024311  0.65562056 0.18292009 0.98768641 0.85391417\n",
      "  0.72204237 0.75345218 0.828929   0.61425404 0.13870414 0.17818766\n",
      "  0.57873057 0.23650888 0.45401889 0.71780923 0.70113941 0.19372314\n",
      "  0.6837439  0.61077656 0.70415306 0.61382312 0.44411614 0.79542201\n",
      "  0.23745643 0.63533182 1.05072309 0.44511391 0.73869976 0.39325736\n",
      "  0.81197878 0.86078809 0.97107946 0.83678501 0.75375769 0.50412213\n",
      "  0.59404975 0.71749437 0.77443155 0.7188573  0.27158047 0.69136241\n",
      "  0.40939529 0.16081539 0.81046252 0.4633424  0.53467261 0.55620332\n",
      "  0.34578309 0.87455169 0.208787   0.29021952 0.         0.70762065\n",
      "  0.95250236 0.96206795 0.88566429 0.32968586 0.69501947 0.59185907\n",
      "  1.04453269 0.18620003 0.61289853 0.92976165 0.57068447 0.12337932\n",
      "  0.28951086 0.56663369 0.68171623 0.61915696 0.76522432 0.12864582\n",
      "  0.93144375 0.2316952  0.7655903  0.844634   0.64194016 0.13748409\n",
      "  0.69485888 0.70748351 0.58396109 0.33717203 0.55695973 0.80197862\n",
      "  0.35185375 0.62502018 0.32378342 0.15856258]\n",
      " [0.23282247 0.84251386 0.70253118 0.23246654 0.49349922 0.84896583\n",
      "  0.46897212 0.96937241 0.64284013 0.52375158 0.60623891 0.4470347\n",
      "  0.45441365 0.17963423 0.90531165 0.87767945 0.39713522 0.5268487\n",
      "  0.10287205 0.20449371 0.19300489 0.09645041 0.73440172 0.64965599\n",
      "  0.28289577 0.59803284 0.37647197 0.89741266 0.93755344 0.51392523\n",
      "  0.33580047 0.16992551 0.3844965  0.24581802 0.55049866 0.23802881\n",
      "  0.52192173 0.56687783 0.63453545 0.27876086 0.39175743 0.38727947\n",
      "  0.77489452 0.15508476 0.43125475 0.32878852 0.33555688 0.34478623\n",
      "  0.1566877  0.30452825 0.35981408 0.82342916 0.64908043 0.32898101\n",
      "  0.3778795  0.82137662 0.72879082 0.83603325 0.73996862 0.1574205\n",
      "  0.66124128 0.38691248 0.63029918 0.73918778 0.70762065 0.\n",
      "  0.44586509 0.53498508 0.46930089 0.82853802 0.8842436  0.15912559\n",
      "  0.62281196 0.65652106 0.84604996 0.44015752 0.5676701  0.82978996\n",
      "  0.4181161  0.85871069 0.94287582 0.12698153 0.76420308 0.63494132\n",
      "  0.31336125 0.58732171 0.65484266 0.53342769 0.53011956 0.64062374\n",
      "  0.5760047  0.87843934 0.15605027 0.39438603 0.76351322 0.39384079\n",
      "  0.36165176 0.16342036 0.43145688 0.83000396]\n",
      " [0.66323577 1.08557878 0.81473078 0.29659214 0.77229365 1.10259044\n",
      "  0.20074871 0.75640975 0.93098466 0.37386536 0.63936602 0.2980153\n",
      "  0.76613507 0.29977496 0.80933279 1.13532553 0.1209898  0.20952989\n",
      "  0.34768132 0.6379137  0.58417268 0.46545935 0.91306007 0.96982938\n",
      "  0.71960657 0.75018315 0.49911342 0.75954963 0.82190202 0.78494488\n",
      "  0.26973991 0.60725277 0.25995427 0.34920415 0.58029441 0.65968416\n",
      "  0.71669651 0.4468616  0.19754578 0.64638465 0.22648311 0.76835023\n",
      "  0.54198927 0.44785967 0.04532248 0.12839949 0.19874767 0.44846379\n",
      "  0.41965837 0.74830648 0.79812695 0.66599527 0.76572412 0.26147762\n",
      "  0.54330124 1.0045274  0.48586653 0.84383054 0.69090572 0.54821359\n",
      "  0.73197158 0.07852698 0.78792101 0.83764125 0.95250236 0.44586509\n",
      "  0.         0.11573308 0.11192225 0.91389433 0.75748298 0.42047254\n",
      "  0.18519313 0.81972013 0.76280586 0.02678328 0.49879068 1.05601758\n",
      "  0.70540847 0.80742844 0.84111617 0.41356012 0.56170005 0.83762252\n",
      "  0.17701157 0.74694748 0.43210512 0.22612224 0.40997496 0.94343826\n",
      "  0.40619454 0.74210534 0.57787357 0.73808824 0.70233006 0.15810701\n",
      "  0.68804407 0.37804409 0.78454644 1.01858705]\n",
      " [0.76055607 1.09055408 0.79541502 0.40916489 0.79873647 1.11006083\n",
      "  0.15832689 0.66031085 0.95324219 0.32551411 0.611011   0.27051008\n",
      "  0.80167514 0.37055211 0.73782808 1.14311774 0.23477014 0.1326743\n",
      "  0.43295587 0.73405376 0.68767356 0.53868204 0.9064708  1.00006048\n",
      "  0.79695954 0.7449256  0.51096032 0.67999787 0.74530366 0.80867402\n",
      "  0.28816056 0.68734025 0.25885233 0.39100975 0.55659445 0.75926362\n",
      "  0.72466429 0.39588493 0.10240275 0.70323732 0.22493614 0.82347516\n",
      "  0.44926904 0.5554584  0.15815832 0.2062745  0.23172511 0.46408272\n",
      "  0.48057036 0.8395133  0.89313735 0.58572281 0.75029629 0.28371654\n",
      "  0.55998171 0.99576254 0.39386304 0.79642555 0.63694503 0.61728775\n",
      "  0.7067029  0.14855693 0.78184002 0.81362202 0.96206795 0.53498508\n",
      "  0.11573308 0.         0.07924367 0.88315481 0.68064226 0.48083673\n",
      "  0.09201965 0.81337395 0.69632358 0.10485526 0.45642948 1.05719478\n",
      "  0.73789838 0.74687789 0.76710531 0.48103445 0.47561118 0.84069321\n",
      "  0.29148468 0.74383291 0.3504156  0.1488271  0.36493513 0.9694346\n",
      "  0.34508817 0.66359713 0.65325879 0.78368486 0.64453402 0.17002131\n",
      "  0.73169726 0.43958877 0.83074535 1.01080132]\n",
      " [0.69866645 1.01522509 0.72672393 0.37031384 0.71991955 1.03421866\n",
      "  0.09357918 0.64623343 0.87492728 0.26824191 0.54535099 0.20148266\n",
      "  0.72244667 0.29871716 0.69862553 1.06723813 0.22696771 0.09875901\n",
      "  0.36647568 0.67142133 0.63175931 0.46572003 0.83383925 0.92108971\n",
      "  0.72420008 0.67159771 0.4332995  0.64776462 0.71042684 0.73009528\n",
      "  0.20899354 0.61607554 0.18153823 0.31238513 0.48877577 0.69921031\n",
      "  0.64821113 0.34088055 0.17973476 0.62554052 0.14713189 0.74533805\n",
      "  0.43136127 0.50561941 0.15591733 0.14611051 0.15365583 0.38577222\n",
      "  0.40450501 0.77311566 0.82898433 0.55413105 0.68011646 0.20447294\n",
      "  0.48180682 0.923909   0.37525677 0.74081946 0.58490927 0.54255022\n",
      "  0.64008147 0.09581312 0.70882612 0.74677483 0.88566429 0.46930089\n",
      "  0.11192225 0.07924367 0.         0.81928654 0.64593693 0.40464431\n",
      "  0.17020431 0.74050185 0.65311832 0.0870595  0.3967783  0.98271028\n",
      "  0.65872399 0.6994573  0.73000979 0.40669092 0.44995321 0.76547148\n",
      "  0.26169691 0.66992695 0.32022326 0.11496097 0.30607977 0.89076179\n",
      "  0.29670291 0.63038999 0.58036204 0.70468009 0.59502396 0.09100176\n",
      "  0.65261855 0.36399595 0.7517492  0.9386753 ]\n",
      " [0.9653475  0.3610291  0.12714149 0.97607712 0.43034232 0.39091051\n",
      "  0.72716601 0.5865614  0.4238721  0.55884174 0.27456593 0.618262\n",
      "  0.49428421 0.74881066 0.351808   0.41561732 0.98611873 0.75449526\n",
      "  0.80070296 0.94226124 0.99473597 0.73361264 0.1915185  0.50310895\n",
      "  0.80434544 0.23723059 0.46669565 0.42835618 0.39500351 0.41125489\n",
      "  0.65894054 0.79412453 0.65561762 0.64247769 0.33411282 0.98747942\n",
      "  0.32395338 0.49260623 0.95025783 0.63468202 0.68792207 0.63979494\n",
      "  0.59147955 0.98019024 0.94548136 0.8266409  0.73020134 0.5130286\n",
      "  0.67917768 0.9429776  1.00832755 0.45920643 0.17959121 0.66958943\n",
      "  0.45237403 0.20914086 0.61011046 0.15303831 0.288202   0.70942949\n",
      "  0.18384541 0.84458863 0.21407118 0.08936013 0.32968586 0.82853802\n",
      "  0.91389433 0.88315481 0.81928654 0.         0.40610217 0.67662347\n",
      "  0.94771953 0.20052191 0.32404073 0.8876411  0.42804747 0.31384181\n",
      "  0.47433186 0.26422954 0.37063982 0.70961158 0.54039959 0.26237382\n",
      "  0.95492141 0.25013122 0.59153525 0.74047495 0.51903686 0.45824624\n",
      "  0.5507255  0.423159   0.75410435 0.56377247 0.29952956 0.75623262\n",
      "  0.54792031 0.69294836 0.57499585 0.22457967]\n",
      " [1.08673279 0.75947604 0.42790798 0.93843506 0.69491428 0.78879434\n",
      "  0.55872859 0.18052353 0.76380265 0.39917333 0.33121353 0.4884061\n",
      "  0.74767238 0.7356279  0.07061015 0.8161548  0.86410072 0.55230691\n",
      "  0.81293487 1.05874011 1.07619263 0.80905068 0.56428776 0.84289936\n",
      "  0.9845914  0.49006614 0.53040138 0.02283927 0.06468227 0.68491916\n",
      "  0.58595681 0.92803552 0.55292285 0.64149432 0.36143968 1.10195357\n",
      "  0.55715083 0.33340356 0.70943832 0.81043653 0.5710177  0.87171109\n",
      "  0.25439291 1.00747606 0.80001434 0.72412624 0.63559554 0.54605437\n",
      "  0.73124394 1.10415148 1.17289096 0.09722905 0.43251255 0.59670723\n",
      "  0.55697036 0.61042432 0.29998571 0.25350987 0.17491207 0.82825133\n",
      "  0.35978727 0.71286803 0.50062452 0.4079496  0.69501947 0.8842436\n",
      "  0.75748298 0.68064226 0.64593693 0.40610217 0.         0.72906183\n",
      "  0.71186094 0.51389103 0.08320706 0.73161792 0.31709404 0.71251583\n",
      "  0.69732959 0.14323956 0.08863964 0.75879958 0.21227046 0.58329388\n",
      "  0.86914201 0.50198856 0.33025199 0.5353989  0.37442844 0.79669238\n",
      "  0.35583528 0.02131033 0.88124366 0.79376943 0.14821675 0.62547877\n",
      "  0.75466335 0.72118728 0.82509288 0.62676782]\n",
      " [0.36359238 0.72894049 0.55218474 0.31940466 0.3853714  0.73952339\n",
      "  0.37460829 0.82332842 0.54413771 0.38716329 0.44732493 0.32231971\n",
      "  0.36272074 0.12382614 0.74773662 0.77030453 0.416455   0.43549895\n",
      "  0.13131273 0.33479813 0.34773778 0.08274533 0.59837206 0.56822493\n",
      "  0.32656015 0.4519965  0.21791367 0.7430688  0.78093316 0.40293273\n",
      "  0.22107323 0.22888524 0.27003585 0.10913211 0.39137409 0.37598126\n",
      "  0.38319036 0.42070611 0.5831784  0.22591482 0.28862045 0.34788388\n",
      "  0.6380516  0.30437707 0.42236989 0.29207572 0.25203549 0.18601242\n",
      "  0.00255561 0.40476259 0.47001553 0.67255438 0.49818979 0.21850398\n",
      "  0.2242633  0.68843442 0.59627806 0.6776721  0.58148949 0.14057494\n",
      "  0.50509711 0.34613429 0.48643143 0.58757083 0.59185907 0.15912559\n",
      "  0.42047254 0.48083673 0.40464431 0.67662347 0.72906183 0.\n",
      "  0.57281775 0.51467123 0.68825704 0.40574607 0.41422059 0.71001171\n",
      "  0.31078648 0.69974372 0.78534937 0.03318515 0.62195081 0.50279603\n",
      "  0.34792963 0.44249814 0.52234217 0.43770937 0.38688322 0.54934375\n",
      "  0.43840281 0.72421688 0.18581852 0.32256319 0.60534248 0.31600382\n",
      "  0.27587793 0.04242927 0.36780926 0.69870156]\n",
      " [0.84547394 1.17099014 0.86673726 0.48067875 0.88651287 1.19135622\n",
      "  0.23729533 0.66804347 1.03956961 0.38957071 0.67951594 0.34784445\n",
      "  0.89129122 0.46156812 0.77353456 1.2244434  0.28981737 0.19510963\n",
      "  0.52156555 0.81951574 0.76878125 0.62984252 0.98298071 1.08823931\n",
      "  0.88787121 0.82292163 0.5965668  0.70836756 0.77586803 0.8957758\n",
      "  0.3778177  0.77768266 0.34526197 0.48256723 0.628236   0.84296807\n",
      "  0.80761136 0.4554753  0.01239058 0.79520234 0.31233406 0.91532505\n",
      "  0.46677753 0.63304964 0.2181203  0.29442703 0.32351732 0.55107265\n",
      "  0.57253739 0.92710295 0.97925922 0.61497334 0.82383031 0.37399137\n",
      "  0.64646951 1.07091219 0.41444981 0.85111616 0.68887679 0.7089562\n",
      "  0.77575105 0.23612957 0.8592579  0.88240492 1.04453269 0.62281196\n",
      "  0.18519313 0.09201965 0.17020431 0.94771953 0.71186094 0.57281775\n",
      "  0.         0.89048874 0.73720575 0.18414549 0.51976239 1.13628069\n",
      "  0.82710712 0.7921564  0.80001059 0.57266311 0.50090926 0.92135062\n",
      "  0.35990796 0.82268898 0.38569534 0.20787625 0.42941034 1.05668121\n",
      "  0.39944827 0.69333895 0.74430695 0.87478534 0.69342015 0.26119745\n",
      "  0.8226432  0.53150054 0.92185946 1.08632235]\n",
      " [0.7734692  0.28723418 0.09214424 0.82890188 0.22989037 0.31170231\n",
      "  0.65547864 0.68671527 0.25109959 0.51010272 0.23609233 0.54340999\n",
      "  0.2937863  0.60593156 0.47996611 0.34405945 0.87215033 0.69629204\n",
      "  0.64459255 0.75167997 0.81065479 0.56011372 0.09344614 0.33119472\n",
      "  0.6059667  0.06957242 0.32867064 0.53651885 0.52561965 0.21114421\n",
      "  0.55112726 0.60312877 0.56200794 0.50498352 0.26945683 0.79653723\n",
      "  0.13507415 0.46061303 0.89549425 0.43977936 0.59658554 0.43927687\n",
      "  0.62701696 0.81110118 0.84424145 0.71466121 0.62364365 0.38000592\n",
      "  0.51715761 0.74543391 0.80995431 0.53322209 0.08538254 0.56033575\n",
      "  0.29759282 0.18494483 0.62775832 0.29875537 0.34952289 0.52462254\n",
      "  0.15969799 0.7441959  0.03180244 0.12680443 0.18620003 0.65652106\n",
      "  0.81972013 0.81337395 0.74050185 0.20052191 0.51389103 0.51467123\n",
      "  0.89048874 0.         0.43315825 0.79513298 0.39414712 0.24799257\n",
      "  0.27619896 0.39276792 0.50898454 0.5463457  0.57971613 0.0710717\n",
      "  0.82742241 0.07460965 0.58671733 0.68528604 0.47240943 0.28476727\n",
      "  0.52119919 0.52516772 0.56566249 0.36353636 0.37256574 0.66343588\n",
      "  0.35020737 0.53864614 0.37468982 0.19887104]\n",
      " [1.03943494 0.67627946 0.34591148 0.91971434 0.62152687 0.70558972\n",
      "  0.5620759  0.26334651 0.68379867 0.39247426 0.26604877 0.47872601\n",
      "  0.6763684  0.7078702  0.05992385 0.73299063 0.86299746 0.56466923\n",
      "  0.78178234 1.01199591 1.03588666 0.76584113 0.48137572 0.76332455\n",
      "  0.92649615 0.41304021 0.48052514 0.1059818  0.09998686 0.61039564\n",
      "  0.5665989  0.8767004  0.5392995  0.60852733 0.30555943 1.05601569\n",
      "  0.48416498 0.32121327 0.73612296 0.75065113 0.56157347 0.80477356\n",
      "  0.3015203  0.97655707 0.8034319  0.71573825 0.6229647  0.50260362\n",
      "  0.69056359 1.05031437 1.11908904 0.14715262 0.3532631  0.57772383\n",
      "  0.50135109 0.52738234 0.3379764  0.17239494 0.11001173 0.77784979\n",
      "  0.2820724  0.71118077 0.42131432 0.32501104 0.61289853 0.84604996\n",
      "  0.76280586 0.69632358 0.65311832 0.32404073 0.08320706 0.68825704\n",
      "  0.73720575 0.43315825 0.         0.73632877 0.28882591 0.62933149\n",
      "  0.62891788 0.06635152 0.09748508 0.71932584 0.2530248  0.50314307\n",
      "  0.85980125 0.42544879 0.35155564 0.54804042 0.3615844  0.71699952\n",
      "  0.35663276 0.09915329 0.83034435 0.7260727  0.08396614 0.62126651\n",
      "  0.68946118 0.68477446 0.75521577 0.54376625]\n",
      " [0.66134883 1.06237271 0.78909202 0.3043498  0.75174176 1.07969309\n",
      "  0.17425457 0.73297845 0.90996833 0.34711848 0.61308776 0.27135751\n",
      "  0.74709775 0.28714018 0.78308375 1.11248626 0.14118034 0.18554541\n",
      "  0.34015058 0.63546785 0.58533053 0.45440374 0.88852137 0.95011019\n",
      "  0.71035279 0.72563332 0.47597917 0.7339086  0.79598298 0.7639901\n",
      "  0.24625144 0.59868846 0.2344363  0.33002903 0.55419837 0.65886088\n",
      "  0.69351656 0.42011308 0.1962409  0.631493   0.20067682 0.75326729\n",
      "  0.51824415 0.45144256 0.06889151 0.11532371 0.17637977 0.42564308\n",
      "  0.40506464 0.74391024 0.7953337  0.64049298 0.74032882 0.23840163\n",
      "  0.52090237 0.97984378 0.4621246  0.81707081 0.66413847 0.53620927\n",
      "  0.70591231 0.05978607 0.76333056 0.811715   0.92976165 0.44015752\n",
      "  0.02678328 0.10485526 0.0870595  0.8876411  0.73161792 0.40574607\n",
      "  0.18414549 0.79513298 0.73632877 0.         0.47203173 1.03236244\n",
      "  0.68574601 0.78074777 0.81500654 0.40065958 0.53695903 0.81401455\n",
      "  0.18757742 0.7226003  0.40711641 0.20192238 0.38319241 0.92300834\n",
      "  0.379758   0.71638545 0.56777104 0.72091454 0.67561319 0.13244149\n",
      "  0.67039829 0.36340227 0.76756391 0.99400116]\n",
      " [0.77556487 0.68136965 0.35286204 0.6310891  0.47839765 0.70566739\n",
      "  0.30332858 0.41612188 0.59888711 0.13104909 0.16377659 0.2017329\n",
      "  0.51416439 0.42028122 0.34530783 0.7381509  0.58739585 0.32658716\n",
      "  0.49628991 0.74713379 0.76009372 0.49552929 0.48124764 0.66684791\n",
      "  0.69232404 0.33445761 0.23379361 0.32975953 0.3729907  0.47717087\n",
      "  0.27850871 0.62321825 0.25529275 0.32440981 0.12659594 0.78941773\n",
      "  0.35531238 0.0673495  0.52251544 0.52650549 0.28153994 0.61054424\n",
      "  0.26625754 0.69105353 0.535254   0.43388948 0.3384665  0.23650563\n",
      "  0.41630755 0.80181419 0.86997911 0.2593935  0.31657592 0.28971917\n",
      "  0.27389683 0.5631926  0.24856723 0.34503989 0.1971455  0.52318045\n",
      "  0.25912457 0.43746336 0.36573688 0.3644931  0.57068447 0.5676701\n",
      "  0.49879068 0.45642948 0.3967783  0.42804747 0.31709404 0.41422059\n",
      "  0.51976239 0.39414712 0.28882591 0.47203173 0.         0.64121181\n",
      "  0.45226414 0.31906585 0.38205182 0.44303588 0.23210038 0.44203959\n",
      "  0.57580082 0.33905812 0.1954206  0.31243609 0.09149687 0.6253367\n",
      "  0.12816365 0.31077374 0.57627142 0.53929482 0.21378827 0.34637626\n",
      "  0.4916205  0.40438744 0.57937785 0.57943762]\n",
      " [0.89208565 0.04724085 0.30058647 1.02935221 0.33750909 0.07707345\n",
      "  0.90009995 0.89240067 0.21568914 0.75803955 0.48027331 0.78852717\n",
      "  0.38677479 0.81718256 0.6632417  0.10383971 1.09807008 0.94281631\n",
      "  0.84087349 0.87604405 0.95220218 0.73581    0.16114806 0.26830055\n",
      "  0.69908506 0.31362684 0.55739681 0.73522889 0.70735247 0.31639082\n",
      "  0.78628278 0.73396539 0.80221956 0.72459953 0.51732851 0.91769338\n",
      "  0.34054227 0.7080246  1.14163876 0.56848169 0.83693277 0.51295911\n",
      "  0.86284494 0.98338186 1.0772098  0.94432445 0.85774114 0.60864357\n",
      "  0.71227088 0.83680414 0.89203602 0.75178843 0.32570044 0.79463719\n",
      "  0.5166914  0.10490428 0.86873275 0.46417137 0.5686482  0.67923313\n",
      "  0.39289574 0.97890748 0.27820325 0.30872179 0.12337932 0.82978996\n",
      "  1.05601758 1.05719478 0.98271028 0.31384181 0.71251583 0.71001171\n",
      "  1.13628069 0.24799257 0.62933149 1.03236244 0.64121181 0.\n",
      "  0.41195884 0.5742918  0.68393544 0.73823993 0.81366693 0.21840415\n",
      "  1.0451842  0.31361118 0.8319014  0.93221397 0.72040198 0.23915987\n",
      "  0.76874081 0.72775129 0.70733973 0.45983424 0.58721101 0.90228202\n",
      "  0.47521187 0.7416069  0.44408613 0.09054106]\n",
      " [0.50073778 0.42473253 0.35186176 0.62562543 0.0758636  0.43247899\n",
      "  0.5961171  0.84470942 0.23336213 0.51358116 0.36621672 0.49943587\n",
      "  0.06577403 0.42920961 0.68568577 0.46223915 0.72170344 0.65184982\n",
      "  0.43776152 0.48051813 0.54746921 0.32522062 0.33375149 0.2644212\n",
      "  0.33006325 0.2426672  0.24366979 0.71760531 0.72876578 0.09581326\n",
      "  0.44973882 0.33288636 0.48321609 0.35625619 0.34713079 0.5246868\n",
      "  0.15520995 0.50035398 0.83536643 0.16612388 0.51507357 0.1766735\n",
      "  0.71852166 0.57142548 0.71650934 0.58126137 0.51157498 0.28004783\n",
      "  0.3127388  0.46925113 0.5340786  0.68094587 0.30925001 0.45452064\n",
      "  0.19213386 0.4130582  0.69740073 0.54141436 0.52285888 0.26790929\n",
      "  0.35976826 0.62708674 0.2603498  0.39130433 0.28951086 0.4181161\n",
      "  0.70540847 0.73789838 0.65872399 0.47433186 0.69732959 0.31078648\n",
      "  0.82710712 0.27619896 0.62891788 0.68574601 0.45226414 0.41195884\n",
      "  0.         0.60992588 0.72060658 0.33513612 0.6825522  0.23231175\n",
      "  0.65764437 0.22874923 0.63443844 0.64688781 0.4886493  0.24019764\n",
      "  0.54910481 0.70173813 0.30026405 0.09742974 0.54983237 0.56886206\n",
      "  0.07404159 0.34798476 0.12914169 0.41950216]\n",
      " [1.04256116 0.62146935 0.3022277  0.94777699 0.59491858 0.65107433\n",
      "  0.60702495 0.32294195 0.64366282 0.43401043 0.25974235 0.51686383\n",
      "  0.65269347 0.73036301 0.08942033 0.67744164 0.90328202 0.61442221\n",
      "  0.80093587 1.01578273 1.04567317 0.77443743 0.43173412 0.72391505\n",
      "  0.91866684 0.38200731 0.48588329 0.16491762 0.13462489 0.58192915\n",
      "  0.59693193 0.87650872 0.57399071 0.62773644 0.30927588 1.06040881\n",
      "  0.45966269 0.36124009 0.79166846 0.74187937 0.59876823 0.78659672\n",
      "  0.36600361 0.99478877 0.84673666 0.75222583 0.65739466 0.51394535\n",
      "  0.7021434  1.04666869 1.11523198 0.21332981 0.31813643 0.60819341\n",
      "  0.50012838 0.47093876 0.40000591 0.11119123 0.12286539 0.77925293\n",
      "  0.25260967 0.75195662 0.38493777 0.27645319 0.56663369 0.85871069\n",
      "  0.80742844 0.74687789 0.6994573  0.26422954 0.14323956 0.69974372\n",
      "  0.7921564  0.39276792 0.06635152 0.78074777 0.31906585 0.5742918\n",
      "  0.60992588 0.         0.11622368 0.73175255 0.31667328 0.4637271\n",
      "  0.89477858 0.395227   0.40777764 0.59807533 0.40003921 0.67748813\n",
      "  0.40320844 0.16182005 0.8308809  0.70733539 0.10587716 0.6611824\n",
      "  0.67437503 0.70023509 0.73317581 0.48700306]\n",
      " [1.13690932 0.731175   0.41828886 1.01110507 0.70891222 0.76097554\n",
      "  0.64130162 0.23511929 0.75983387 0.47695866 0.36128847 0.56515975\n",
      "  0.76562645 0.80221455 0.03763632 0.78620473 0.94548483 0.63772999\n",
      "  0.8771439  1.10947919 1.13304497 0.86318913 0.54576295 0.84011208\n",
      "  1.02248025 0.49701713 0.5779962  0.09747486 0.03109577 0.69651576\n",
      "  0.65772501 0.97396126 0.62785286 0.70414389 0.40278994 1.15349999\n",
      "  0.57265069 0.40804491 0.79772675 0.84628687 0.64814668 0.89702701\n",
      "  0.34265734 1.07199811 0.88304124 0.80209206 0.71125569 0.59985113\n",
      "  0.78764258 1.14718619 1.21594452 0.18584246 0.43389226 0.66872374\n",
      "  0.59829267 0.5795807  0.38862068 0.22048888 0.20707722 0.87521663\n",
      "  0.36671161 0.79380815 0.50096259 0.39155121 0.68171623 0.94287582\n",
      "  0.84111617 0.76710531 0.73000979 0.37063982 0.08863964 0.78534937\n",
      "  0.80001059 0.50898454 0.09748508 0.81500654 0.38205182 0.68393544\n",
      "  0.72060658 0.11622368 0.         0.81626796 0.3008999  0.57995031\n",
      "  0.94684357 0.51004544 0.41709353 0.62086009 0.44901961 0.79368653\n",
      "  0.43660153 0.10859675 0.92765834 0.8179936  0.1813889  0.70517798\n",
      "  0.78293567 0.78120203 0.84547582 0.59518234]\n",
      " [0.33867943 0.75608383 0.58499772 0.29147221 0.41043563 0.76592925\n",
      "  0.38413366 0.84961159 0.56802831 0.40958484 0.48009679 0.34045683\n",
      "  0.38415924 0.11378517 0.77868013 0.79637849 0.40044808 0.44470797\n",
      "  0.10293721 0.30972631 0.31740777 0.0624744  0.62922463 0.58875942\n",
      "  0.31835283 0.48422163 0.2509161  0.77244116 0.81136469 0.42867853\n",
      "  0.23472126 0.21461725 0.28435567 0.12857515 0.42376662 0.3496662\n",
      "  0.41416754 0.44661383 0.5833967  0.23609278 0.29968947 0.35775097\n",
      "  0.66113791 0.27120247 0.41197645 0.28564918 0.25672616 0.21781321\n",
      "  0.03063807 0.38636944 0.45010837 0.70049768 0.53104051 0.23069305\n",
      "  0.25723785 0.71887813 0.6179337  0.71064891 0.61302377 0.13630613\n",
      "  0.53828222 0.34168156 0.5183782  0.62051704 0.61915696 0.12698153\n",
      "  0.41356012 0.48103445 0.40669092 0.70961158 0.75879958 0.03318515\n",
      "  0.57266311 0.5463457  0.71932584 0.40065958 0.44303588 0.73823993\n",
      "  0.33513612 0.73175255 0.81626796 0.         0.64678252 0.53286998\n",
      "  0.32824545 0.47454089 0.54383354 0.44811641 0.41163504 0.57177955\n",
      "  0.46133309 0.75353174 0.17492926 0.33921096 0.6366506  0.32031685\n",
      "  0.2949743  0.04682421 0.38323231 0.72888788]\n",
      " [0.98523405 0.85806734 0.51308705 0.7752668  0.70315136 0.88524735\n",
      "  0.37030043 0.20821336 0.80988786 0.2417261  0.34817981 0.32676871\n",
      "  0.74307363 0.59661672 0.27781674 0.91603163 0.67466534 0.35255677\n",
      "  0.67855765 0.95633596 0.95647008 0.70469613 0.65374278 0.8826901\n",
      "  0.9188363  0.53277583 0.46401598 0.20751006 0.27547433 0.69956244\n",
      "  0.4367054  0.84246138 0.39413223 0.51950975 0.3409853  0.99637981\n",
      "  0.57280605 0.20247499 0.49805017 0.7567472  0.40309515 0.84264309\n",
      "  0.05114708 0.8672719  0.60584766 0.54821368 0.47029285 0.45930606\n",
      "  0.62369454 1.02151914 1.08870943 0.11506317 0.49474445 0.44598854\n",
      "  0.50584334 0.72118407 0.08773    0.40491741 0.25242621 0.74349253\n",
      "  0.42251267 0.52697901 0.55665094 0.50861735 0.76522432 0.76420308\n",
      "  0.56170005 0.47561118 0.44995321 0.54039959 0.21227046 0.62195081\n",
      "  0.50090926 0.57971613 0.2530248  0.53695903 0.23210038 0.81366693\n",
      "  0.6825522  0.31667328 0.3008999  0.64678252 0.         0.63950896\n",
      "  0.69143007 0.54082449 0.13027479 0.33578286 0.23517112 0.83901808\n",
      "  0.18974031 0.19297343 0.7959459  0.77105181 0.24193252 0.44602563\n",
      "  0.7236872  0.60320906 0.81048992 0.73807573]\n",
      " [0.7330051  0.24986162 0.16300527 0.82138453 0.17384395 0.27014972\n",
      "  0.68442856 0.75452274 0.18065738 0.5499409  0.29193003 0.5736057\n",
      "  0.23738341 0.60396408 0.55068505 0.3032302  0.88095385 0.72924958\n",
      "  0.63407537 0.7128025  0.77779458 0.53883064 0.10162344 0.26044319\n",
      "  0.55689276 0.10809683 0.33907014 0.60582682 0.59631906 0.15296238\n",
      "  0.5678936  0.56495166 0.58453398 0.50835517 0.31547064 0.7569983\n",
      "  0.12328871 0.50674926 0.92713965 0.39843561 0.61923564 0.38291387\n",
      "  0.68550482 0.79001165 0.85892435 0.72635459 0.63934271 0.39040148\n",
      "  0.50517796 0.69728686 0.76002609 0.59897626 0.15138323 0.57623305\n",
      "  0.29951638 0.1865559  0.68257608 0.36946468 0.41651785 0.49403033\n",
      "  0.2257628  0.76050923 0.084144   0.19611376 0.12864582 0.63494132\n",
      "  0.83762252 0.84069321 0.76547148 0.26237382 0.58329388 0.50279603\n",
      "  0.92135062 0.0710717  0.50314307 0.81401455 0.44203959 0.21840415\n",
      "  0.23231175 0.4637271  0.57995031 0.53286998 0.63950896 0.\n",
      "  0.83030988 0.10308381 0.63699204 0.71942383 0.51396701 0.21403749\n",
      "  0.56638761 0.59402761 0.53075138 0.31061987 0.44033281 0.68418197\n",
      "  0.30536846 0.53126709 0.31581089 0.19603605]\n",
      " [0.50750039 1.06824682 0.84205672 0.12119404 0.73112361 1.08105314\n",
      "  0.3225939  0.89544147 0.89081153 0.47019759 0.68787596 0.38169579\n",
      "  0.71064718 0.22935946 0.91220296 1.11261526 0.08571102 0.35611005\n",
      "  0.234335   0.48461063 0.41959382 0.36313349 0.91792257 0.91606076\n",
      "  0.59624906 0.75913958 0.49925037 0.87496434 0.93174409 0.74754806\n",
      "  0.30129247 0.48310078 0.32092658 0.32271171 0.62584788 0.50033217\n",
      "  0.70709201 0.53910131 0.37229339 0.56115414 0.2986992  0.68072376\n",
      "  0.6808614  0.27860287 0.14234619 0.14502335 0.23739007 0.44855764\n",
      "  0.34618807 0.60110894 0.64414443 0.78481198 0.7892235  0.29007973\n",
      "  0.53171307 1.01012278 0.6256315  0.91128136 0.77287412 0.44719869\n",
      "  0.77142206 0.16892577 0.79648526 0.87111611 0.93144375 0.31336125\n",
      "  0.17701157 0.29148468 0.26169691 0.95492141 0.86914201 0.34792963\n",
      "  0.35990796 0.82742241 0.85980125 0.18757742 0.57580082 1.0451842\n",
      "  0.65764437 0.89477858 0.94684357 0.32824545 0.69143007 0.83030988\n",
      "  0.         0.75281314 0.562021   0.37046818 0.49837433 0.8970436\n",
      "  0.51414182 0.85647496 0.46359987 0.6673979  0.78918078 0.24571418\n",
      "  0.62289079 0.30966068 0.71100972 1.02233998]\n",
      " [0.71524644 0.34910799 0.12430964 0.75520634 0.20051383 0.37108607\n",
      "  0.58653093 0.66700221 0.26993881 0.44765067 0.1927037  0.4749163\n",
      "  0.26078879 0.53164504 0.47774828 0.4040551  0.79782182 0.62947521\n",
      "  0.57173154 0.69230167 0.74685712 0.4911746  0.16662947 0.34561663\n",
      "  0.55693249 0.0140004  0.25413715 0.52395014 0.52272446 0.18673221\n",
      "  0.4778356  0.54405849 0.49033191 0.4303982  0.21246533 0.73748136\n",
      "  0.07444684 0.40366546 0.82810802 0.38512401 0.52500191 0.40167854\n",
      "  0.58575039 0.74129536 0.77075971 0.64060746 0.55020715 0.30553147\n",
      "  0.44500597 0.69441999 0.76051638 0.50777713 0.08122258 0.4868708\n",
      "  0.22341481 0.25879243 0.58091233 0.31588856 0.32969299 0.46086095\n",
      "  0.14363651 0.67099302 0.04419741 0.16380689 0.2316952  0.58732171\n",
      "  0.74694748 0.74383291 0.66992695 0.25013122 0.50198856 0.44249814\n",
      "  0.82268898 0.07460965 0.42544879 0.7226003  0.33905812 0.31361118\n",
      "  0.22874923 0.395227   0.51004544 0.47454089 0.54082449 0.10308381\n",
      "  0.75281314 0.         0.53416392 0.61914627 0.41129221 0.30050259\n",
      "  0.46333718 0.51056749 0.50445325 0.32306194 0.355135   0.5913223\n",
      "  0.30085712 0.46529355 0.34248639 0.2721786 ]\n",
      " [0.88167869 0.87331888 0.53669195 0.64887681 0.6680522  0.89836376\n",
      "  0.24021361 0.33404782 0.79369356 0.13585918 0.35163637 0.20864482\n",
      "  0.69855035 0.48131292 0.38889943 0.93056158 0.54442031 0.22371885\n",
      "  0.56391669 0.85268682 0.84492996 0.60431184 0.67096906 0.860344\n",
      "  0.83436809 0.52912487 0.3976263  0.32981147 0.39490024 0.668524\n",
      "  0.32060245 0.74894317 0.27452287 0.41526269 0.32185081 0.89079933\n",
      "  0.54952559 0.13536447 0.38457626 0.68285327 0.27882547 0.78041239\n",
      "  0.12262887 0.74807389 0.47600296 0.41963168 0.34581701 0.38008796\n",
      "  0.52379359 0.9267146  0.99234858 0.23557942 0.50620179 0.32879517\n",
      "  0.44580114 0.7488148  0.07412888 0.4759659  0.31278698 0.65260202\n",
      "  0.44195283 0.39684226 0.55928862 0.54179644 0.7655903  0.65484266\n",
      "  0.43210512 0.3504156  0.32022326 0.59153525 0.33025199 0.52234217\n",
      "  0.38569534 0.58671733 0.35155564 0.40711641 0.1954206  0.8319014\n",
      "  0.63443844 0.40777764 0.41709353 0.54383354 0.13027479 0.63699204\n",
      "  0.562021   0.53416392 0.         0.20683198 0.14808866 0.81954851\n",
      "  0.08801615 0.31322369 0.70352363 0.71471608 0.31301113 0.31720991\n",
      "  0.66417    0.49831769 0.75765483 0.76541731]\n",
      " [0.766218   0.96820035 0.65907202 0.47132114 0.69975485 0.98951927\n",
      "  0.06460613 0.53132584 0.84739321 0.18181352 0.47164251 0.14920502\n",
      "  0.71243553 0.35429699 0.59072398 1.02258221 0.34173259 0.01691879\n",
      "  0.43226913 0.73791626 0.71008397 0.51028245 0.777206   0.90154695\n",
      "  0.76424473 0.61858975 0.40683264 0.53608635 0.60005982 0.70670851\n",
      "  0.21782937 0.6627006  0.17174875 0.33220107 0.42088009 0.77006368\n",
      "  0.60953904 0.24941404 0.21150485 0.64318703 0.14909315 0.75752532\n",
      "  0.31640404 0.59378615 0.27065902 0.23838454 0.19787081 0.36684338\n",
      "  0.43823596 0.83043146 0.89065637 0.44202836 0.61680683 0.21932264\n",
      "  0.45840226 0.86429932 0.26030535 0.64876276 0.48850703 0.57821548\n",
      "  0.56788161 0.2015473  0.65435386 0.67452933 0.844634   0.53342769\n",
      "  0.22612224 0.1488271  0.11496097 0.74047495 0.5353989  0.43770937\n",
      "  0.20787625 0.68528604 0.54804042 0.20192238 0.31243609 0.93221397\n",
      "  0.64688781 0.59807533 0.62086009 0.44811641 0.33578286 0.71942383\n",
      "  0.37046818 0.61914627 0.20683198 0.         0.22166853 0.86703399\n",
      "  0.19659216 0.51911372 0.62230687 0.70667183 0.49575742 0.14349785\n",
      "  0.65380314 0.40185539 0.75329274 0.87987335]\n",
      " [0.75006573 0.75878503 0.43912743 0.56401268 0.52627827 0.78183857\n",
      "  0.21250932 0.43927201 0.65951552 0.03985515 0.25063608 0.11723833\n",
      "  0.55338026 0.36738697 0.41397854 0.81466841 0.50325392 0.23546937\n",
      "  0.44791681 0.72116538 0.72284911 0.46962163 0.56232426 0.72247623\n",
      "  0.69016085 0.4086879  0.249729   0.382879   0.43537752 0.52843902\n",
      "  0.21229709 0.60919432 0.178908   0.28473189 0.20352459 0.76126999\n",
      "  0.41529371 0.04107962 0.43255887 0.53548578 0.19999049 0.63233934\n",
      "  0.25310201 0.64000834 0.4477862  0.35415441 0.26223614 0.2328649\n",
      "  0.38860198 0.78801332 0.85476606 0.29913475 0.39925565 0.22281577\n",
      "  0.29853104 0.64706072 0.2176424  0.43478923 0.28129181 0.51109791\n",
      "  0.3468565  0.35195651 0.44252882 0.45322804 0.64194016 0.53011956\n",
      "  0.40997496 0.36493513 0.30607977 0.51903686 0.37442844 0.38688322\n",
      "  0.42941034 0.47240943 0.3615844  0.38319241 0.09149687 0.72040198\n",
      "  0.4886493  0.40003921 0.44901961 0.41163504 0.23517112 0.51396701\n",
      "  0.49837433 0.41129221 0.14808866 0.22166853 0.         0.68340982\n",
      "  0.06068394 0.36391849 0.56301884 0.56711953 0.29423685 0.2611441\n",
      "  0.51632062 0.36832726 0.61046406 0.66299642]\n",
      " [0.66763674 0.22878508 0.37568913 0.8591448  0.17131836 0.22412176\n",
      "  0.82158058 0.96596424 0.03447981 0.71477962 0.49213991 0.71783255\n",
      "  0.18808556 0.66916098 0.76469108 0.24709845 0.96188677 0.87397045\n",
      "  0.67325731 0.65441763 0.73738315 0.55370071 0.26769886 0.04642821\n",
      "  0.4696848  0.31048676 0.46104136 0.8191262  0.81033347 0.16091793\n",
      "  0.68250838 0.52004219 0.71143368 0.59497502 0.50168378 0.69380165\n",
      "  0.27007378 0.68484799 1.06421042 0.36388224 0.74471913 0.28452021\n",
      "  0.88235988 0.78800282 0.95591579 0.82053241 0.74750249 0.50562658\n",
      "  0.55117797 0.60408482 0.65651152 0.80798328 0.36418304 0.68831415\n",
      "  0.41037419 0.29783212 0.87287567 0.58068377 0.62780429 0.48366081\n",
      "  0.43757669 0.86494657 0.29608325 0.40579824 0.13748409 0.64062374\n",
      "  0.94343826 0.9694346  0.89076179 0.45824624 0.79669238 0.54934375\n",
      "  1.05668121 0.28476727 0.71699952 0.92300834 0.6253367  0.23915987\n",
      "  0.24019764 0.67748813 0.79368653 0.57177955 0.83901808 0.21403749\n",
      "  0.8970436  0.30050259 0.81954851 0.86703399 0.68340982 0.\n",
      "  0.7409725  0.80690179 0.5011357  0.24796879 0.65234991 0.80238343\n",
      "  0.28008319 0.58756027 0.21980125 0.29431133]\n",
      " [0.79993495 0.808374   0.48079759 0.5901327  0.58562528 0.83223137\n",
      "  0.20551564 0.39761692 0.71636968 0.05227576 0.291843   0.13826107\n",
      "  0.61370627 0.40690704 0.40382437 0.86486312 0.50890758 0.21243657\n",
      "  0.48894804 0.77095949 0.76770727 0.52085291 0.60913468 0.78065266\n",
      "  0.74722083 0.45972806 0.31036322 0.36089964 0.41930399 0.58723753\n",
      "  0.24701874 0.66349233 0.20555086 0.33301863 0.2519932  0.81004216\n",
      "  0.47184517 0.06085414 0.40106498 0.59484452 0.21810551 0.6927831\n",
      "  0.19980682 0.67765433 0.44716239 0.36919273 0.2845981  0.29207675\n",
      "  0.43996893 0.84180221 0.90795496 0.27103572 0.44462263 0.25642193\n",
      "  0.35920556 0.69135314 0.15959897 0.45252763 0.29192043 0.56638579\n",
      "  0.38671189 0.35732796 0.49220183 0.4912056  0.69485888 0.5760047\n",
      "  0.40619454 0.34508817 0.29670291 0.5507255  0.35583528 0.43840281\n",
      "  0.39944827 0.52119919 0.35663276 0.379758   0.12816365 0.76874081\n",
      "  0.54910481 0.40320844 0.43660153 0.46133309 0.18974031 0.56638761\n",
      "  0.51414182 0.46333718 0.08801615 0.19659216 0.06068394 0.7409725\n",
      "  0.         0.34251003 0.61773523 0.62779485 0.29972621 0.26968237\n",
      "  0.57695005 0.41664767 0.67114298 0.70760126]\n",
      " [1.08332734 0.77459852 0.44047566 0.92772773 0.70155641 0.80379583\n",
      "  0.54406938 0.16465484 0.77426695 0.38715281 0.33559273 0.47660978\n",
      "  0.7532704  0.72734345 0.09191638 0.83149541 0.84979417 0.53603166\n",
      "  0.80537465 1.05519188 1.07077157 0.80475183 0.57802809 0.85299398\n",
      "  0.98475729 0.4989392  0.52871049 0.0190846  0.08254877 0.6921389\n",
      "  0.57600298 0.92602392 0.54176788 0.63472829 0.36246484 1.09812953\n",
      "  0.56382431 0.32306527 0.69073677 0.81138574 0.5589025  0.87529762\n",
      "  0.23406135 0.99962284 0.78493154 0.71146129 0.62400549 0.54241604\n",
      "  0.72636018 1.10278365 1.17146287 0.07838539 0.44285462 0.58663728\n",
      "  0.55700579 0.62621253 0.28057018 0.27111347 0.18146226 0.82607019\n",
      "  0.36941726 0.69887071 0.5108729  0.42187373 0.70748351 0.87843934\n",
      "  0.74210534 0.66359713 0.63038999 0.423159   0.02131033 0.72421688\n",
      "  0.69333895 0.52516772 0.09915329 0.71638545 0.31077374 0.72775129\n",
      "  0.70173813 0.16182005 0.10859675 0.75353174 0.19297343 0.59402761\n",
      "  0.85647496 0.51056749 0.31322369 0.51911372 0.36391849 0.80690179\n",
      "  0.34251003 0.         0.87914903 0.79775226 0.15547942 0.61214477\n",
      "  0.75769654 0.71515649 0.82996806 0.64264912]\n",
      " [0.21362709 0.71449169 0.62715922 0.38851673 0.37102352 0.71765002\n",
      "  0.55861011 0.99173606 0.50780631 0.56769197 0.57118998 0.50735044\n",
      "  0.32173501 0.28274782 0.8902404  0.74449556 0.54488365 0.61931846\n",
      "  0.23340558 0.18883115 0.24724417 0.11466    0.63235406 0.50498016\n",
      "  0.14383831 0.51701273 0.35092313 0.89746923 0.92749465 0.39282009\n",
      "  0.40668724 0.04696985 0.45580925 0.2946875  0.52488527 0.23417925\n",
      "  0.43217161 0.59347152 0.75533701 0.13918882 0.47342901 0.23400082\n",
      "  0.81603091 0.28898611 0.57003341 0.45260199 0.43157293 0.33978847\n",
      "  0.1849782  0.2258165  0.2937316  0.83521297 0.57680155 0.40367384\n",
      "  0.33075253 0.71329501 0.77694662 0.78876131 0.7205988  0.05315383\n",
      "  0.60537094 0.51023206 0.54389317 0.66603261 0.58396109 0.15605027\n",
      "  0.57787357 0.65325879 0.58036204 0.75410435 0.88124366 0.18581852\n",
      "  0.74430695 0.56566249 0.83034435 0.56777104 0.57627142 0.70733973\n",
      "  0.30026405 0.8308809  0.92765834 0.17492926 0.7959459  0.53075138\n",
      "  0.46359987 0.50445325 0.70352363 0.62230687 0.56301884 0.5011357\n",
      "  0.61773523 0.87914903 0.         0.25340131 0.74638296 0.49501389\n",
      "  0.23224905 0.22055256 0.28466107 0.71973185]\n",
      " [0.43300269 0.46336788 0.4442872  0.61805725 0.13689835 0.46510934\n",
      "  0.65144444 0.93852905 0.25474761 0.58842812 0.46255605 0.5632478\n",
      "  0.07526646 0.44630517 0.7830023  0.49139942 0.73872272 0.70975229\n",
      "  0.43651605 0.41628532 0.49364366 0.31161618 0.40907063 0.25534722\n",
      "  0.24713065 0.33705913 0.317558   0.8138387  0.82596684 0.15838614\n",
      "  0.49832613 0.27519499 0.53749461 0.39324054 0.44032825 0.45834555\n",
      "  0.25090429 0.58280863 0.88391824 0.11612382 0.56682444 0.07932993\n",
      "  0.80485872 0.54014423 0.74349415 0.61056777 0.55268422 0.34449241\n",
      "  0.3239281  0.38764101 0.44951412 0.77477218 0.40414618 0.5012104\n",
      "  0.2690211  0.47956958 0.78044519 0.63758899 0.61957683 0.23697402\n",
      "  0.45683807 0.66123258 0.35129048 0.48342468 0.33717203 0.39438603\n",
      "  0.73808824 0.78368486 0.70468009 0.56377247 0.79376943 0.32256319\n",
      "  0.87478534 0.36353636 0.7260727  0.72091454 0.53929482 0.45983424\n",
      "  0.09742974 0.70733539 0.8179936  0.33921096 0.77105181 0.31061987\n",
      "  0.6673979  0.32306194 0.71471608 0.70667183 0.56711953 0.24796879\n",
      "  0.62779485 0.79775226 0.25340131 0.         0.646577   0.61370129\n",
      "  0.0528695  0.36402872 0.04707721 0.48341293]\n",
      " [0.95553155 0.63324827 0.29165835 0.84396756 0.54674101 0.66174244\n",
      "  0.5022281  0.31423282 0.6200117  0.32860649 0.18447842 0.41099414\n",
      "  0.59953263 0.62883782 0.14388193 0.69091289 0.79744752 0.51187378\n",
      "  0.7013226  0.92812745 0.95279163 0.68243313 0.43205976 0.69830945\n",
      "  0.84333429 0.3436056  0.39661767 0.16949955 0.18238068 0.53693955\n",
      "  0.49214646 0.79275092 0.46831028 0.52791776 0.22164695 0.97219632\n",
      "  0.40897231 0.25570624 0.69358503 0.66781369 0.49290295 0.72486156\n",
      "  0.29307411 0.89585541 0.74130516 0.64642735 0.55179222 0.4194724\n",
      "  0.6076712  0.96653943 1.03532047 0.16457841 0.28894961 0.5033818\n",
      "  0.41758424 0.48943686 0.31704162 0.16501982 0.02702116 0.69388366\n",
      "  0.21483303 0.64618711 0.3566707  0.27848991 0.55695973 0.76351322\n",
      "  0.70233006 0.64453402 0.59502396 0.29952956 0.14821675 0.60534248\n",
      "  0.69342015 0.37256574 0.08396614 0.67561319 0.21378827 0.58721101\n",
      "  0.54983237 0.10587716 0.1813889  0.6366506  0.24193252 0.44033281\n",
      "  0.78918078 0.355135   0.31301113 0.49575742 0.29423685 0.65234991\n",
      "  0.29972621 0.15547942 0.74638296 0.646577   0.         0.5553654\n",
      "  0.60857196 0.60290915 0.6772309  0.50624449]\n",
      " [0.62603698 0.933296   0.65668013 0.33418165 0.63125137 0.95136608\n",
      "  0.08287678 0.65119604 0.7874075  0.228832   0.48183696 0.14480561\n",
      "  0.6322376  0.21713059 0.67145733 0.98428358 0.2421216  0.1344559\n",
      "  0.29155337 0.59805656 0.56707876 0.38077078 0.75686896 0.83189155\n",
      "  0.63864434 0.59401763 0.34811514 0.63046073 0.68873994 0.64205038\n",
      "  0.1198973  0.53252257 0.10200445 0.22147188 0.42238695 0.6288236\n",
      "  0.56489306 0.30048237 0.27061918 0.53514882 0.06840231 0.65461279\n",
      "  0.43760423 0.45056478 0.19005667 0.10245192 0.06396977 0.2991008\n",
      "  0.31601394 0.69471837 0.75301414 0.53956213 0.60789799 0.11436207\n",
      "  0.39515814 0.84797227 0.38324289 0.69054004 0.54179284 0.45519385\n",
      "  0.57399414 0.09109942 0.63163903 0.67955622 0.80197862 0.39384079\n",
      "  0.15810701 0.17002131 0.09100176 0.75623262 0.62547877 0.31600382\n",
      "  0.26119745 0.66343588 0.62126651 0.13244149 0.34637626 0.90228202\n",
      "  0.56886206 0.6611824  0.70517798 0.32031685 0.44602563 0.68418197\n",
      "  0.24571418 0.5913223  0.31720991 0.14349785 0.2611441  0.80238343\n",
      "  0.26968237 0.61214477 0.49501389 0.61370129 0.5553654  0.\n",
      "  0.56167987 0.27625271 0.66076766 0.86225797]\n",
      " [0.42785715 0.48370117 0.42465024 0.57939488 0.13903301 0.48845732\n",
      "  0.59866113 0.89509565 0.28118977 0.53682435 0.42409366 0.51048285\n",
      "  0.09276824 0.39901976 0.74729282 0.51655038 0.69227605 0.65690651\n",
      "  0.39477446 0.40832523 0.47840489 0.27362062 0.4064677  0.29404374\n",
      "  0.25646456 0.31465095 0.26659165 0.77422147 0.78944527 0.16099626\n",
      "  0.44583042 0.26172909 0.48470861 0.34176842 0.39740619 0.45212431\n",
      "  0.22661543 0.53313542 0.83169237 0.09440335 0.5141755  0.11926304\n",
      "  0.75635989 0.51184936 0.69461853 0.56098251 0.50103128 0.29202041\n",
      "  0.27741838 0.39530808 0.4604108  0.73155271 0.38054417 0.44887319\n",
      "  0.21924012 0.48356175 0.73067367 0.61051348 0.58155646 0.2061617\n",
      "  0.42713219 0.61081672 0.33385413 0.4641558  0.35185375 0.36165176\n",
      "  0.68804407 0.73169726 0.65261855 0.54792031 0.75466335 0.27587793\n",
      "  0.8226432  0.35020737 0.68946118 0.67039829 0.4916205  0.47521187\n",
      "  0.07404159 0.67437503 0.78293567 0.2949743  0.7236872  0.30536846\n",
      "  0.62289079 0.30085712 0.66417    0.65380314 0.51632062 0.28008319\n",
      "  0.57695005 0.75769654 0.23224905 0.0528695  0.60857196 0.56167987\n",
      "  0.         0.31654651 0.09966958 0.4891693 ]\n",
      " [0.38346078 0.76213401 0.57038235 0.29060097 0.42163483 0.7736726\n",
      "  0.33806412 0.80717988 0.58117726 0.36468248 0.45314606 0.29401181\n",
      "  0.40193677 0.08247559 0.74372026 0.80482961 0.37591446 0.39876697\n",
      "  0.10775831 0.35447064 0.35629041 0.10927627 0.62469581 0.60768302\n",
      "  0.36332979 0.47395409 0.22781659 0.73414683 0.77513143 0.43843034\n",
      "  0.18790127 0.26113846 0.23753155 0.08372996 0.39478253 0.39344075\n",
      "  0.40983496 0.40426894 0.54198033 0.26834152 0.25319159 0.39031306\n",
      "  0.6163607  0.29555008 0.38018377 0.24964676 0.21236428 0.18829968\n",
      "  0.04166391 0.43313973 0.4966627  0.66009248 0.5162406  0.18396539\n",
      "  0.24304183 0.71566175 0.57244421 0.68486975 0.5800251  0.17894214\n",
      "  0.51734822 0.30383114 0.50946508 0.60451431 0.62502018 0.16342036\n",
      "  0.37804409 0.43958877 0.36399595 0.69294836 0.72118728 0.04242927\n",
      "  0.53150054 0.53864614 0.68477446 0.36340227 0.40438744 0.7416069\n",
      "  0.34798476 0.70023509 0.78120203 0.04682421 0.60320906 0.53126709\n",
      "  0.30966068 0.46529355 0.49831769 0.40185539 0.36832726 0.58756027\n",
      "  0.41664767 0.71515649 0.22055256 0.36402872 0.60290915 0.27625271\n",
      "  0.31654651 0.         0.40955833 0.7265305 ]\n",
      " [0.4495048  0.44308182 0.45984512 0.65814077 0.14493496 0.44206467\n",
      "  0.69832581 0.9738209  0.23208415 0.63272824 0.49438289 0.60937793\n",
      "  0.08185102 0.49163393 0.81116891 0.46651003 0.78338733 0.7565098\n",
      "  0.4788964  0.43525257 0.51760021 0.35241871 0.41011769 0.22034493\n",
      "  0.25507295 0.35640967 0.36146038 0.84560874 0.85479705 0.1637921\n",
      "  0.54537436 0.30065371 0.58437311 0.44022811 0.47624785 0.47546108\n",
      "  0.27366607 0.62488625 0.93099534 0.15326169 0.61381757 0.06975475\n",
      "  0.84545837 0.57345927 0.789423   0.65685993 0.5996952  0.39015206\n",
      "  0.3690909  0.39378522 0.45191928 0.81006592 0.42357574 0.54828285\n",
      "  0.31194299 0.47388532 0.82245589 0.65837474 0.65033028 0.27451698\n",
      "  0.48103238 0.70785256 0.36618084 0.49828546 0.32378342 0.43145688\n",
      "  0.78454644 0.83074535 0.7517492  0.57499585 0.82509288 0.36780926\n",
      "  0.92185946 0.37468982 0.75521577 0.76756391 0.57937785 0.44408613\n",
      "  0.12914169 0.73317581 0.84547582 0.38323231 0.81048992 0.31581089\n",
      "  0.71100972 0.34248639 0.75765483 0.75329274 0.61046406 0.21980125\n",
      "  0.67114298 0.82996806 0.28466107 0.04707721 0.6772309  0.66076766\n",
      "  0.09966958 0.40955833 0.         0.47610841]\n",
      " [0.91519042 0.13720325 0.22877847 1.01693268 0.35060199 0.16711796\n",
      "  0.85262387 0.8071113  0.26450312 0.70174813 0.41597433 0.74041179\n",
      "  0.40820603 0.797796   0.57550775 0.19103764 1.06952017 0.89151386\n",
      "  0.82993701 0.89685864 0.96685983 0.73414529 0.10558888 0.33132759\n",
      "  0.72920769 0.26840682 0.52554643 0.64935846 0.6191959  0.32849493\n",
      "  0.74985593 0.75089803 0.76074299 0.69965569 0.4597682  0.94004876\n",
      "  0.31684272 0.64676955 1.09091355 0.58356249 0.79528244 0.54585781\n",
      "  0.78804206 0.98497295 1.04288653 0.91269689 0.82230617 0.57709509\n",
      "  0.70109424 0.86914593 0.92802593 0.67044255 0.26374078 0.75897753\n",
      "  0.49065808 0.01689339 0.79751967 0.37626438 0.4892773  0.68605139\n",
      "  0.323467   0.94297243 0.2306728  0.22953212 0.15856258 0.83000396\n",
      "  1.01858705 1.01080132 0.9386753  0.22457967 0.62676782 0.69870156\n",
      "  1.08632235 0.19887104 0.54376625 0.99400116 0.57943762 0.09054106\n",
      "  0.41950216 0.48700306 0.59518234 0.72888788 0.73807573 0.19603605\n",
      "  1.02233998 0.2721786  0.76541731 0.87987335 0.66299642 0.29431133\n",
      "  0.70760126 0.64264912 0.71973185 0.48341293 0.50624449 0.86225797\n",
      "  0.4891693  0.7265305  0.47610841 0.        ]]\n"
     ]
    }
   ],
   "source": [
    "coordinates = np.random.rand(100, 2)\n",
    "x, y = np.atleast_2d(coordinates[:, 0], coordinates[:, 1])\n",
    "result = np.sqrt((x - x.T) ** 2 + (y - y.T) ** 2)\n",
    "print(result)"
   ]
  },
  {
   "cell_type": "markdown",
   "id": "f5c164f2",
   "metadata": {},
   "source": [
    "#### 53. How to convert a float (32 bits) array into an integer (32 bits) in place?"
   ]
  },
  {
   "cell_type": "code",
   "execution_count": null,
   "id": "ea262de8",
   "metadata": {},
   "outputs": [
    {
     "name": "stdout",
     "output_type": "stream",
     "text": [
      "Float: [3.14  2.718 1.618]\n",
      "Integer: [3 2 1]\n"
     ]
    }
   ],
   "source": [
    "float_array = np.array([3.14, 2.718, 1.618], dtype=np.float32)\n",
    "print(\"Float:\", float_array)\n",
    "print(\"Integer:\", float_array.astype(int32))"
   ]
  },
  {
   "cell_type": "markdown",
   "id": "a8b7e6f5",
   "metadata": {},
   "source": [
    "#### 54. How to read the following file? (★★☆)\n",
    "```\n",
    "1, 2, 3, 4, 5\n",
    "6,  ,  , 7, 8\n",
    " ,  , 9,10,11\n",
    "```"
   ]
  },
  {
   "cell_type": "code",
   "execution_count": null,
   "id": "bde0538a",
   "metadata": {},
   "outputs": [
    {
     "name": "stdout",
     "output_type": "stream",
     "text": [
      "Data from file:\n",
      "[[ 1.  2.  3.  4.  5.]\n",
      " [ 6. nan nan  7.  8.]\n",
      " [nan nan  9. 10. 11.]]\n"
     ]
    }
   ],
   "source": [
    "from io import StringIO\n",
    "file = StringIO('''1, 2, 3, 4, 5\n",
    "                6,  ,  , 7, 8\n",
    "                 ,  , 9,10,11''')\n",
    "data = np.genfromtxt(file, delimiter=\",\")\n",
    "print(\"Data from file:\")\n",
    "print(data)"
   ]
  },
  {
   "cell_type": "markdown",
   "id": "c6b32834",
   "metadata": {},
   "source": [
    "#### 55. What is the equivalent of enumerate for numpy arrays? (★★☆)"
   ]
  },
  {
   "cell_type": "code",
   "execution_count": null,
   "id": "ab02472a",
   "metadata": {},
   "outputs": [
    {
     "name": "stdout",
     "output_type": "stream",
     "text": [
      "Index: (0, 0), Value: 1\n",
      "Index: (0, 1), Value: 2\n",
      "Index: (0, 2), Value: 3\n"
     ]
    }
   ],
   "source": [
    "arr = np.array([[1, 2, 3]])\n",
    "for index, value in np.ndenumerate(arr):\n",
    "    print(f\"Index: {index}, Value: {value}\")\n",
    "    arr = np.array([[1, 2, 3]])"
   ]
  },
  {
   "cell_type": "markdown",
   "id": "a2121a05",
   "metadata": {},
   "source": [
    "#### 56. Generate a generic 2D Gaussian-like array (★★☆)"
   ]
  },
  {
   "cell_type": "code",
   "execution_count": null,
   "id": "18507102",
   "metadata": {},
   "outputs": [
    {
     "name": "stdout",
     "output_type": "stream",
     "text": [
      "[[0.36787944 0.44822088 0.51979489 0.57375342 0.60279818 0.60279818\n",
      "  0.57375342 0.51979489 0.44822088 0.36787944]\n",
      " [0.44822088 0.54610814 0.63331324 0.69905581 0.73444367 0.73444367\n",
      "  0.69905581 0.63331324 0.54610814 0.44822088]\n",
      " [0.51979489 0.63331324 0.73444367 0.81068432 0.85172308 0.85172308\n",
      "  0.81068432 0.73444367 0.63331324 0.51979489]\n",
      " [0.57375342 0.69905581 0.81068432 0.89483932 0.9401382  0.9401382\n",
      "  0.89483932 0.81068432 0.69905581 0.57375342]\n",
      " [0.60279818 0.73444367 0.85172308 0.9401382  0.98773022 0.98773022\n",
      "  0.9401382  0.85172308 0.73444367 0.60279818]\n",
      " [0.60279818 0.73444367 0.85172308 0.9401382  0.98773022 0.98773022\n",
      "  0.9401382  0.85172308 0.73444367 0.60279818]\n",
      " [0.57375342 0.69905581 0.81068432 0.89483932 0.9401382  0.9401382\n",
      "  0.89483932 0.81068432 0.69905581 0.57375342]\n",
      " [0.51979489 0.63331324 0.73444367 0.81068432 0.85172308 0.85172308\n",
      "  0.81068432 0.73444367 0.63331324 0.51979489]\n",
      " [0.44822088 0.54610814 0.63331324 0.69905581 0.73444367 0.73444367\n",
      "  0.69905581 0.63331324 0.54610814 0.44822088]\n",
      " [0.36787944 0.44822088 0.51979489 0.57375342 0.60279818 0.60279818\n",
      "  0.57375342 0.51979489 0.44822088 0.36787944]]\n"
     ]
    }
   ],
   "source": [
    "x, y = np.meshgrid(np.linspace(-1,1,10), np.linspace(-1,1,10))\n",
    "d = np.sqrt(x*x+y*y)\n",
    "sigma, mu = 1.0, 0.0\n",
    "arr = 1 * np.exp(-( (d**2) / ( 2.0 * 1**2 ) ))\n",
    "print(arr)"
   ]
  },
  {
   "cell_type": "markdown",
   "id": "97055efa",
   "metadata": {},
   "source": [
    "#### 57. How to randomly place p elements in a 2D array? (★★☆)"
   ]
  },
  {
   "cell_type": "code",
   "execution_count": null,
   "id": "292e842f",
   "metadata": {},
   "outputs": [
    {
     "name": "stdout",
     "output_type": "stream",
     "text": [
      "[[ 0. 10.  0.  0.  0.]\n",
      " [ 0.  0.  0.  0.  0.]\n",
      " [ 0.  0.  0.  0.  0.]\n",
      " [ 0.  0.  0.  0.  0.]\n",
      " [10. 10.  0.  0.  0.]]\n"
     ]
    }
   ],
   "source": [
    "size = 5\n",
    "elements = 3\n",
    "arr = np.zeros((size,size))\n",
    "np.put(arr, np.random.choice(range(size*size), elements, replace=False),10)\n",
    "print (arr)"
   ]
  },
  {
   "cell_type": "markdown",
   "id": "bfd2513c",
   "metadata": {},
   "source": [
    "#### 58. Subtract the mean of each row of a matrix (★★☆)"
   ]
  },
  {
   "cell_type": "code",
   "execution_count": null,
   "id": "f306ab72",
   "metadata": {},
   "outputs": [
    {
     "name": "stdout",
     "output_type": "stream",
     "text": [
      "Matrix:\n",
      "[[1 2 3 4]\n",
      " [4 5 6 7]]\n",
      "Result:\n",
      "[[-1.5 -0.5  0.5  1.5]\n",
      " [-1.5 -0.5  0.5  1.5]]\n"
     ]
    }
   ],
   "source": [
    "matrix = np.array([[1, 2, 3, 4],\n",
    "                   [4, 5, 6, 7]])\n",
    "row_means = matrix.mean(axis=1, keepdims=True)\n",
    "result = matrix - row_means\n",
    "print(\"Matrix:\")\n",
    "print(matrix)\n",
    "print(\"Result:\")\n",
    "print(result)"
   ]
  },
  {
   "cell_type": "markdown",
   "id": "da9f2f9b",
   "metadata": {},
   "source": [
    "#### 59. How to sort an array by the nth column? (★★☆)"
   ]
  },
  {
   "cell_type": "code",
   "execution_count": null,
   "id": "68cde57f",
   "metadata": {},
   "outputs": [
    {
     "name": "stdout",
     "output_type": "stream",
     "text": [
      "array:\n",
      "[[1 4 7]\n",
      " [3 6 9]\n",
      " [2 5 8]]\n",
      "\n",
      "Sorted array:\n",
      "[[1 4 7]\n",
      " [2 5 8]\n",
      " [3 6 9]]\n"
     ]
    }
   ],
   "source": [
    "array = np.array([[1, 4, 7],\n",
    "                  [3, 6, 9],\n",
    "                  [2, 5, 8]])\n",
    "n = 2\n",
    "sorted_array = array[array[:, n].argsort()]\n",
    "print(\"array:\")\n",
    "print(array)\n",
    "print(\"\\nSorted array:\")\n",
    "print(sorted_array)"
   ]
  },
  {
   "cell_type": "markdown",
   "id": "5b7be45c",
   "metadata": {},
   "source": [
    "#### 60. How to tell if a given 2D array has null columns? (★★☆)"
   ]
  },
  {
   "cell_type": "code",
   "execution_count": null,
   "id": "7dbe2c27",
   "metadata": {},
   "outputs": [
    {
     "name": "stdout",
     "output_type": "stream",
     "text": [
      "True\n",
      "False\n"
     ]
    }
   ],
   "source": [
    "arr = np.array([[1, 0, 3],\n",
    "                [0, 0, 0],\n",
    "                [4, 0, 6]])\n",
    "print((~arr.any(axis=0)).any())\n",
    "\n",
    "arr = np.array([[1, 0, 3],\n",
    "                [4, 1, 6]])\n",
    "print((~arr.any(axis=0)).any())"
   ]
  },
  {
   "cell_type": "markdown",
   "id": "7c18c02e",
   "metadata": {},
   "source": [
    "#### 61. Find the nearest value from a given value in an array (★★☆)"
   ]
  },
  {
   "cell_type": "code",
   "execution_count": null,
   "id": "b78ae9c4",
   "metadata": {},
   "outputs": [
    {
     "name": "stdout",
     "output_type": "stream",
     "text": [
      "5\n"
     ]
    }
   ],
   "source": [
    "arr = np.array([1, 3, 5, 8, 9])\n",
    "value = 6\n",
    "print(arr[np.abs(arr - value).argmin()])"
   ]
  },
  {
   "cell_type": "markdown",
   "id": "8174ba2c",
   "metadata": {},
   "source": [
    "#### 62. Considering two arrays with shape (1,3) and (3,1), how to compute their sum using an iterator? (★★☆)"
   ]
  },
  {
   "cell_type": "code",
   "execution_count": null,
   "id": "8a18fe57",
   "metadata": {},
   "outputs": [
    {
     "name": "stdout",
     "output_type": "stream",
     "text": [
      "[[0 1 2]\n",
      " [1 2 3]\n",
      " [2 3 4]]\n"
     ]
    }
   ],
   "source": [
    "arr1 = np.arange(3).reshape(3,1)\n",
    "arr2 = np.arange(3).reshape(1,3)\n",
    "iterator = np.nditer([A,B,None])\n",
    "for x,y,z in iterator: \n",
    "    z[...] = x + y\n",
    "print(iterator.operands[2])"
   ]
  },
  {
   "cell_type": "markdown",
   "id": "9189bd7c",
   "metadata": {},
   "source": [
    "#### 63. Create an array class that has a name attribute (★★☆)"
   ]
  },
  {
   "cell_type": "code",
   "execution_count": null,
   "id": "1c01ed42",
   "metadata": {},
   "outputs": [
    {
     "name": "stdout",
     "output_type": "stream",
     "text": [
      "Name: NewArray\n"
     ]
    }
   ],
   "source": [
    "class NamedArray(np.ndarray):\n",
    "    def __new__(cls, array, name=None):\n",
    "        obj = np.asarray(array).view(cls)\n",
    "        obj.name = name\n",
    "        return obj\n",
    "    def __array_finalize__(self, obj):\n",
    "        if obj is None:\n",
    "            return\n",
    "        self.name = getattr(obj, 'name', None)\n",
    "arr = NamedArray(np.arange(10), name='NewArray')\n",
    "print(\"Name:\", arr.name)"
   ]
  },
  {
   "cell_type": "markdown",
   "id": "f30162d2",
   "metadata": {},
   "source": [
    "#### 64. Consider a given vector, how to add 1 to each element indexed by a second vector (be careful with repeated indices)? (★★★)"
   ]
  },
  {
   "cell_type": "code",
   "execution_count": null,
   "id": "093ba36f",
   "metadata": {},
   "outputs": [
    {
     "name": "stdout",
     "output_type": "stream",
     "text": [
      "[ 3 10  9 11 13]\n"
     ]
    }
   ],
   "source": [
    "arr1 = np.array([1, 3, 5, 8, 9])\n",
    "arr2 = np.random.randint(0,len(arr1),20)\n",
    "np.add.at(arr1, arr2, 1)\n",
    "print(arr1)"
   ]
  },
  {
   "cell_type": "markdown",
   "id": "f5b1c584",
   "metadata": {},
   "source": [
    "#### 65. How to accumulate elements of a vector (X) to an array (F) based on an index list (I)? (★★★)"
   ]
  },
  {
   "cell_type": "code",
   "execution_count": null,
   "id": "c9d92a75",
   "metadata": {},
   "outputs": [
    {
     "name": "stdout",
     "output_type": "stream",
     "text": [
      "[0. 7. 0. 6. 5. 0. 0. 0. 0. 3.]\n"
     ]
    }
   ],
   "source": [
    "X = [1,2,3,4,5,6]\n",
    "I = [1,3,9,3,4,1]\n",
    "F = np.bincount(I,X)\n",
    "print(F)"
   ]
  },
  {
   "cell_type": "markdown",
   "id": "994c452d",
   "metadata": {},
   "source": [
    "#### 66. Considering a (w,h,3) image of (dtype=ubyte), compute the number of unique colors (★★☆)"
   ]
  },
  {
   "cell_type": "code",
   "execution_count": null,
   "id": "269cdaea",
   "metadata": {},
   "outputs": [
    {
     "name": "stdout",
     "output_type": "stream",
     "text": [
      "Number of Unique Colors in the Image: 64\n"
     ]
    }
   ],
   "source": [
    "w, h = 256, 256 \n",
    "image = np.random.randint(0, 4, (w, h, 3), dtype=np.ubyte) \n",
    "reshaped_image = image.reshape((-1, 3))\n",
    "print(\"Number of Unique Colors in the Image:\", len(np.unique(reshaped_image, axis=0)))"
   ]
  },
  {
   "cell_type": "markdown",
   "id": "4bddeb31",
   "metadata": {},
   "source": [
    "#### 67. Considering a four dimensions array, how to get sum over the last two axis at once? (★★★)"
   ]
  },
  {
   "cell_type": "code",
   "execution_count": null,
   "id": "32af15f5",
   "metadata": {},
   "outputs": [
    {
     "name": "stdout",
     "output_type": "stream",
     "text": [
      "[[117  94  99]\n",
      " [ 91  92 110]]\n"
     ]
    }
   ],
   "source": [
    "arr = np.random.randint(1, 10, (2, 3, 4, 5))\n",
    "print(arr.sum(axis=(-2,-1)))"
   ]
  },
  {
   "cell_type": "markdown",
   "id": "c4cf083c",
   "metadata": {},
   "source": [
    "#### 68. Considering a one-dimensional vector D, how to compute means of subsets of D using a vector S of same size describing subset  indices? (★★★)"
   ]
  },
  {
   "cell_type": "code",
   "execution_count": null,
   "id": "9600a2dd",
   "metadata": {},
   "outputs": [
    {
     "name": "stdout",
     "output_type": "stream",
     "text": [
      "[1 2 3 4 5 6]\n",
      "[0 1 0 1 2 2]\n",
      "Means: [2.  3.  5.5]\n"
     ]
    }
   ],
   "source": [
    "D = np.array([1, 2, 3, 4, 5, 6])\n",
    "S = np.array([0, 1, 0, 1, 2, 2])  \n",
    "unique_indices, counts = np.unique(S, return_counts=True)\n",
    "means = np.bincount(S, weights=D) / counts\n",
    "print( D)\n",
    "print( S)\n",
    "print(\"Means:\", means)"
   ]
  },
  {
   "cell_type": "markdown",
   "id": "a5e316db",
   "metadata": {},
   "source": [
    "#### 69. How to get the diagonal of a dot product? (★★★)"
   ]
  },
  {
   "cell_type": "code",
   "execution_count": null,
   "id": "94735dbd",
   "metadata": {},
   "outputs": [
    {
     "name": "stdout",
     "output_type": "stream",
     "text": [
      "A:\n",
      "[[1 5 6]\n",
      " [8 8 8]\n",
      " [4 5 3]]\n",
      "\n",
      "B:\n",
      "[[6 2 4]\n",
      " [2 8 1]\n",
      " [8 7 4]]\n",
      "\n",
      "A x B:\n",
      "[[ 64  84  33]\n",
      " [128 136  72]\n",
      " [ 58  69  33]]\n",
      "\n",
      "Diagonal Elements of the Dot Product:\n",
      "[ 64 136  33]\n"
     ]
    }
   ],
   "source": [
    "A = np.random.randint(1, 10, (3, 3))\n",
    "B = np.random.randint(1, 10, (3, 3))\n",
    "print(\"A:\")\n",
    "print(A)\n",
    "print(\"\\nB:\")\n",
    "print(B)\n",
    "print(\"\\nA x B:\")\n",
    "print(np.dot(A, B))\n",
    "print(\"\\nDiagonal Elements of the Dot Product:\")\n",
    "print(np.diag(np.dot(A, B)))"
   ]
  },
  {
   "cell_type": "markdown",
   "id": "de727a7b",
   "metadata": {},
   "source": [
    "#### 70. Consider the vector [1, 2, 3, 4, 5], how to build a new vector with 3 consecutive zeros interleaved between each value? (★★★)"
   ]
  },
  {
   "cell_type": "code",
   "execution_count": null,
   "id": "982be812",
   "metadata": {},
   "outputs": [
    {
     "name": "stdout",
     "output_type": "stream",
     "text": [
      "[1. 0. 0. 2. 0. 0. 3. 0. 0. 4. 0. 0. 5.]\n"
     ]
    }
   ],
   "source": [
    "vector = np.array([1, 2, 3, 4, 5])\n",
    "zeros = 2\n",
    "new = np.zeros(len(vector) + (len(vector)-1)*(zeros))\n",
    "new[::zeros+1] = vector\n",
    "print(new)"
   ]
  },
  {
   "cell_type": "markdown",
   "id": "a9a73d6b",
   "metadata": {},
   "source": [
    "#### 71. Consider an array of dimension (5,5,3), how to mulitply it by an array with dimensions (5,5)? (★★★)"
   ]
  },
  {
   "cell_type": "code",
   "execution_count": null,
   "id": "282a90cc",
   "metadata": {},
   "outputs": [
    {
     "name": "stdout",
     "output_type": "stream",
     "text": [
      "5, 5, 3:\n",
      "[[[2 3 5]\n",
      "  [3 6 5]\n",
      "  [7 4 2]\n",
      "  [5 5 1]\n",
      "  [8 8 5]]\n",
      "\n",
      " [[8 2 5]\n",
      "  [7 9 6]\n",
      "  [1 4 2]\n",
      "  [6 4 4]\n",
      "  [6 6 5]]\n",
      "\n",
      " [[4 8 1]\n",
      "  [8 4 3]\n",
      "  [8 3 6]\n",
      "  [4 3 9]\n",
      "  [9 5 3]]\n",
      "\n",
      " [[3 4 3]\n",
      "  [1 8 6]\n",
      "  [9 6 2]\n",
      "  [1 2 9]\n",
      "  [1 4 8]]\n",
      "\n",
      " [[4 7 2]\n",
      "  [9 6 8]\n",
      "  [6 2 7]\n",
      "  [5 4 6]\n",
      "  [7 5 8]]]\n",
      "\n",
      "5, 5 x 5, 5, 3:\n",
      "[[[18 27 45]\n",
      "  [21 42 35]\n",
      "  [21 12  6]\n",
      "  [40 40  8]\n",
      "  [16 16 10]]\n",
      "\n",
      " [[24  6 15]\n",
      "  [35 45 30]\n",
      "  [ 3 12  6]\n",
      "  [36 24 24]\n",
      "  [30 30 25]]\n",
      "\n",
      " [[ 8 16  2]\n",
      "  [24 12  9]\n",
      "  [64 24 48]\n",
      "  [ 8  6 18]\n",
      "  [63 35 21]]\n",
      "\n",
      " [[12 16 12]\n",
      "  [ 8 64 48]\n",
      "  [72 48 16]\n",
      "  [ 6 12 54]\n",
      "  [ 3 12 24]]\n",
      "\n",
      " [[32 56 16]\n",
      "  [ 9  6  8]\n",
      "  [12  4 14]\n",
      "  [30 24 36]\n",
      "  [63 45 72]]]\n"
     ]
    }
   ],
   "source": [
    "array_5_5_3 = np.random.randint(1, 10, (5, 5, 3))\n",
    "array_5_5 = np.random.randint(1, 10, (5, 5))\n",
    "print(\"5, 5, 3:\")\n",
    "print(array_5_5_3)\n",
    "print(\"\\n5, 5 x 5, 5, 3:\")\n",
    "print(array_5_5_3 * np.expand_dims(array_5_5, axis=-1))"
   ]
  },
  {
   "cell_type": "markdown",
   "id": "a951c78f",
   "metadata": {},
   "source": [
    "#### 72. How to swap two rows of an array? (★★★)"
   ]
  },
  {
   "cell_type": "code",
   "execution_count": null,
   "id": "e29b3fde",
   "metadata": {},
   "outputs": [
    {
     "name": "stdout",
     "output_type": "stream",
     "text": [
      "[[1 2 3]\n",
      " [4 5 6]\n",
      " [7 8 9]]\n",
      "\n",
      " [[4 5 6]\n",
      " [1 2 3]\n",
      " [7 8 9]]\n"
     ]
    }
   ],
   "source": [
    "arr = np.array([[1, 2, 3],\n",
    "                  [4, 5, 6],\n",
    "                  [7, 8, 9]])\n",
    "print(arr)\n",
    "arr[[0,1]] = arr[[1,0]]\n",
    "print('\\n', arr)"
   ]
  },
  {
   "cell_type": "markdown",
   "id": "43b639e8",
   "metadata": {},
   "source": [
    "#### 73. Consider a set of 10 triplets describing 10 triangles (with shared vertices), find the set of unique line segments composing all the  triangles (★★★)"
   ]
  },
  {
   "cell_type": "code",
   "execution_count": null,
   "id": "147e1034",
   "metadata": {},
   "outputs": [
    {
     "name": "stdout",
     "output_type": "stream",
     "text": [
      "Triplets:\n",
      "[[[14  4]\n",
      "  [11  7]\n",
      "  [ 5 18]]\n",
      "\n",
      " [[18  5]\n",
      "  [ 9  2]\n",
      "  [11  7]]\n",
      "\n",
      " [[11 17]\n",
      "  [12  3]\n",
      "  [15 15]]\n",
      "\n",
      " [[19  4]\n",
      "  [14 11]\n",
      "  [10 16]]\n",
      "\n",
      " [[ 1  7]\n",
      "  [ 2  6]\n",
      "  [14 14]]\n",
      "\n",
      " [[ 8  3]\n",
      "  [19  8]\n",
      "  [12 14]]\n",
      "\n",
      " [[ 3 18]\n",
      "  [14  9]\n",
      "  [18 15]]\n",
      "\n",
      " [[19 17]\n",
      "  [12  6]\n",
      "  [ 1 12]]\n",
      "\n",
      " [[ 9 11]\n",
      "  [ 1 19]\n",
      "  [15 13]]\n",
      "\n",
      " [[ 2  3]\n",
      "  [ 8 18]\n",
      "  [ 6 17]]]\n",
      "\n",
      "Unique segments:\n",
      "[[ 1  7]\n",
      " [ 1 12]\n",
      " [ 1 19]\n",
      " [ 2  3]\n",
      " [ 2  6]\n",
      " [ 3 18]\n",
      " [ 5 18]\n",
      " [ 6 17]\n",
      " [ 8  3]\n",
      " [ 8 18]\n",
      " [ 9  2]\n",
      " [ 9 11]\n",
      " [10 16]\n",
      " [11  7]\n",
      " [11 17]\n",
      " [12  3]\n",
      " [12  6]\n",
      " [12 14]\n",
      " [14  4]\n",
      " [14  9]\n",
      " [14 11]\n",
      " [14 14]\n",
      " [15 13]\n",
      " [15 15]\n",
      " [18  5]\n",
      " [18 15]\n",
      " [19  4]\n",
      " [19  8]\n",
      " [19 17]]\n"
     ]
    }
   ],
   "source": [
    "triplets = np.random.randint(1, 20, (10, 3, 2)) \n",
    "segments = triplets[:, [0, 1, 1, 2], :].reshape(-1, 2)\n",
    "unique_segments = np.unique(segments, axis=0)\n",
    "print(\"Triplets:\")\n",
    "print(triplets)\n",
    "print(\"\\nUnique segments:\")\n",
    "print(unique_segments)"
   ]
  },
  {
   "cell_type": "markdown",
   "id": "d41de585",
   "metadata": {},
   "source": [
    "#### 74. Given a sorted array C that corresponds to a bincount, how to produce an array A such that np.bincount(A) == C? (★★★)"
   ]
  },
  {
   "cell_type": "code",
   "execution_count": null,
   "id": "5f5d6e36",
   "metadata": {},
   "outputs": [
    {
     "name": "stdout",
     "output_type": "stream",
     "text": [
      "[1 2 3 3 4 4 6]\n"
     ]
    }
   ],
   "source": [
    "C = np.bincount([1,2,3,3,4,4,6])\n",
    "A = np.repeat(np.arange(len(C)), C)\n",
    "print(A)"
   ]
  },
  {
   "cell_type": "markdown",
   "id": "b50adf7c",
   "metadata": {},
   "source": [
    "#### 75. How to compute averages using a sliding window over an array? (★★★)"
   ]
  },
  {
   "cell_type": "code",
   "execution_count": null,
   "id": "e631a9d2",
   "metadata": {},
   "outputs": [
    {
     "name": "stdout",
     "output_type": "stream",
     "text": [
      "[3 6 2 8 4 7 1 5]\n",
      "[3.66666667 5.33333333 4.66666667 6.33333333 4.         4.33333333]\n"
     ]
    }
   ],
   "source": [
    "def sliding_window(arr, window_size):\n",
    "    cumsum = np.cumsum(arr)\n",
    "    cumsum[window_size:] = cumsum[window_size:] - cumsum[:-window_size]\n",
    "    return cumsum[window_size - 1:] / window_size\n",
    "arr = np.array([3, 6, 2, 8, 4, 7, 1, 5])\n",
    "window_size = 3\n",
    "print(arr)\n",
    "print(sliding_window(arr, window_size))"
   ]
  },
  {
   "cell_type": "markdown",
   "id": "1ab4c50d",
   "metadata": {},
   "source": [
    "#### 76. Consider a one-dimensional array Z, build a two-dimensional array whose first row is (Z[0],Z[1],Z[2]) and each subsequent row is  shifted by 1 (last row should be (Z[-3],Z[-2],Z[-1]) (★★★)"
   ]
  },
  {
   "cell_type": "code",
   "execution_count": null,
   "id": "3ccfe2c0",
   "metadata": {},
   "outputs": [
    {
     "name": "stdout",
     "output_type": "stream",
     "text": [
      "[1 2 3 4 5 6]\n",
      "\n",
      " [[1 2 3]\n",
      " [2 3 4]\n",
      " [3 4 5]\n",
      " [4 5 6]]\n"
     ]
    }
   ],
   "source": [
    "Z = np.array([1, 2, 3, 4, 5, 6])\n",
    "cols = 3\n",
    "rows = len(Z) - cols + 1\n",
    "result = np.lib.stride_tricks.as_strided(Z, shape=(rows, cols), strides=(Z.strides[0], Z.strides[0]))\n",
    "print(Z)\n",
    "print('\\n', result)"
   ]
  },
  {
   "cell_type": "markdown",
   "id": "5b4fe59d",
   "metadata": {},
   "source": [
    "#### 77. How to negate a boolean, or to change the sign of a float inplace? (★★★)"
   ]
  },
  {
   "cell_type": "code",
   "execution_count": null,
   "id": "3c2373ff",
   "metadata": {},
   "outputs": [
    {
     "name": "stdout",
     "output_type": "stream",
     "text": [
      "Boolean: [ True False  True False]\n",
      "Negated boolean: [False  True False  True]\n",
      "\n",
      "Float Array: [ 1.5 -2.7  3.  -4.2]\n",
      "Negated float: [-1.5  2.7 -3.   4.2]\n"
     ]
    }
   ],
   "source": [
    "bool_array = np.array([True, False, True, False])\n",
    "neg_bool_array = np.logical_not(bool_array)\n",
    "print(\"Boolean:\", bool_array)\n",
    "print(\"Negated boolean:\", neg_bool_array)\n",
    "# /////////////\n",
    "float_array = np.array([1.5, -2.7, 3.0, -4.2])\n",
    "neg_float_array =float_array* -1\n",
    "print(\"\\nFloat Array:\", float_array)\n",
    "print(\"Negated float:\", neg_float_array)"
   ]
  },
  {
   "cell_type": "markdown",
   "id": "119ab5af",
   "metadata": {},
   "source": [
    "#### 78. Consider 2 sets of points P0,P1 describing lines (2d) and a point p, how to compute distance from p to each line i (P0[i],P1[i])? (★★★)"
   ]
  },
  {
   "cell_type": "code",
   "execution_count": null,
   "id": "1d8d06dc",
   "metadata": {},
   "outputs": [
    {
     "name": "stdout",
     "output_type": "stream",
     "text": [
      "[0. 0. 0.]\n"
     ]
    }
   ],
   "source": [
    "def distance_to_lines(P0, P1, p):\n",
    "    v = P1 - P0\n",
    "    w = p - P0\n",
    "    c1 = np.sum(w * v, axis=1)\n",
    "    c2 = np.sum(v * v, axis=1)\n",
    "    b = c1 / c2\n",
    "    pb = P0 + b[:, np.newaxis] * v\n",
    "    distances = np.linalg.norm(p - pb, axis=1)\n",
    "    return distances\n",
    "\n",
    "P0 = np.array([[1, 2], [3, 4], [5, 6]])\n",
    "P1 = np.array([[4, 5], [6, 7], [8, 9]])\n",
    "p = np.array([3, 4])\n",
    "distances = distance_to_lines(P0, P1, p)\n",
    "print(distances)"
   ]
  },
  {
   "cell_type": "markdown",
   "id": "e5e7f323",
   "metadata": {},
   "source": [
    "#### 79. Consider 2 sets of points P0,P1 describing lines (2d) and a set of points P, how to compute distance from each point j (P[j]) to each line i (P0[i],P1[i])? (★★★)"
   ]
  },
  {
   "cell_type": "code",
   "execution_count": null,
   "id": "d0ce77e2",
   "metadata": {},
   "outputs": [
    {
     "name": "stdout",
     "output_type": "stream",
     "text": [
      "[[0.2 0.  0. ]\n",
      " [0.2 0.  0. ]]\n"
     ]
    }
   ],
   "source": [
    "def distance_from_points_to_lines(P0, P1, P):\n",
    "    v = P1 - P0\n",
    "    P_reshaped = P[:, np.newaxis, :]\n",
    "    w = P_reshaped - P0\n",
    "    c1 = np.sum(w * v, axis=2)\n",
    "    c2 = np.sum(v * v, axis=1)\n",
    "    b = c1 / c2\n",
    "    nearest_points = P0[np.newaxis, :, :] + b[:, :, np.newaxis] * v\n",
    "    distances = np.linalg.norm(nearest_points - P_reshaped, axis=2)\n",
    "    return distances\n",
    "P0 = np.array([[1, 1], [2, 3], [4, 5]])  \n",
    "P1 = np.array([[4, 5], [6, 7], [8, 9]])  \n",
    "P = np.array([[3, 4], [5, 6]])  \n",
    "distances = distance_from_points_to_lines(P0, P1, P)\n",
    "print(distances)"
   ]
  },
  {
   "cell_type": "markdown",
   "id": "9b9d03eb",
   "metadata": {},
   "source": [
    "#### 80. Consider an arbitrary array, write a function that extract a subpart with a fixed shape and centered on a given element (pad with a `fill` value when necessary) (★★★)"
   ]
  },
  {
   "cell_type": "code",
   "execution_count": null,
   "id": "ec2b7ae3",
   "metadata": {},
   "outputs": [
    {
     "name": "stdout",
     "output_type": "stream",
     "text": [
      "[[9 8 3 4 3 4 5]\n",
      " [1 5 8 7 7 2 3]\n",
      " [8 9 1 3 7 8 6]\n",
      " [5 2 8 8 4 4 6]\n",
      " [6 4 2 2 1 8 4]\n",
      " [7 4 1 6 3 4 3]]\n",
      "\n",
      " [[7 8 6]\n",
      " [4 4 6]\n",
      " [1 8 4]]\n"
     ]
    }
   ],
   "source": [
    "def extract_subpart(arr, shape, center, fill=0):\n",
    "    half = np.asarray(shape) // 2\n",
    "    start = np.maximum(center - half, 0)\n",
    "    end = np.minimum(center + half + np.mod(shape, 2), arr.shape)\n",
    "    sub = np.full(shape, fill, dtype=arr.dtype)\n",
    "    sub_start = np.maximum(half - center, 0)\n",
    "    sub_end = shape - np.maximum(center + half - arr.shape, 0)\n",
    "    sub[sub_start[0]:sub_end[0], sub_start[1]:sub_end[1]] = \\\n",
    "arr[start[0]:end[0], start[1]:end[1]]\n",
    "    return sub\n",
    "arr = np.random.randint(1, 10, (6, 7))\n",
    "subpart_shape = (3, 3)\n",
    "center_point = (3, 5)\n",
    "result = extract_subpart(arr, subpart_shape, center_point)\n",
    "print(arr)\n",
    "print('\\n', result)"
   ]
  },
  {
   "cell_type": "markdown",
   "id": "27794913",
   "metadata": {},
   "source": [
    "#### 81. Consider an array Z = [1,2,3,4,5,6,7,8,9,10,11,12,13,14], how to generate an array R = [[1,2,3,4], [2,3,4,5], [3,4,5,6], ..., [11,12,13,14]]? (★★★)"
   ]
  },
  {
   "cell_type": "code",
   "execution_count": null,
   "id": "f3e7878b",
   "metadata": {},
   "outputs": [
    {
     "name": "stdout",
     "output_type": "stream",
     "text": [
      "[ 1  2  3  4  5  6  7  8  9 10 11 12 13 14]\n",
      "[[ 1  2  3  4]\n",
      " [ 2  3  4  5]\n",
      " [ 3  4  5  6]\n",
      " [ 4  5  6  7]\n",
      " [ 5  6  7  8]\n",
      " [ 6  7  8  9]\n",
      " [ 7  8  9 10]\n",
      " [ 8  9 10 11]\n",
      " [ 9 10 11 12]\n",
      " [10 11 12 13]\n",
      " [11 12 13 14]]\n"
     ]
    }
   ],
   "source": [
    "from numpy.lib.stride_tricks import sliding_window_view\n",
    "Z = np.arange(1, 15, dtype=np.uint32)\n",
    "print(sliding_window_view(Z, window_shape=4))\n"
   ]
  },
  {
   "cell_type": "markdown",
   "id": "fae786f5",
   "metadata": {},
   "source": [
    "#### 82. Compute a matrix rank (★★★)"
   ]
  },
  {
   "cell_type": "code",
   "execution_count": null,
   "id": "64b9615b",
   "metadata": {},
   "outputs": [
    {
     "name": "stdout",
     "output_type": "stream",
     "text": [
      "[[1 2 3]\n",
      " [4 5 6]\n",
      " [7 8 9]]\n",
      "\n",
      "Rank: 2\n"
     ]
    }
   ],
   "source": [
    "matrix = np.array([[1, 2, 3],\n",
    "                   [4, 5, 6],\n",
    "                   [7, 8, 9]])\n",
    "print(matrix)\n",
    "print(\"\\nRank:\", np.linalg.matrix_rank(matrix))"
   ]
  },
  {
   "cell_type": "markdown",
   "id": "c85aa0b9",
   "metadata": {},
   "source": [
    "#### 83. How to find the most frequent value in an array?"
   ]
  },
  {
   "cell_type": "code",
   "execution_count": null,
   "id": "056be85b",
   "metadata": {},
   "outputs": [
    {
     "name": "stdout",
     "output_type": "stream",
     "text": [
      "[1 3 5 3 7 5 3 7 5 9 5]\n",
      "Most frequent value: 5\n"
     ]
    }
   ],
   "source": [
    "arr = np.array([1, 3, 5, 3, 7, 5, 3, 7, 5, 9, 5])\n",
    "print( arr)\n",
    "print(\"Most frequent value:\",np.bincount(arr).argmax())"
   ]
  },
  {
   "cell_type": "markdown",
   "id": "0ff2344d",
   "metadata": {},
   "source": [
    "#### 84. Extract all the contiguous 3x3 blocks from a random 10x10 matrix (★★★)"
   ]
  },
  {
   "cell_type": "code",
   "execution_count": null,
   "id": "d58b1318",
   "metadata": {},
   "outputs": [
    {
     "name": "stdout",
     "output_type": "stream",
     "text": [
      "[[1 6 9]\n",
      " [6 8 0]\n",
      " [5 9 0]] \n",
      "\n",
      "[[6 9 3]\n",
      " [8 0 9]\n",
      " [9 0 6]] \n",
      "\n",
      "[[9 3 1]\n",
      " [0 9 2]\n",
      " [0 6 1]] \n",
      "\n",
      "[[3 1 1]\n",
      " [9 2 9]\n",
      " [6 1 6]] \n",
      "\n",
      "[[1 1 8]\n",
      " [2 9 0]\n",
      " [1 6 4]] \n",
      "\n",
      "[[1 8 4]\n",
      " [9 0 5]\n",
      " [6 4 6]] \n",
      "\n",
      "[[8 4 9]\n",
      " [0 5 1]\n",
      " [4 6 4]] \n",
      "\n",
      "[[4 9 8]\n",
      " [5 1 5]\n",
      " [6 4 5]] \n",
      "\n",
      "[[6 8 0]\n",
      " [5 9 0]\n",
      " [5 4 1]] \n",
      "\n",
      "[[8 0 9]\n",
      " [9 0 6]\n",
      " [4 1 9]] \n",
      "\n",
      "[[0 9 2]\n",
      " [0 6 1]\n",
      " [1 9 6]] \n",
      "\n",
      "[[9 2 9]\n",
      " [6 1 6]\n",
      " [9 6 4]] \n",
      "\n",
      "[[2 9 0]\n",
      " [1 6 4]\n",
      " [6 4 4]] \n",
      "\n",
      "[[9 0 5]\n",
      " [6 4 6]\n",
      " [4 4 1]] \n",
      "\n",
      "[[0 5 1]\n",
      " [4 6 4]\n",
      " [4 1 6]] \n",
      "\n",
      "[[5 1 5]\n",
      " [6 4 5]\n",
      " [1 6 1]] \n",
      "\n",
      "[[5 9 0]\n",
      " [5 4 1]\n",
      " [5 4 5]] \n",
      "\n",
      "[[9 0 6]\n",
      " [4 1 9]\n",
      " [4 5 5]] \n",
      "\n",
      "[[0 6 1]\n",
      " [1 9 6]\n",
      " [5 5 3]] \n",
      "\n",
      "[[6 1 6]\n",
      " [9 6 4]\n",
      " [5 3 9]] \n",
      "\n",
      "[[1 6 4]\n",
      " [6 4 4]\n",
      " [3 9 2]] \n",
      "\n",
      "[[6 4 6]\n",
      " [4 4 1]\n",
      " [9 2 0]] \n",
      "\n",
      "[[4 6 4]\n",
      " [4 1 6]\n",
      " [2 0 6]] \n",
      "\n",
      "[[6 4 5]\n",
      " [1 6 1]\n",
      " [0 6 9]] \n",
      "\n",
      "[[5 4 1]\n",
      " [5 4 5]\n",
      " [3 9 8]] \n",
      "\n",
      "[[4 1 9]\n",
      " [4 5 5]\n",
      " [9 8 3]] \n",
      "\n",
      "[[1 9 6]\n",
      " [5 5 3]\n",
      " [8 3 1]] \n",
      "\n",
      "[[9 6 4]\n",
      " [5 3 9]\n",
      " [3 1 8]] \n",
      "\n",
      "[[6 4 4]\n",
      " [3 9 2]\n",
      " [1 8 3]] \n",
      "\n",
      "[[4 4 1]\n",
      " [9 2 0]\n",
      " [8 3 5]] \n",
      "\n",
      "[[4 1 6]\n",
      " [2 0 6]\n",
      " [3 5 9]] \n",
      "\n",
      "[[1 6 1]\n",
      " [0 6 9]\n",
      " [5 9 4]] \n",
      "\n",
      "[[5 4 5]\n",
      " [3 9 8]\n",
      " [2 3 5]] \n",
      "\n",
      "[[4 5 5]\n",
      " [9 8 3]\n",
      " [3 5 1]] \n",
      "\n",
      "[[5 5 3]\n",
      " [8 3 1]\n",
      " [5 1 8]] \n",
      "\n",
      "[[5 3 9]\n",
      " [3 1 8]\n",
      " [1 8 3]] \n",
      "\n",
      "[[3 9 2]\n",
      " [1 8 3]\n",
      " [8 3 9]] \n",
      "\n",
      "[[9 2 0]\n",
      " [8 3 5]\n",
      " [3 9 0]] \n",
      "\n",
      "[[2 0 6]\n",
      " [3 5 9]\n",
      " [9 0 2]] \n",
      "\n",
      "[[0 6 9]\n",
      " [5 9 4]\n",
      " [0 2 0]] \n",
      "\n",
      "[[3 9 8]\n",
      " [2 3 5]\n",
      " [9 7 9]] \n",
      "\n",
      "[[9 8 3]\n",
      " [3 5 1]\n",
      " [7 9 4]] \n",
      "\n",
      "[[8 3 1]\n",
      " [5 1 8]\n",
      " [9 4 0]] \n",
      "\n",
      "[[3 1 8]\n",
      " [1 8 3]\n",
      " [4 0 4]] \n",
      "\n",
      "[[1 8 3]\n",
      " [8 3 9]\n",
      " [0 4 9]] \n",
      "\n",
      "[[8 3 5]\n",
      " [3 9 0]\n",
      " [4 9 3]] \n",
      "\n",
      "[[3 5 9]\n",
      " [9 0 2]\n",
      " [9 3 1]] \n",
      "\n",
      "[[5 9 4]\n",
      " [0 2 0]\n",
      " [3 1 5]] \n",
      "\n",
      "[[2 3 5]\n",
      " [9 7 9]\n",
      " [5 1 8]] \n",
      "\n",
      "[[3 5 1]\n",
      " [7 9 4]\n",
      " [1 8 2]] \n",
      "\n",
      "[[5 1 8]\n",
      " [9 4 0]\n",
      " [8 2 8]] \n",
      "\n",
      "[[1 8 3]\n",
      " [4 0 4]\n",
      " [2 8 6]] \n",
      "\n",
      "[[8 3 9]\n",
      " [0 4 9]\n",
      " [8 6 8]] \n",
      "\n",
      "[[3 9 0]\n",
      " [4 9 3]\n",
      " [6 8 1]] \n",
      "\n",
      "[[9 0 2]\n",
      " [9 3 1]\n",
      " [8 1 4]] \n",
      "\n",
      "[[0 2 0]\n",
      " [3 1 5]\n",
      " [1 4 3]] \n",
      "\n",
      "[[9 7 9]\n",
      " [5 1 8]\n",
      " [3 9 8]] \n",
      "\n",
      "[[7 9 4]\n",
      " [1 8 2]\n",
      " [9 8 3]] \n",
      "\n",
      "[[9 4 0]\n",
      " [8 2 8]\n",
      " [8 3 7]] \n",
      "\n",
      "[[4 0 4]\n",
      " [2 8 6]\n",
      " [3 7 2]] \n",
      "\n",
      "[[0 4 9]\n",
      " [8 6 8]\n",
      " [7 2 3]] \n",
      "\n",
      "[[4 9 3]\n",
      " [6 8 1]\n",
      " [2 3 1]] \n",
      "\n",
      "[[9 3 1]\n",
      " [8 1 4]\n",
      " [3 1 9]] \n",
      "\n",
      "[[3 1 5]\n",
      " [1 4 3]\n",
      " [1 9 9]] \n",
      "\n"
     ]
    }
   ],
   "source": [
    "matrix = np.random.randint(0, 10, (10, 10))\n",
    "blocks = [matrix[i:i+3, j:j+3] for i in range(8) for j in range(8)]\n",
    "for block in blocks:\n",
    "    print(block, \"\\n\")"
   ]
  },
  {
   "cell_type": "markdown",
   "id": "1a18b263",
   "metadata": {},
   "source": [
    "#### 85. Create a 2D array subclass such that Z[i,j] == Z[j,i] (★★★)"
   ]
  },
  {
   "cell_type": "code",
   "execution_count": null,
   "id": "87f17adc",
   "metadata": {},
   "outputs": [
    {
     "name": "stdout",
     "output_type": "stream",
     "text": [
      "[[0 3 0]\n",
      " [3 0 5]\n",
      " [0 5 0]]\n"
     ]
    }
   ],
   "source": [
    "class SymmetricArray(np.ndarray):\n",
    "    def __new__(cls, shape, dtype=int):\n",
    "        return np.zeros(shape, dtype=dtype).view(cls)\n",
    "    def __setitem__(self, index, value):\n",
    "        i, j = index\n",
    "        super().__setitem__((i, j), value)\n",
    "        super().__setitem__((j, i), value)\n",
    "Z = SymmetricArray((3, 3), dtype=int)\n",
    "Z[0, 1] = 3\n",
    "Z[1, 2] = 5\n",
    "print(Z)"
   ]
  },
  {
   "cell_type": "markdown",
   "id": "f85f2cad",
   "metadata": {},
   "source": [
    "#### 86. Consider a set of p matrices wich shape (n,n) and a set of p vectors with shape (n,1). How to compute the sum of of the p matrix products at once? (result has shape (n,1)) (★★★)"
   ]
  },
  {
   "cell_type": "code",
   "execution_count": null,
   "id": "8d230557",
   "metadata": {},
   "outputs": [
    {
     "name": "stdout",
     "output_type": "stream",
     "text": [
      "[[312]\n",
      " [352]\n",
      " [218]\n",
      " [378]]\n"
     ]
    }
   ],
   "source": [
    "p = 3\n",
    "n = 4\n",
    "matrices = np.random.randint(1, 10, size=(p, n, n))\n",
    "vectors = np.random.randint(1, 10, size=(p, n, 1))  \n",
    "print(np.tensordot(matrices, vectors, axes=[[0, 2], [0, 1]]))"
   ]
  },
  {
   "cell_type": "markdown",
   "id": "5afb72c8",
   "metadata": {},
   "source": [
    "#### 87. Consider a 16x16 array, how to get the block-sum (block size is 4x4)? (★★★)"
   ]
  },
  {
   "cell_type": "code",
   "execution_count": null,
   "id": "e86f47a9",
   "metadata": {},
   "outputs": [
    {
     "name": "stdout",
     "output_type": "stream",
     "text": [
      "[[6 9 4 5 1 2 1 9 8 2 4 5 8 4 4 5]\n",
      " [5 2 2 4 1 9 3 6 9 4 1 5 4 2 1 8]\n",
      " [1 5 4 5 6 9 3 6 1 5 9 4 7 1 5 5]\n",
      " [2 2 1 7 8 9 8 5 2 7 7 1 6 5 8 5]\n",
      " [6 5 7 2 6 1 2 2 2 5 7 1 5 7 3 3]\n",
      " [1 8 7 7 8 5 1 2 4 9 3 8 7 7 5 1]\n",
      " [7 8 7 1 8 8 1 1 3 5 9 1 9 9 9 8]\n",
      " [5 4 7 6 9 2 5 7 4 5 4 6 8 9 4 3]\n",
      " [9 4 9 6 5 2 2 5 4 3 1 3 8 3 7 5]\n",
      " [8 5 1 3 6 4 3 3 2 3 5 7 9 1 4 7]\n",
      " [9 8 2 3 2 6 5 2 1 9 7 8 9 7 3 8]\n",
      " [7 9 9 5 6 9 6 3 6 2 4 3 8 1 7 8]\n",
      " [7 1 3 2 7 7 6 2 4 5 3 3 9 9 3 2]\n",
      " [9 2 8 2 9 5 8 9 7 4 5 5 3 9 9 3]\n",
      " [3 3 9 9 7 3 6 5 1 9 5 9 9 4 1 2]\n",
      " [9 6 9 6 6 1 4 5 8 2 3 5 1 8 1 6]]\n",
      "\n",
      " [[77 66 76 83]\n",
      " [64 83 94 88]\n",
      " [76 71 89 93]\n",
      " [73 97 85 80]]\n"
     ]
    }
   ],
   "source": [
    "array = np.random.randint(1, 10, (16, 16))\n",
    "block_size = 4\n",
    "reshaped_array = array.reshape(4, 4, 4, 4)\n",
    "print(array)\n",
    "print(\"\\n\", reshaped_array.sum(axis=(2, 3)))"
   ]
  },
  {
   "cell_type": "markdown",
   "id": "6094d37c",
   "metadata": {},
   "source": [
    "#### 88. How to implement the Game of Life using numpy arrays? (★★★)"
   ]
  },
  {
   "cell_type": "code",
   "execution_count": null,
   "id": "a93e715f",
   "metadata": {},
   "outputs": [],
   "source": [
    "def iterate(grid):\n",
    "    N = (grid[0:-2,0:-2] + grid[0:-2,1:-1] + grid[0:-2,2:] +\n",
    "         grid[1:-1,0:-2]                + grid[1:-1,2:] +\n",
    "         grid[2:  ,0:-2] + grid[2:  ,1:-1] + grid[2:  ,2:])\n",
    "\n",
    "    birth = (N==3) & (grid[1:-1,1:-1]==0)\n",
    "    survive = ((N==2) | (N==3)) & (grid[1:-1,1:-1]==1)\n",
    "    grid.fill(0)\n",
    "    grid[1:-1,1:-1][birth | survive] = 1\n",
    "    return grid\n",
    "\n",
    "grid = np.random.randint(0, 2, (50, 50))\n",
    "for i in range(100):\n",
    "    grid = iterate(grid)"
   ]
  },
  {
   "cell_type": "markdown",
   "id": "a173cf96",
   "metadata": {},
   "source": [
    "#### 89. How to get the n largest values of an array (★★★)"
   ]
  },
  {
   "cell_type": "code",
   "execution_count": null,
   "id": "b7c2ff35",
   "metadata": {},
   "outputs": [
    {
     "name": "stdout",
     "output_type": "stream",
     "text": [
      "[ 8  9 12]\n"
     ]
    }
   ],
   "source": [
    "arr = np.array([3, 1, 7, 12, 9, 4, 8, 6])\n",
    "n = 3\n",
    "print(arr[np.argpartition(arr, -n)[-n:]])"
   ]
  },
  {
   "cell_type": "markdown",
   "id": "15db2d01",
   "metadata": {},
   "source": [
    "#### 90. Given an arbitrary number of vectors, build the cartesian product (every combinations of every item) (★★★)"
   ]
  },
  {
   "cell_type": "code",
   "execution_count": null,
   "id": "a9a4633d",
   "metadata": {},
   "outputs": [
    {
     "name": "stdout",
     "output_type": "stream",
     "text": [
      "[['1' 'a' 'True']\n",
      " ['1' 'b' 'True']\n",
      " ['2' 'a' 'True']\n",
      " ['2' 'b' 'True']\n",
      " ['3' 'a' 'True']\n",
      " ['3' 'b' 'True']\n",
      " ['1' 'a' 'False']\n",
      " ['1' 'b' 'False']\n",
      " ['2' 'a' 'False']\n",
      " ['2' 'b' 'False']\n",
      " ['3' 'a' 'False']\n",
      " ['3' 'b' 'False']]\n"
     ]
    }
   ],
   "source": [
    "vector1 = np.array([1, 2, 3])\n",
    "vector2 = np.array(['a', 'b'])\n",
    "vector3 = np.array([True, False])\n",
    "result = np.array(np.meshgrid(vector1, vector2, vector3)).T.reshape(-1, len([vector1, vector2, vector3]))\n",
    "print(result)"
   ]
  },
  {
   "cell_type": "markdown",
   "id": "5d94d1ef",
   "metadata": {},
   "source": [
    "#### 91. How to create a record array from a regular array? (★★★)"
   ]
  },
  {
   "cell_type": "code",
   "execution_count": null,
   "id": "b1dae380",
   "metadata": {},
   "outputs": [
    {
     "name": "stdout",
     "output_type": "stream",
     "text": [
      "[(1, 2., 'Hello') (3, 4., 'World')]\n"
     ]
    }
   ],
   "source": [
    "array = np.array([(1, 2.0, 'Hello'), (3, 4.0, 'World')],\n",
    "                         dtype=[('x', int), ('y', float), ('z', 'U10')])\n",
    "\n",
    "record_array = np.core.records.fromarrays((array['x'], array['y'], array['z']),\n",
    "                                          dtype=array.dtype)\n",
    "\n",
    "print(record_array)"
   ]
  },
  {
   "cell_type": "markdown",
   "id": "114ccc36",
   "metadata": {},
   "source": [
    "#### 92. Consider a large vector Z, compute Z to the power of 3 using 3 different methods (★★★)"
   ]
  },
  {
   "cell_type": "code",
   "execution_count": null,
   "id": "877c65d6",
   "metadata": {},
   "outputs": [],
   "source": [
    "Z = np.random.rand(1000000)\n",
    "method_1 = Z ** 3\n",
    "# ///////\n",
    "method_2 = np.power(Z, 3)\n",
    "# ////////////\n",
    "method_3 = Z * Z * Z"
   ]
  },
  {
   "cell_type": "markdown",
   "id": "d614fee4",
   "metadata": {},
   "source": [
    "#### 93. Consider two arrays A and B of shape (8,3) and (2,2). How to find rows of A that contain elements of each row of B regardless of the order of the elements in B? (★★★)"
   ]
  },
  {
   "cell_type": "code",
   "execution_count": null,
   "id": "e6807a84",
   "metadata": {},
   "outputs": [
    {
     "name": "stdout",
     "output_type": "stream",
     "text": [
      "[3 4 6 7]\n"
     ]
    }
   ],
   "source": [
    "A = np.random.randint(0, 5, (8, 3))\n",
    "B = np.array([[1, 2], [3, -1]])\n",
    "el = (A[..., np.newaxis, np.newaxis] == B)\n",
    "rows = (el.sum(axis=(1,2,3)) >= B.shape[1]).nonzero()[0]\n",
    "print(rows)"
   ]
  },
  {
   "cell_type": "markdown",
   "id": "b0eedca6",
   "metadata": {},
   "source": [
    "#### 94. Considering a 10x3 matrix, extract rows with unequal values (e.g. [2,2,3]) (★★★)"
   ]
  },
  {
   "cell_type": "code",
   "execution_count": null,
   "id": "fc136ce2",
   "metadata": {},
   "outputs": [
    {
     "name": "stdout",
     "output_type": "stream",
     "text": [
      "[[1 3 2]\n",
      " [0 3 1]\n",
      " [0 2 3]\n",
      " [0 0 1]\n",
      " [1 3 0]\n",
      " [0 3 0]\n",
      " [0 0 0]\n",
      " [2 1 2]\n",
      " [2 1 3]\n",
      " [3 2 1]]\n",
      "\n",
      " [[1 3 2]\n",
      " [0 3 1]\n",
      " [0 2 3]\n",
      " [0 0 1]\n",
      " [1 3 0]\n",
      " [0 3 0]\n",
      " [2 1 2]\n",
      " [2 1 3]\n",
      " [3 2 1]]\n"
     ]
    }
   ],
   "source": [
    "matrix = np.random.randint(0, 4, (10, 3))\n",
    "unequal = matrix[~(np.all(matrix[:, 1:] == matrix[:, :-1], axis=1))]\n",
    "print(matrix)\n",
    "print('\\n', unequal)"
   ]
  },
  {
   "cell_type": "markdown",
   "id": "a65ec1cf",
   "metadata": {},
   "source": [
    "#### 95. Convert a vector of ints into a matrix binary representation (★★★)"
   ]
  },
  {
   "cell_type": "code",
   "execution_count": null,
   "id": "323cdf4c",
   "metadata": {},
   "outputs": [
    {
     "name": "stdout",
     "output_type": "stream",
     "text": [
      "[[0 0 0 0 0 0 0 0]\n",
      " [0 0 0 0 0 0 0 1]\n",
      " [0 0 0 0 0 0 1 0]\n",
      " [0 0 0 0 0 0 1 1]\n",
      " [0 0 0 0 1 1 1 1]\n",
      " [0 0 0 1 0 0 0 0]\n",
      " [0 0 1 0 0 0 0 0]\n",
      " [0 1 0 0 0 0 0 0]\n",
      " [1 0 0 0 0 0 0 0]]\n"
     ]
    }
   ],
   "source": [
    "vector = np.array([0, 1, 2, 3, 15, 16, 32, 64, 128], dtype=np.uint8)\n",
    "print(np.unpackbits(vector[:, np.newaxis], axis=1))"
   ]
  },
  {
   "cell_type": "markdown",
   "id": "75b9397f",
   "metadata": {},
   "source": [
    "#### 96. Given a two dimensional array, how to extract unique rows? (★★★)"
   ]
  },
  {
   "cell_type": "code",
   "execution_count": null,
   "id": "9bb56a47",
   "metadata": {},
   "outputs": [
    {
     "name": "stdout",
     "output_type": "stream",
     "text": [
      "[[1 2 3]\n",
      " [4 2 6]\n",
      " [1 2 3]\n",
      " [7 8 9]\n",
      " [4 2 6]]\n",
      "Unique rows:\n",
      "[[1 2 3]\n",
      " [4 2 6]\n",
      " [7 8 9]]\n"
     ]
    }
   ],
   "source": [
    "arr = np.array([[1, 2, 3],\n",
    "                     [4, 2, 6],\n",
    "                     [1, 2, 3],\n",
    "                     [7, 8, 9],\n",
    "                     [4, 2, 6]])\n",
    "print(arr)\n",
    "print(\"Unique rows:\")\n",
    "print(np.unique(arr, axis=0))"
   ]
  },
  {
   "cell_type": "markdown",
   "id": "82aaf21b",
   "metadata": {},
   "source": [
    "#### 97. Considering 2 vectors A & B, write the einsum equivalent of inner, outer, sum, and mul function (★★★)"
   ]
  },
  {
   "cell_type": "code",
   "execution_count": null,
   "id": "cedcefd9",
   "metadata": {},
   "outputs": [
    {
     "name": "stdout",
     "output_type": "stream",
     "text": [
      "Inner product: 32\n",
      "Outer product:\n",
      " [[ 4  5  6]\n",
      " [ 8 10 12]\n",
      " [12 15 18]]\n",
      "A + B: 90\n",
      "Multiplication: [ 4 10 18]\n"
     ]
    }
   ],
   "source": [
    "A = np.array([1, 2, 3])\n",
    "B = np.array([4, 5, 6])\n",
    "inner_product = np.einsum('i,i->', A, B)\n",
    "outer_product = np.einsum('i,j->ij', A, B)\n",
    "sum = np.einsum('i,j->', A, B) \n",
    "mul = np.einsum('i,i->i', A, B)\n",
    "print(\"Inner product:\", inner_product)\n",
    "print(\"Outer product:\\n\", outer_product)\n",
    "print(\"A + B:\", sum)\n",
    "print(\"Multiplication:\", mul)"
   ]
  },
  {
   "cell_type": "markdown",
   "id": "7741e17f",
   "metadata": {},
   "source": [
    "#### 98. Considering a path described by two vectors (X,Y), how to sample it using equidistant samples (★★★)?"
   ]
  },
  {
   "cell_type": "code",
   "execution_count": null,
   "id": "0b2432fe",
   "metadata": {},
   "outputs": [
    {
     "name": "stdout",
     "output_type": "stream",
     "text": [
      "X: [0.         0.22222222 0.44444444 2.44444444 3.22222222 3.22222222\n",
      " 3.22222222 5.44444444 5.44444444 5.44444444]\n",
      "Y: [1.         1.22222222 1.44444444 3.44444444 4.22222222 4.22222222\n",
      " 4.22222222 6.44444444 6.44444444 6.44444444]\n"
     ]
    }
   ],
   "source": [
    "X = np.array([0, 2, 3, 5, 7])\n",
    "Y = np.array([1, 3, 4, 6, 8])\n",
    "dif_X = np.diff(X)\n",
    "dif_Y = np.diff(Y)\n",
    "distances = np.sqrt(dif_X ** 2 + dif_Y ** 2)\n",
    "total_distance = np.sum(distances)\n",
    "num_samples = 10\n",
    "\n",
    "steps = np.linspace(0, total_distance, num_samples)\n",
    "sampled_X = np.zeros(num_samples)\n",
    "sampled_Y = np.zeros(num_samples)\n",
    "for i, step in enumerate(steps):\n",
    "    segment = np.searchsorted(np.cumsum(distances), step)\n",
    "    if segment == 0:\n",
    "        fr = step / total_distance\n",
    "    else:\n",
    "        fraction = (step - np.sum(distances[:segment])) / distances[segment - 1]\n",
    "    sampled_X[i] = X[segment] + fr * dif_X[segment - 1]\n",
    "    sampled_Y[i] = Y[segment] + fr * dif_Y[segment - 1]\n",
    "print(\"X:\", sampled_X)\n",
    "print(\"Y:\", sampled_Y)\n"
   ]
  },
  {
   "cell_type": "markdown",
   "id": "340d6f36",
   "metadata": {},
   "source": [
    "#### 99. Given an integer n and a 2D array X, select from X the rows which can be interpreted as draws from a multinomial distribution with n degrees, i.e., the rows which only contain integers and which sum to n. (★★★)"
   ]
  },
  {
   "cell_type": "code",
   "execution_count": null,
   "id": "a75323ae",
   "metadata": {},
   "outputs": [
    {
     "name": "stdout",
     "output_type": "stream",
     "text": [
      "[[1 2 2]\n",
      " [5 0 0]\n",
      " [2 3 0]]\n"
     ]
    }
   ],
   "source": [
    "n = 5\n",
    "X = np.array([[1, 2, 2],\n",
    "              [0, 3, 4],\n",
    "              [5, 0, 0],\n",
    "              [2, 3, 0]])\n",
    "rows = X[(X.sum(axis=1) == n)]\n",
    "print(rows)"
   ]
  },
  {
   "cell_type": "markdown",
   "id": "19721849",
   "metadata": {},
   "source": [
    "#### 100. Compute bootstrapped 95% confidence intervals for the mean of a 1D array X (i.e., resample the elements of an array with replacement N times, compute the mean of each sample, and then compute percentiles over the means). (★★★)"
   ]
  },
  {
   "cell_type": "code",
   "execution_count": null,
   "id": "87309c6f",
   "metadata": {},
   "outputs": [
    {
     "name": "stdout",
     "output_type": "stream",
     "text": [
      "[ 9.45532715 10.12570297]\n"
     ]
    }
   ],
   "source": [
    "np.random.seed(42)\n",
    "X = np.random.normal(loc=10, scale=2, size=100)\n",
    "N = 1000\n",
    "means = [np.mean(np.random.choice(X, len(X), replace=True)) for _ in range(N)]\n",
    "print(np.percentile(means, [2.5, 97.5]))"
   ]
  }
 ],
 "metadata": {
  "kernelspec": {
   "display_name": "Python 3 (ipykernel)",
   "language": "python",
   "name": "python3"
  },
  "language_info": {
   "codemirror_mode": {
    "name": "ipython",
    "version": 3
   },
   "file_extension": ".py",
   "mimetype": "text/x-python",
   "name": "python",
   "nbconvert_exporter": "python",
   "pygments_lexer": "ipython3",
   "version": "3.11.5"
  }
 },
 "nbformat": 4,
 "nbformat_minor": 5
}
